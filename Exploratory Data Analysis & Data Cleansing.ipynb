{
 "cells": [
  {
   "cell_type": "markdown",
   "metadata": {},
   "source": [
    "## FIT5196-S2-2019 assessment 3\n",
    "\n",
    "\n",
    "Date: 06/10/2019\n",
    "\n",
    "Environment: Python 3.6.5 and Anaconda 4.3.0 (64-bit)\n",
    "\n",
    "Libraries used:\n",
    "* pandas 0.19.2 (for data frame, included in Anaconda Python 3.6) \n",
    "* ast (for getting the values of a column in df as the list of lists (provides tree structure))\n",
    "* operator (for using a set of functions that are similar to intrinsic operators)\n",
    "* sklearn.model_selection, train_test_split (used for splitting the data into train and test sets))\n",
    "* sklearn.linear_model, LinearRegression (used for creating a linear regression model)\n",
    "* seaborn and matplotlib(used used for visualizations)\n"
   ]
  },
  {
   "cell_type": "markdown",
   "metadata": {},
   "source": [
    "## Reading the dirty data file"
   ]
  },
  {
   "cell_type": "code",
   "execution_count": 1,
   "metadata": {},
   "outputs": [],
   "source": [
    "import pandas as pd\n",
    "import matplotlib.pyplot as plt\n",
    "import seaborn as sns\n",
    "import networkx as nx\n",
    "import ast\n",
    "import operator\n",
    "import numpy as np\n",
    "from sklearn.model_selection import train_test_split \n",
    "from sklearn.linear_model import LinearRegression\n",
    "from sklearn import metrics\n",
    "import warnings\n",
    "warnings.filterwarnings('ignore')"
   ]
  },
  {
   "cell_type": "code",
   "execution_count": 2,
   "metadata": {},
   "outputs": [],
   "source": [
    "#reading the three files into three pandas dataframe\n",
    "dirty_data_df = pd.read_csv(\"Group053_dirty_data.csv\")\n",
    "missing_data_df = pd.read_csv(\"Group053_missing_data.csv\")\n",
    "outlier_data_df = pd.read_csv(\"Group053_outlier_data.csv\")"
   ]
  },
  {
   "cell_type": "code",
   "execution_count": 3,
   "metadata": {},
   "outputs": [
    {
     "data": {
      "text/html": [
       "<div>\n",
       "<style scoped>\n",
       "    .dataframe tbody tr th:only-of-type {\n",
       "        vertical-align: middle;\n",
       "    }\n",
       "\n",
       "    .dataframe tbody tr th {\n",
       "        vertical-align: top;\n",
       "    }\n",
       "\n",
       "    .dataframe thead th {\n",
       "        text-align: right;\n",
       "    }\n",
       "</style>\n",
       "<table border=\"1\" class=\"dataframe\">\n",
       "  <thead>\n",
       "    <tr style=\"text-align: right;\">\n",
       "      <th></th>\n",
       "      <th>order_id</th>\n",
       "      <th>date</th>\n",
       "      <th>time</th>\n",
       "      <th>order_type</th>\n",
       "      <th>branch_code</th>\n",
       "      <th>order_items</th>\n",
       "      <th>order_price</th>\n",
       "      <th>customer_lat</th>\n",
       "      <th>customer_lon</th>\n",
       "      <th>customerHasloyalty?</th>\n",
       "      <th>distance_to_customer_KM</th>\n",
       "      <th>delivery_fee</th>\n",
       "    </tr>\n",
       "  </thead>\n",
       "  <tbody>\n",
       "    <tr>\n",
       "      <td>0</td>\n",
       "      <td>ORDK10874</td>\n",
       "      <td>2018-20-01</td>\n",
       "      <td>08:30:25</td>\n",
       "      <td>Breakfast</td>\n",
       "      <td>BK</td>\n",
       "      <td>[('Cereal', 2), ('Pancake', 9), ('Coffee', 10)...</td>\n",
       "      <td>401.25</td>\n",
       "      <td>-37.814642</td>\n",
       "      <td>144.946602</td>\n",
       "      <td>0</td>\n",
       "      <td>9.008</td>\n",
       "      <td>16.555537</td>\n",
       "    </tr>\n",
       "    <tr>\n",
       "      <td>1</td>\n",
       "      <td>ORDX05970</td>\n",
       "      <td>2018-12-30</td>\n",
       "      <td>20:00:00</td>\n",
       "      <td>Breakfast</td>\n",
       "      <td>BK</td>\n",
       "      <td>[('Fish&amp;Chips', 6), ('Shrimp', 8)]</td>\n",
       "      <td>642.00</td>\n",
       "      <td>-37.815923</td>\n",
       "      <td>144.936974</td>\n",
       "      <td>0</td>\n",
       "      <td>10.058</td>\n",
       "      <td>19.548623</td>\n",
       "    </tr>\n",
       "    <tr>\n",
       "      <td>2</td>\n",
       "      <td>ORDJ01346</td>\n",
       "      <td>2018-11-11</td>\n",
       "      <td>18:28:43</td>\n",
       "      <td>Dinner</td>\n",
       "      <td>TP</td>\n",
       "      <td>[('Shrimp', 1), ('Salmon', 3), ('Fish&amp;Chips', ...</td>\n",
       "      <td>554.50</td>\n",
       "      <td>-37.815188</td>\n",
       "      <td>144.945009</td>\n",
       "      <td>0</td>\n",
       "      <td>9.563</td>\n",
       "      <td>15.091978</td>\n",
       "    </tr>\n",
       "    <tr>\n",
       "      <td>3</td>\n",
       "      <td>ORDZ03007</td>\n",
       "      <td>2018-04-19</td>\n",
       "      <td>11:32:57</td>\n",
       "      <td>Breakfast</td>\n",
       "      <td>NS</td>\n",
       "      <td>[('Eggs', 6), ('Coffee', 4)]</td>\n",
       "      <td>162.00</td>\n",
       "      <td>37.816050</td>\n",
       "      <td>144.972315</td>\n",
       "      <td>0</td>\n",
       "      <td>7.902</td>\n",
       "      <td>12.975000</td>\n",
       "    </tr>\n",
       "    <tr>\n",
       "      <td>4</td>\n",
       "      <td>ORDC05255</td>\n",
       "      <td>2018-03-31</td>\n",
       "      <td>10:52:23</td>\n",
       "      <td>Breakfast</td>\n",
       "      <td>NS</td>\n",
       "      <td>[('Pancake', 8), ('Coffee', 1), ('Cereal', 5)]</td>\n",
       "      <td>306.50</td>\n",
       "      <td>-37.811766</td>\n",
       "      <td>144.963816</td>\n",
       "      <td>1</td>\n",
       "      <td>7.693</td>\n",
       "      <td>14.526149</td>\n",
       "    </tr>\n",
       "  </tbody>\n",
       "</table>\n",
       "</div>"
      ],
      "text/plain": [
       "    order_id        date      time order_type branch_code  \\\n",
       "0  ORDK10874  2018-20-01  08:30:25  Breakfast          BK   \n",
       "1  ORDX05970  2018-12-30  20:00:00  Breakfast          BK   \n",
       "2  ORDJ01346  2018-11-11  18:28:43     Dinner          TP   \n",
       "3  ORDZ03007  2018-04-19  11:32:57  Breakfast          NS   \n",
       "4  ORDC05255  2018-03-31  10:52:23  Breakfast          NS   \n",
       "\n",
       "                                         order_items  order_price  \\\n",
       "0  [('Cereal', 2), ('Pancake', 9), ('Coffee', 10)...       401.25   \n",
       "1                 [('Fish&Chips', 6), ('Shrimp', 8)]       642.00   \n",
       "2  [('Shrimp', 1), ('Salmon', 3), ('Fish&Chips', ...       554.50   \n",
       "3                       [('Eggs', 6), ('Coffee', 4)]       162.00   \n",
       "4     [('Pancake', 8), ('Coffee', 1), ('Cereal', 5)]       306.50   \n",
       "\n",
       "   customer_lat  customer_lon  customerHasloyalty?  distance_to_customer_KM  \\\n",
       "0    -37.814642    144.946602                    0                    9.008   \n",
       "1    -37.815923    144.936974                    0                   10.058   \n",
       "2    -37.815188    144.945009                    0                    9.563   \n",
       "3     37.816050    144.972315                    0                    7.902   \n",
       "4    -37.811766    144.963816                    1                    7.693   \n",
       "\n",
       "   delivery_fee  \n",
       "0     16.555537  \n",
       "1     19.548623  \n",
       "2     15.091978  \n",
       "3     12.975000  \n",
       "4     14.526149  "
      ]
     },
     "execution_count": 3,
     "metadata": {},
     "output_type": "execute_result"
    }
   ],
   "source": [
    "dirty_data_df.head()"
   ]
  },
  {
   "cell_type": "code",
   "execution_count": 4,
   "metadata": {},
   "outputs": [
    {
     "name": "stdout",
     "output_type": "stream",
     "text": [
      "<class 'pandas.core.frame.DataFrame'>\n",
      "RangeIndex: 500 entries, 0 to 499\n",
      "Data columns (total 12 columns):\n",
      "order_id                   500 non-null object\n",
      "date                       500 non-null object\n",
      "time                       500 non-null object\n",
      "order_type                 500 non-null object\n",
      "branch_code                500 non-null object\n",
      "order_items                500 non-null object\n",
      "order_price                500 non-null float64\n",
      "customer_lat               500 non-null float64\n",
      "customer_lon               500 non-null float64\n",
      "customerHasloyalty?        500 non-null int64\n",
      "distance_to_customer_KM    500 non-null float64\n",
      "delivery_fee               500 non-null float64\n",
      "dtypes: float64(5), int64(1), object(6)\n",
      "memory usage: 47.0+ KB\n"
     ]
    }
   ],
   "source": [
    "dirty_data_df.info()"
   ]
  },
  {
   "cell_type": "markdown",
   "metadata": {},
   "source": [
    "We can see that few columns are not in their correct datatype so changing the following columns in the respective datatypes.<br>\n",
    "`Order_id` changing from"
   ]
  },
  {
   "cell_type": "code",
   "execution_count": 5,
   "metadata": {},
   "outputs": [
    {
     "data": {
      "text/html": [
       "<div>\n",
       "<style scoped>\n",
       "    .dataframe tbody tr th:only-of-type {\n",
       "        vertical-align: middle;\n",
       "    }\n",
       "\n",
       "    .dataframe tbody tr th {\n",
       "        vertical-align: top;\n",
       "    }\n",
       "\n",
       "    .dataframe thead th {\n",
       "        text-align: right;\n",
       "    }\n",
       "</style>\n",
       "<table border=\"1\" class=\"dataframe\">\n",
       "  <thead>\n",
       "    <tr style=\"text-align: right;\">\n",
       "      <th></th>\n",
       "      <th>order_price</th>\n",
       "      <th>customer_lat</th>\n",
       "      <th>customer_lon</th>\n",
       "      <th>customerHasloyalty?</th>\n",
       "      <th>distance_to_customer_KM</th>\n",
       "      <th>delivery_fee</th>\n",
       "    </tr>\n",
       "  </thead>\n",
       "  <tbody>\n",
       "    <tr>\n",
       "      <td>count</td>\n",
       "      <td>500.000000</td>\n",
       "      <td>500.000000</td>\n",
       "      <td>500.000000</td>\n",
       "      <td>500.000000</td>\n",
       "      <td>500.000000</td>\n",
       "      <td>500.000000</td>\n",
       "    </tr>\n",
       "    <tr>\n",
       "      <td>mean</td>\n",
       "      <td>494.694200</td>\n",
       "      <td>-30.754074</td>\n",
       "      <td>143.503635</td>\n",
       "      <td>0.108000</td>\n",
       "      <td>8.783926</td>\n",
       "      <td>13.822003</td>\n",
       "    </tr>\n",
       "    <tr>\n",
       "      <td>std</td>\n",
       "      <td>262.333712</td>\n",
       "      <td>25.336590</td>\n",
       "      <td>16.298863</td>\n",
       "      <td>0.310691</td>\n",
       "      <td>1.642041</td>\n",
       "      <td>2.456853</td>\n",
       "    </tr>\n",
       "    <tr>\n",
       "      <td>min</td>\n",
       "      <td>29.500000</td>\n",
       "      <td>-37.832819</td>\n",
       "      <td>-37.820920</td>\n",
       "      <td>0.000000</td>\n",
       "      <td>3.991000</td>\n",
       "      <td>5.185726</td>\n",
       "    </tr>\n",
       "    <tr>\n",
       "      <td>25%</td>\n",
       "      <td>297.750000</td>\n",
       "      <td>-37.818519</td>\n",
       "      <td>144.950635</td>\n",
       "      <td>0.000000</td>\n",
       "      <td>7.925250</td>\n",
       "      <td>12.559701</td>\n",
       "    </tr>\n",
       "    <tr>\n",
       "      <td>50%</td>\n",
       "      <td>453.100000</td>\n",
       "      <td>-37.812308</td>\n",
       "      <td>144.962914</td>\n",
       "      <td>0.000000</td>\n",
       "      <td>8.818000</td>\n",
       "      <td>13.773495</td>\n",
       "    </tr>\n",
       "    <tr>\n",
       "      <td>75%</td>\n",
       "      <td>674.750000</td>\n",
       "      <td>-37.804376</td>\n",
       "      <td>144.980218</td>\n",
       "      <td>0.000000</td>\n",
       "      <td>9.698250</td>\n",
       "      <td>15.251969</td>\n",
       "    </tr>\n",
       "    <tr>\n",
       "      <td>max</td>\n",
       "      <td>1309.000000</td>\n",
       "      <td>145.002973</td>\n",
       "      <td>145.017015</td>\n",
       "      <td>1.000000</td>\n",
       "      <td>24.121000</td>\n",
       "      <td>24.827312</td>\n",
       "    </tr>\n",
       "  </tbody>\n",
       "</table>\n",
       "</div>"
      ],
      "text/plain": [
       "       order_price  customer_lat  customer_lon  customerHasloyalty?  \\\n",
       "count   500.000000    500.000000    500.000000           500.000000   \n",
       "mean    494.694200    -30.754074    143.503635             0.108000   \n",
       "std     262.333712     25.336590     16.298863             0.310691   \n",
       "min      29.500000    -37.832819    -37.820920             0.000000   \n",
       "25%     297.750000    -37.818519    144.950635             0.000000   \n",
       "50%     453.100000    -37.812308    144.962914             0.000000   \n",
       "75%     674.750000    -37.804376    144.980218             0.000000   \n",
       "max    1309.000000    145.002973    145.017015             1.000000   \n",
       "\n",
       "       distance_to_customer_KM  delivery_fee  \n",
       "count               500.000000    500.000000  \n",
       "mean                  8.783926     13.822003  \n",
       "std                   1.642041      2.456853  \n",
       "min                   3.991000      5.185726  \n",
       "25%                   7.925250     12.559701  \n",
       "50%                   8.818000     13.773495  \n",
       "75%                   9.698250     15.251969  \n",
       "max                  24.121000     24.827312  "
      ]
     },
     "execution_count": 5,
     "metadata": {},
     "output_type": "execute_result"
    }
   ],
   "source": [
    "dirty_data_df.describe()"
   ]
  },
  {
   "cell_type": "code",
   "execution_count": 6,
   "metadata": {},
   "outputs": [
    {
     "data": {
      "text/plain": [
       "order_id                    object\n",
       "date                        object\n",
       "time                        object\n",
       "order_type                  object\n",
       "branch_code                 object\n",
       "order_items                 object\n",
       "order_price                float64\n",
       "customer_lat               float64\n",
       "customer_lon               float64\n",
       "customerHasloyalty?          int64\n",
       "distance_to_customer_KM    float64\n",
       "delivery_fee               float64\n",
       "dtype: object"
      ]
     },
     "execution_count": 6,
     "metadata": {},
     "output_type": "execute_result"
    }
   ],
   "source": [
    "dirty_data_df.dtypes"
   ]
  },
  {
   "cell_type": "code",
   "execution_count": 7,
   "metadata": {},
   "outputs": [
    {
     "data": {
      "text/html": [
       "<div>\n",
       "<style scoped>\n",
       "    .dataframe tbody tr th:only-of-type {\n",
       "        vertical-align: middle;\n",
       "    }\n",
       "\n",
       "    .dataframe tbody tr th {\n",
       "        vertical-align: top;\n",
       "    }\n",
       "\n",
       "    .dataframe thead th {\n",
       "        text-align: right;\n",
       "    }\n",
       "</style>\n",
       "<table border=\"1\" class=\"dataframe\">\n",
       "  <thead>\n",
       "    <tr style=\"text-align: right;\">\n",
       "      <th></th>\n",
       "      <th>order_id</th>\n",
       "      <th>date</th>\n",
       "      <th>time</th>\n",
       "      <th>order_type</th>\n",
       "      <th>branch_code</th>\n",
       "      <th>order_items</th>\n",
       "    </tr>\n",
       "  </thead>\n",
       "  <tbody>\n",
       "    <tr>\n",
       "      <td>count</td>\n",
       "      <td>500</td>\n",
       "      <td>500</td>\n",
       "      <td>500</td>\n",
       "      <td>500</td>\n",
       "      <td>500</td>\n",
       "      <td>500</td>\n",
       "    </tr>\n",
       "    <tr>\n",
       "      <td>unique</td>\n",
       "      <td>500</td>\n",
       "      <td>296</td>\n",
       "      <td>72</td>\n",
       "      <td>3</td>\n",
       "      <td>6</td>\n",
       "      <td>497</td>\n",
       "    </tr>\n",
       "    <tr>\n",
       "      <td>top</td>\n",
       "      <td>ORDZ07731</td>\n",
       "      <td>2018-03-19</td>\n",
       "      <td>10:32:06</td>\n",
       "      <td>Breakfast</td>\n",
       "      <td>NS</td>\n",
       "      <td>[('Eggs', 2), ('Pancake', 9)]</td>\n",
       "    </tr>\n",
       "    <tr>\n",
       "      <td>freq</td>\n",
       "      <td>1</td>\n",
       "      <td>6</td>\n",
       "      <td>18</td>\n",
       "      <td>174</td>\n",
       "      <td>168</td>\n",
       "      <td>2</td>\n",
       "    </tr>\n",
       "  </tbody>\n",
       "</table>\n",
       "</div>"
      ],
      "text/plain": [
       "         order_id        date      time order_type branch_code  \\\n",
       "count         500         500       500        500         500   \n",
       "unique        500         296        72          3           6   \n",
       "top     ORDZ07731  2018-03-19  10:32:06  Breakfast          NS   \n",
       "freq            1           6        18        174         168   \n",
       "\n",
       "                          order_items  \n",
       "count                             500  \n",
       "unique                            497  \n",
       "top     [('Eggs', 2), ('Pancake', 9)]  \n",
       "freq                                2  "
      ]
     },
     "execution_count": 7,
     "metadata": {},
     "output_type": "execute_result"
    }
   ],
   "source": [
    "dirty_data_df.describe(include=['O'])"
   ]
  },
  {
   "cell_type": "markdown",
   "metadata": {},
   "source": [
    "* If we check the order id, all 500 items have unique order id and no integrity constraints have been violated\n"
   ]
  },
  {
   "cell_type": "code",
   "execution_count": 8,
   "metadata": {},
   "outputs": [
    {
     "data": {
      "text/plain": [
       "Breakfast    174\n",
       "Dinner       163\n",
       "Lunch        163\n",
       "Name: order_type, dtype: int64"
      ]
     },
     "execution_count": 8,
     "metadata": {},
     "output_type": "execute_result"
    }
   ],
   "source": [
    "dirty_data_df.order_type.value_counts()"
   ]
  },
  {
   "cell_type": "markdown",
   "metadata": {},
   "source": [
    "## Splitting the date column"
   ]
  },
  {
   "cell_type": "code",
   "execution_count": 9,
   "metadata": {},
   "outputs": [],
   "source": [
    "##Splitting the date column in the main dataframe into three parts year, mpnth and day and storing in other new df named checking\n",
    "checking = dirty_data_df['date'].apply(lambda x: pd.Series({'year':x.split('-')[0].strip(),'month':x.split('-')[1].strip(),'day':x.split('-')[2].strip()}))"
   ]
  },
  {
   "cell_type": "code",
   "execution_count": 10,
   "metadata": {},
   "outputs": [],
   "source": [
    "## Since all the individual values will be numeric form we are converting the values from string to numeric\n",
    "checking['day'] = pd.to_numeric(checking['day']) \n",
    "checking['month'] = pd.to_numeric(checking['month']) \n",
    "checking['year'] = pd.to_numeric(checking['year']) "
   ]
  },
  {
   "cell_type": "code",
   "execution_count": 11,
   "metadata": {},
   "outputs": [
    {
     "data": {
      "text/plain": [
       "array([2018,    6,    7,    4,    9,   12,    1], dtype=int64)"
      ]
     },
     "execution_count": 11,
     "metadata": {},
     "output_type": "execute_result"
    }
   ],
   "source": [
    "checking.year.unique()"
   ]
  },
  {
   "cell_type": "markdown",
   "metadata": {},
   "source": [
    "Here we are checking unique values for the year column we see that few values are wrong, may be because of the date format that the user have entered. So we need to check the other columns `month` and `date`.<br>\n",
    "Getting the index values of the rows which donot have correct year and storing the indexes in `year_index`"
   ]
  },
  {
   "cell_type": "code",
   "execution_count": 12,
   "metadata": {},
   "outputs": [],
   "source": [
    "miserror_year = [6,7,4,9,12,1]\n",
    "year_index = checking[checking.year.isin(miserror_year)].index.values.astype(int)"
   ]
  },
  {
   "cell_type": "markdown",
   "metadata": {},
   "source": [
    "Checking if values in `month` column are correct or not, these values should range from 1 - 12.<br>\n",
    "If the value is greater than 12 then that might be a date and the month and date columns should be interchanged.<br>\n",
    "Storing the wrong month indexes in the `month_index` "
   ]
  },
  {
   "cell_type": "code",
   "execution_count": 13,
   "metadata": {},
   "outputs": [],
   "source": [
    "month_index = checking[checking['month'] > 12].index.values.astype(int)"
   ]
  },
  {
   "cell_type": "markdown",
   "metadata": {},
   "source": [
    "The day should always be between 1-31 anything greater than than should a error and should be fixed. <br>\n",
    "Checking the date column and storing the indexes in the `date index` if anything wrong is identified"
   ]
  },
  {
   "cell_type": "code",
   "execution_count": 14,
   "metadata": {},
   "outputs": [],
   "source": [
    "date_index = checking[checking['day'] > 31].index.values.astype(int)"
   ]
  },
  {
   "cell_type": "markdown",
   "metadata": {},
   "source": [
    "**Interchanging the day and year column**"
   ]
  },
  {
   "cell_type": "code",
   "execution_count": 15,
   "metadata": {},
   "outputs": [],
   "source": [
    "checking.loc[date_index,['day','year']] = checking.loc[date_index,['year','day']].values"
   ]
  },
  {
   "cell_type": "markdown",
   "metadata": {},
   "source": [
    "**Interchanging the day and month column**"
   ]
  },
  {
   "cell_type": "code",
   "execution_count": 16,
   "metadata": {},
   "outputs": [],
   "source": [
    "checking.loc[month_index,['day','month']] =  checking.loc[month_index,['month','day']].values\n",
    "checking['date'] = checking['year'].map(str) + '-' + checking['month'].map(str) + '-' + checking['day'].map(str)\n",
    "checking['date'] = pd.to_datetime(checking['date'],format=\"%Y/%m/%d\")\n",
    "dirty_data_df['date'] = checking['date']"
   ]
  },
  {
   "cell_type": "code",
   "execution_count": 17,
   "metadata": {},
   "outputs": [
    {
     "data": {
      "text/html": [
       "<div>\n",
       "<style scoped>\n",
       "    .dataframe tbody tr th:only-of-type {\n",
       "        vertical-align: middle;\n",
       "    }\n",
       "\n",
       "    .dataframe tbody tr th {\n",
       "        vertical-align: top;\n",
       "    }\n",
       "\n",
       "    .dataframe thead th {\n",
       "        text-align: right;\n",
       "    }\n",
       "</style>\n",
       "<table border=\"1\" class=\"dataframe\">\n",
       "  <thead>\n",
       "    <tr style=\"text-align: right;\">\n",
       "      <th></th>\n",
       "      <th>order_id</th>\n",
       "      <th>date</th>\n",
       "      <th>time</th>\n",
       "      <th>order_type</th>\n",
       "      <th>branch_code</th>\n",
       "      <th>order_items</th>\n",
       "      <th>order_price</th>\n",
       "      <th>customer_lat</th>\n",
       "      <th>customer_lon</th>\n",
       "      <th>customerHasloyalty?</th>\n",
       "      <th>distance_to_customer_KM</th>\n",
       "      <th>delivery_fee</th>\n",
       "    </tr>\n",
       "  </thead>\n",
       "  <tbody>\n",
       "    <tr>\n",
       "      <td>0</td>\n",
       "      <td>ORDK10874</td>\n",
       "      <td>2018-01-20</td>\n",
       "      <td>08:30:25</td>\n",
       "      <td>Breakfast</td>\n",
       "      <td>BK</td>\n",
       "      <td>[('Cereal', 2), ('Pancake', 9), ('Coffee', 10)...</td>\n",
       "      <td>401.25</td>\n",
       "      <td>-37.814642</td>\n",
       "      <td>144.946602</td>\n",
       "      <td>0</td>\n",
       "      <td>9.008</td>\n",
       "      <td>16.555537</td>\n",
       "    </tr>\n",
       "    <tr>\n",
       "      <td>1</td>\n",
       "      <td>ORDX05970</td>\n",
       "      <td>2018-12-30</td>\n",
       "      <td>20:00:00</td>\n",
       "      <td>Breakfast</td>\n",
       "      <td>BK</td>\n",
       "      <td>[('Fish&amp;Chips', 6), ('Shrimp', 8)]</td>\n",
       "      <td>642.00</td>\n",
       "      <td>-37.815923</td>\n",
       "      <td>144.936974</td>\n",
       "      <td>0</td>\n",
       "      <td>10.058</td>\n",
       "      <td>19.548623</td>\n",
       "    </tr>\n",
       "    <tr>\n",
       "      <td>2</td>\n",
       "      <td>ORDJ01346</td>\n",
       "      <td>2018-11-11</td>\n",
       "      <td>18:28:43</td>\n",
       "      <td>Dinner</td>\n",
       "      <td>TP</td>\n",
       "      <td>[('Shrimp', 1), ('Salmon', 3), ('Fish&amp;Chips', ...</td>\n",
       "      <td>554.50</td>\n",
       "      <td>-37.815188</td>\n",
       "      <td>144.945009</td>\n",
       "      <td>0</td>\n",
       "      <td>9.563</td>\n",
       "      <td>15.091978</td>\n",
       "    </tr>\n",
       "    <tr>\n",
       "      <td>3</td>\n",
       "      <td>ORDZ03007</td>\n",
       "      <td>2018-04-19</td>\n",
       "      <td>11:32:57</td>\n",
       "      <td>Breakfast</td>\n",
       "      <td>NS</td>\n",
       "      <td>[('Eggs', 6), ('Coffee', 4)]</td>\n",
       "      <td>162.00</td>\n",
       "      <td>37.816050</td>\n",
       "      <td>144.972315</td>\n",
       "      <td>0</td>\n",
       "      <td>7.902</td>\n",
       "      <td>12.975000</td>\n",
       "    </tr>\n",
       "    <tr>\n",
       "      <td>4</td>\n",
       "      <td>ORDC05255</td>\n",
       "      <td>2018-03-31</td>\n",
       "      <td>10:52:23</td>\n",
       "      <td>Breakfast</td>\n",
       "      <td>NS</td>\n",
       "      <td>[('Pancake', 8), ('Coffee', 1), ('Cereal', 5)]</td>\n",
       "      <td>306.50</td>\n",
       "      <td>-37.811766</td>\n",
       "      <td>144.963816</td>\n",
       "      <td>1</td>\n",
       "      <td>7.693</td>\n",
       "      <td>14.526149</td>\n",
       "    </tr>\n",
       "  </tbody>\n",
       "</table>\n",
       "</div>"
      ],
      "text/plain": [
       "    order_id       date      time order_type branch_code  \\\n",
       "0  ORDK10874 2018-01-20  08:30:25  Breakfast          BK   \n",
       "1  ORDX05970 2018-12-30  20:00:00  Breakfast          BK   \n",
       "2  ORDJ01346 2018-11-11  18:28:43     Dinner          TP   \n",
       "3  ORDZ03007 2018-04-19  11:32:57  Breakfast          NS   \n",
       "4  ORDC05255 2018-03-31  10:52:23  Breakfast          NS   \n",
       "\n",
       "                                         order_items  order_price  \\\n",
       "0  [('Cereal', 2), ('Pancake', 9), ('Coffee', 10)...       401.25   \n",
       "1                 [('Fish&Chips', 6), ('Shrimp', 8)]       642.00   \n",
       "2  [('Shrimp', 1), ('Salmon', 3), ('Fish&Chips', ...       554.50   \n",
       "3                       [('Eggs', 6), ('Coffee', 4)]       162.00   \n",
       "4     [('Pancake', 8), ('Coffee', 1), ('Cereal', 5)]       306.50   \n",
       "\n",
       "   customer_lat  customer_lon  customerHasloyalty?  distance_to_customer_KM  \\\n",
       "0    -37.814642    144.946602                    0                    9.008   \n",
       "1    -37.815923    144.936974                    0                   10.058   \n",
       "2    -37.815188    144.945009                    0                    9.563   \n",
       "3     37.816050    144.972315                    0                    7.902   \n",
       "4    -37.811766    144.963816                    1                    7.693   \n",
       "\n",
       "   delivery_fee  \n",
       "0     16.555537  \n",
       "1     19.548623  \n",
       "2     15.091978  \n",
       "3     12.975000  \n",
       "4     14.526149  "
      ]
     },
     "execution_count": 17,
     "metadata": {},
     "output_type": "execute_result"
    }
   ],
   "source": [
    "dirty_data_df.head()"
   ]
  },
  {
   "cell_type": "markdown",
   "metadata": {},
   "source": [
    "**Converting the time column to timestamp datatype**"
   ]
  },
  {
   "cell_type": "code",
   "execution_count": 18,
   "metadata": {},
   "outputs": [],
   "source": [
    "#del checking\n",
    "dirty_data_df['time'] = pd.to_datetime(dirty_data_df['time'])"
   ]
  },
  {
   "cell_type": "code",
   "execution_count": 19,
   "metadata": {},
   "outputs": [],
   "source": [
    "from datetime import datetime\n",
    "dirty_data_df['time'] = [d.time() for d in dirty_data_df['time']]"
   ]
  },
  {
   "cell_type": "code",
   "execution_count": 20,
   "metadata": {},
   "outputs": [
    {
     "data": {
      "text/plain": [
       "order_id                           object\n",
       "date                       datetime64[ns]\n",
       "time                               object\n",
       "order_type                         object\n",
       "branch_code                        object\n",
       "order_items                        object\n",
       "order_price                       float64\n",
       "customer_lat                      float64\n",
       "customer_lon                      float64\n",
       "customerHasloyalty?                 int64\n",
       "distance_to_customer_KM           float64\n",
       "delivery_fee                      float64\n",
       "dtype: object"
      ]
     },
     "execution_count": 20,
     "metadata": {},
     "output_type": "execute_result"
    }
   ],
   "source": [
    "dirty_data_df.dtypes"
   ]
  },
  {
   "cell_type": "markdown",
   "metadata": {},
   "source": [
    "### Checking the the order_type according to the time they have delivered."
   ]
  },
  {
   "cell_type": "markdown",
   "metadata": {},
   "source": [
    "Generating the timestamps based on the given conditions<br>\n",
    "a. Breakfast - served during morning (8am - 12pm), <br>\n",
    "b. Lunch - served during afternoon (12:00:01pm - 4pm)<br>\n",
    "c. Dinner - served during evening (4:00:01pm - 8pm)<br>"
   ]
  },
  {
   "cell_type": "code",
   "execution_count": 21,
   "metadata": {},
   "outputs": [],
   "source": [
    "brkfst_starttime = datetime.now().time().replace(hour = 8, minute = 0, second=0, microsecond = 0) \n",
    "brkfst_endtime = datetime.now().time().replace(hour = 12, minute = 0, second=0, microsecond = 0)\n",
    "lun_starttime = datetime.now().time().replace(hour = 12, minute = 0, second=1, microsecond = 0)\n",
    "lun_endtime = datetime.now().time().replace(hour = 16, minute = 0, second=0, microsecond = 0)\n",
    "dnr_starttime = datetime.now().time().replace(hour = 16, minute = 0, second=1, microsecond = 0)\n",
    "dnr_endtime = datetime.now().time().replace(hour = 20, minute = 0, second=0, microsecond = 0)"
   ]
  },
  {
   "cell_type": "code",
   "execution_count": 22,
   "metadata": {},
   "outputs": [],
   "source": [
    "def new_order_type(row):\n",
    "    \"\"\"\n",
    "    Function Name: new_order_type\n",
    "    number of arguments: 1\n",
    "    Description: This function checks each row of the time column where it fits between which timestamp and returns the respective order_type string\n",
    "    Return value: String value\n",
    "    \"\"\"\n",
    "    time_val = row['time']\n",
    "    if (time_val >= brkfst_starttime and time_val <= brkfst_endtime):\n",
    "        return \"Breakfast\"\n",
    "    elif (time_val > lun_starttime and time_val <= lun_endtime):\n",
    "        return \"Lunch\"\n",
    "    elif (time_val > dnr_starttime and time_val <= dnr_endtime):\n",
    "        return \"Dinner\"\n",
    " #   return return_val"
   ]
  },
  {
   "cell_type": "code",
   "execution_count": 23,
   "metadata": {},
   "outputs": [],
   "source": [
    "mrng = len(dirty_data_df[(dirty_data_df['time'] >= brkfst_starttime) & (dirty_data_df['time'] <= brkfst_endtime) ])\n",
    "lunch = len(dirty_data_df[(dirty_data_df['time'] > lun_starttime) & (dirty_data_df['time'] <= lun_endtime) ])\n",
    "dnr = len(dirty_data_df[(dirty_data_df['time'] > dnr_starttime) & (dirty_data_df['time'] <= dnr_endtime) ])\n",
    "mrng_index = dirty_data_df[(dirty_data_df['time'] >= brkfst_starttime) & (dirty_data_df['time'] <= brkfst_endtime) & (dirty_data_df['order_type'] != \"Breakfast\") ].index.values.astype(int)\n",
    "lunch_index = dirty_data_df[(dirty_data_df['time'] > lun_starttime) & (dirty_data_df['time'] <= lun_endtime) & (dirty_data_df['order_type'] != \"Lunch\") ].index.values.astype(int)\n",
    "dnr_index = dirty_data_df[(dirty_data_df['time'] > dnr_starttime) & (dirty_data_df['time'] <= dnr_endtime) & (dirty_data_df['order_type'] != \"Dinner\") ].index.values.astype(int)"
   ]
  },
  {
   "cell_type": "code",
   "execution_count": 24,
   "metadata": {},
   "outputs": [
    {
     "name": "stdout",
     "output_type": "stream",
     "text": [
      "Number of meals served between 8am to 12pm:  168\n",
      "Number of meals served between 12:00:01pm to 4pm:  165\n",
      "Number of meals served between 4:00:01pm to 8pm:  167\n"
     ]
    }
   ],
   "source": [
    "print(\"Number of meals served between 8am to 12pm: \",mrng)\n",
    "print(\"Number of meals served between 12:00:01pm to 4pm: \",lunch)\n",
    "print(\"Number of meals served between 4:00:01pm to 8pm: \",dnr)"
   ]
  },
  {
   "cell_type": "code",
   "execution_count": 25,
   "metadata": {},
   "outputs": [
    {
     "data": {
      "text/plain": [
       "Breakfast    174\n",
       "Dinner       163\n",
       "Lunch        163\n",
       "Name: order_type, dtype: int64"
      ]
     },
     "execution_count": 25,
     "metadata": {},
     "output_type": "execute_result"
    }
   ],
   "source": [
    "#dirty_data_df['order_type'] = dirty_data_df['new_order_type']\n",
    "dirty_data_df.order_type.value_counts()\n"
   ]
  },
  {
   "cell_type": "markdown",
   "metadata": {},
   "source": [
    "If you check the number of meals served between times and the order_type has different counts.<br>\n",
    "**`Actual breakfast` served are *162*, but number of `breakfast according to given dataset` are *174***<br>\n",
    "**`Actual lunch` served are *165*, but number of `lunch according to given dataset` are *163***<br>\n",
    "**`Actual dinner` served are *167*, but number of `dinner according to given dataset` are *163***<br>"
   ]
  },
  {
   "cell_type": "markdown",
   "metadata": {},
   "source": [
    "**Generating the correct ordertype for the given conditions**<br>\n"
   ]
  },
  {
   "cell_type": "code",
   "execution_count": 26,
   "metadata": {},
   "outputs": [],
   "source": [
    "dirty_data_df['new_order_type'] = dirty_data_df.apply(lambda x: new_order_type(x), axis = 1)\n"
   ]
  },
  {
   "cell_type": "code",
   "execution_count": 27,
   "metadata": {},
   "outputs": [
    {
     "data": {
      "text/plain": [
       "Breakfast    168\n",
       "Dinner       167\n",
       "Lunch        165\n",
       "Name: new_order_type, dtype: int64"
      ]
     },
     "execution_count": 27,
     "metadata": {},
     "output_type": "execute_result"
    }
   ],
   "source": [
    "dirty_data_df.new_order_type.value_counts()\n"
   ]
  },
  {
   "cell_type": "markdown",
   "metadata": {},
   "source": [
    "Now in the new_order_type column we have the correct `order_type` so we can use this column to replace the values of the existing order_type column and delete the new created column\n"
   ]
  },
  {
   "cell_type": "code",
   "execution_count": 28,
   "metadata": {},
   "outputs": [
    {
     "data": {
      "text/plain": [
       "Breakfast    168\n",
       "Dinner       167\n",
       "Lunch        165\n",
       "Name: order_type, dtype: int64"
      ]
     },
     "execution_count": 28,
     "metadata": {},
     "output_type": "execute_result"
    }
   ],
   "source": [
    "dirty_data_df['order_type'] = dirty_data_df['new_order_type']\n",
    "dirty_data_df.order_type.value_counts()"
   ]
  },
  {
   "cell_type": "markdown",
   "metadata": {},
   "source": [
    "Now the values are correct, we can now delete the new order type column from the dataframe"
   ]
  },
  {
   "cell_type": "code",
   "execution_count": 29,
   "metadata": {},
   "outputs": [],
   "source": [
    "del dirty_data_df['new_order_type']"
   ]
  },
  {
   "cell_type": "code",
   "execution_count": 30,
   "metadata": {},
   "outputs": [
    {
     "data": {
      "text/html": [
       "<div>\n",
       "<style scoped>\n",
       "    .dataframe tbody tr th:only-of-type {\n",
       "        vertical-align: middle;\n",
       "    }\n",
       "\n",
       "    .dataframe tbody tr th {\n",
       "        vertical-align: top;\n",
       "    }\n",
       "\n",
       "    .dataframe thead th {\n",
       "        text-align: right;\n",
       "    }\n",
       "</style>\n",
       "<table border=\"1\" class=\"dataframe\">\n",
       "  <thead>\n",
       "    <tr style=\"text-align: right;\">\n",
       "      <th></th>\n",
       "      <th>order_id</th>\n",
       "      <th>date</th>\n",
       "      <th>time</th>\n",
       "      <th>order_type</th>\n",
       "      <th>branch_code</th>\n",
       "      <th>order_items</th>\n",
       "      <th>order_price</th>\n",
       "      <th>customer_lat</th>\n",
       "      <th>customer_lon</th>\n",
       "      <th>customerHasloyalty?</th>\n",
       "      <th>distance_to_customer_KM</th>\n",
       "      <th>delivery_fee</th>\n",
       "    </tr>\n",
       "  </thead>\n",
       "  <tbody>\n",
       "    <tr>\n",
       "      <td>0</td>\n",
       "      <td>ORDK10874</td>\n",
       "      <td>2018-01-20</td>\n",
       "      <td>08:30:25</td>\n",
       "      <td>Breakfast</td>\n",
       "      <td>BK</td>\n",
       "      <td>[('Cereal', 2), ('Pancake', 9), ('Coffee', 10)...</td>\n",
       "      <td>401.25</td>\n",
       "      <td>-37.814642</td>\n",
       "      <td>144.946602</td>\n",
       "      <td>0</td>\n",
       "      <td>9.008</td>\n",
       "      <td>16.555537</td>\n",
       "    </tr>\n",
       "    <tr>\n",
       "      <td>1</td>\n",
       "      <td>ORDX05970</td>\n",
       "      <td>2018-12-30</td>\n",
       "      <td>20:00:00</td>\n",
       "      <td>Dinner</td>\n",
       "      <td>BK</td>\n",
       "      <td>[('Fish&amp;Chips', 6), ('Shrimp', 8)]</td>\n",
       "      <td>642.00</td>\n",
       "      <td>-37.815923</td>\n",
       "      <td>144.936974</td>\n",
       "      <td>0</td>\n",
       "      <td>10.058</td>\n",
       "      <td>19.548623</td>\n",
       "    </tr>\n",
       "    <tr>\n",
       "      <td>2</td>\n",
       "      <td>ORDJ01346</td>\n",
       "      <td>2018-11-11</td>\n",
       "      <td>18:28:43</td>\n",
       "      <td>Dinner</td>\n",
       "      <td>TP</td>\n",
       "      <td>[('Shrimp', 1), ('Salmon', 3), ('Fish&amp;Chips', ...</td>\n",
       "      <td>554.50</td>\n",
       "      <td>-37.815188</td>\n",
       "      <td>144.945009</td>\n",
       "      <td>0</td>\n",
       "      <td>9.563</td>\n",
       "      <td>15.091978</td>\n",
       "    </tr>\n",
       "    <tr>\n",
       "      <td>3</td>\n",
       "      <td>ORDZ03007</td>\n",
       "      <td>2018-04-19</td>\n",
       "      <td>11:32:57</td>\n",
       "      <td>Breakfast</td>\n",
       "      <td>NS</td>\n",
       "      <td>[('Eggs', 6), ('Coffee', 4)]</td>\n",
       "      <td>162.00</td>\n",
       "      <td>37.816050</td>\n",
       "      <td>144.972315</td>\n",
       "      <td>0</td>\n",
       "      <td>7.902</td>\n",
       "      <td>12.975000</td>\n",
       "    </tr>\n",
       "    <tr>\n",
       "      <td>4</td>\n",
       "      <td>ORDC05255</td>\n",
       "      <td>2018-03-31</td>\n",
       "      <td>10:52:23</td>\n",
       "      <td>Breakfast</td>\n",
       "      <td>NS</td>\n",
       "      <td>[('Pancake', 8), ('Coffee', 1), ('Cereal', 5)]</td>\n",
       "      <td>306.50</td>\n",
       "      <td>-37.811766</td>\n",
       "      <td>144.963816</td>\n",
       "      <td>1</td>\n",
       "      <td>7.693</td>\n",
       "      <td>14.526149</td>\n",
       "    </tr>\n",
       "  </tbody>\n",
       "</table>\n",
       "</div>"
      ],
      "text/plain": [
       "    order_id       date      time order_type branch_code  \\\n",
       "0  ORDK10874 2018-01-20  08:30:25  Breakfast          BK   \n",
       "1  ORDX05970 2018-12-30  20:00:00     Dinner          BK   \n",
       "2  ORDJ01346 2018-11-11  18:28:43     Dinner          TP   \n",
       "3  ORDZ03007 2018-04-19  11:32:57  Breakfast          NS   \n",
       "4  ORDC05255 2018-03-31  10:52:23  Breakfast          NS   \n",
       "\n",
       "                                         order_items  order_price  \\\n",
       "0  [('Cereal', 2), ('Pancake', 9), ('Coffee', 10)...       401.25   \n",
       "1                 [('Fish&Chips', 6), ('Shrimp', 8)]       642.00   \n",
       "2  [('Shrimp', 1), ('Salmon', 3), ('Fish&Chips', ...       554.50   \n",
       "3                       [('Eggs', 6), ('Coffee', 4)]       162.00   \n",
       "4     [('Pancake', 8), ('Coffee', 1), ('Cereal', 5)]       306.50   \n",
       "\n",
       "   customer_lat  customer_lon  customerHasloyalty?  distance_to_customer_KM  \\\n",
       "0    -37.814642    144.946602                    0                    9.008   \n",
       "1    -37.815923    144.936974                    0                   10.058   \n",
       "2    -37.815188    144.945009                    0                    9.563   \n",
       "3     37.816050    144.972315                    0                    7.902   \n",
       "4    -37.811766    144.963816                    1                    7.693   \n",
       "\n",
       "   delivery_fee  \n",
       "0     16.555537  \n",
       "1     19.548623  \n",
       "2     15.091978  \n",
       "3     12.975000  \n",
       "4     14.526149  "
      ]
     },
     "execution_count": 30,
     "metadata": {},
     "output_type": "execute_result"
    }
   ],
   "source": [
    "dirty_data_df.head()"
   ]
  },
  {
   "cell_type": "markdown",
   "metadata": {},
   "source": [
    "**creating the type of the day column as the delivery fee differs for weekday and weekend**"
   ]
  },
  {
   "cell_type": "markdown",
   "metadata": {},
   "source": [
    "Now we have to find whether, the day on which the ordered placed is weekend or weekday (1 or 0). So from the date column, we will extract the day name using day_name() and replace them day names with 1 or 0 for weekend or weekday respectively."
   ]
  },
  {
   "cell_type": "code",
   "execution_count": 31,
   "metadata": {},
   "outputs": [],
   "source": [
    "def day_type(row):\n",
    "    #print(row['date'])\n",
    "    val = row['date'].dayofweek\n",
    "    if (val >=0 and val <5):  #weekday represented by 0\n",
    "        return 0\n",
    "    else:           #weekend represented by 1\n",
    "        return 1"
   ]
  },
  {
   "cell_type": "code",
   "execution_count": 32,
   "metadata": {},
   "outputs": [],
   "source": [
    "dirty_data_df['type_of_day']= dirty_data_df.apply(lambda x: day_type(x), axis =1)"
   ]
  },
  {
   "cell_type": "markdown",
   "metadata": {},
   "source": [
    "## customer_lon column"
   ]
  },
  {
   "cell_type": "markdown",
   "metadata": {},
   "source": [
    "Plotting customer longitude column values using scatter plot to find customer_lon errors."
   ]
  },
  {
   "cell_type": "code",
   "execution_count": 33,
   "metadata": {},
   "outputs": [
    {
     "data": {
      "text/plain": [
       "<matplotlib.collections.PathCollection at 0x1d856067e80>"
      ]
     },
     "execution_count": 33,
     "metadata": {},
     "output_type": "execute_result"
    },
    {
     "data": {
      "image/png": "[encoded data removed]",
      "text/plain": [
       "<Figure size 432x288 with 1 Axes>"
      ]
     },
     "metadata": {
      "needs_background": "light"
     },
     "output_type": "display_data"
    }
   ],
   "source": [
    "# ax2 = plt.subplot(221)\n",
    "# ax2.plot(dirty_data_df['customer_lon'], dirty_data_df['customer_lon'], '.r')\n",
    "plt.scatter(dirty_data_df['customer_lon'], dirty_data_df['customer_lon'],  s=400, c='lightblue', alpha=0.5)\n"
   ]
  },
  {
   "cell_type": "markdown",
   "metadata": {},
   "source": [
    "As we can see latitude and longitude values in the ditry_data got swapped, we will take deeper look into the two columns as shown below."
   ]
  },
  {
   "cell_type": "code",
   "execution_count": 34,
   "metadata": {},
   "outputs": [
    {
     "data": {
      "text/html": [
       "<div>\n",
       "<style scoped>\n",
       "    .dataframe tbody tr th:only-of-type {\n",
       "        vertical-align: middle;\n",
       "    }\n",
       "\n",
       "    .dataframe tbody tr th {\n",
       "        vertical-align: top;\n",
       "    }\n",
       "\n",
       "    .dataframe thead th {\n",
       "        text-align: right;\n",
       "    }\n",
       "</style>\n",
       "<table border=\"1\" class=\"dataframe\">\n",
       "  <thead>\n",
       "    <tr style=\"text-align: right;\">\n",
       "      <th></th>\n",
       "      <th>order_id</th>\n",
       "      <th>date</th>\n",
       "      <th>time</th>\n",
       "      <th>order_type</th>\n",
       "      <th>branch_code</th>\n",
       "      <th>order_items</th>\n",
       "      <th>order_price</th>\n",
       "      <th>customer_lat</th>\n",
       "      <th>customer_lon</th>\n",
       "      <th>customerHasloyalty?</th>\n",
       "      <th>distance_to_customer_KM</th>\n",
       "      <th>delivery_fee</th>\n",
       "      <th>type_of_day</th>\n",
       "    </tr>\n",
       "  </thead>\n",
       "  <tbody>\n",
       "    <tr>\n",
       "      <td>208</td>\n",
       "      <td>ORDC01409</td>\n",
       "      <td>2018-11-21</td>\n",
       "      <td>18:38:52</td>\n",
       "      <td>Dinner</td>\n",
       "      <td>NS</td>\n",
       "      <td>[('Shrimp', 3), ('Pasta', 2), ('Fish&amp;Chips', 1...</td>\n",
       "      <td>580.0</td>\n",
       "      <td>144.935750</td>\n",
       "      <td>-37.813348</td>\n",
       "      <td>0</td>\n",
       "      <td>10.194</td>\n",
       "      <td>16.069138</td>\n",
       "      <td>0</td>\n",
       "    </tr>\n",
       "    <tr>\n",
       "      <td>287</td>\n",
       "      <td>ORDJ02599</td>\n",
       "      <td>2018-12-02</td>\n",
       "      <td>19:09:17</td>\n",
       "      <td>Dinner</td>\n",
       "      <td>TP</td>\n",
       "      <td>[('Salmon', 4), ('Shrimp', 3), ('Fish&amp;Chips', ...</td>\n",
       "      <td>611.0</td>\n",
       "      <td>144.957898</td>\n",
       "      <td>-37.820920</td>\n",
       "      <td>0</td>\n",
       "      <td>7.935</td>\n",
       "      <td>13.729100</td>\n",
       "      <td>1</td>\n",
       "    </tr>\n",
       "    <tr>\n",
       "      <td>373</td>\n",
       "      <td>ORDZ07734</td>\n",
       "      <td>2018-11-18</td>\n",
       "      <td>18:38:52</td>\n",
       "      <td>Dinner</td>\n",
       "      <td>NS</td>\n",
       "      <td>[('Pasta', 8), ('Salmon', 8), ('Shrimp', 2)]</td>\n",
       "      <td>656.0</td>\n",
       "      <td>145.002973</td>\n",
       "      <td>-37.810811</td>\n",
       "      <td>0</td>\n",
       "      <td>9.698</td>\n",
       "      <td>17.977496</td>\n",
       "      <td>1</td>\n",
       "    </tr>\n",
       "    <tr>\n",
       "      <td>414</td>\n",
       "      <td>ORDI10127</td>\n",
       "      <td>2018-09-26</td>\n",
       "      <td>16:47:19</td>\n",
       "      <td>Dinner</td>\n",
       "      <td>NS</td>\n",
       "      <td>[('Shrimp', 8), ('Fish&amp;Chips', 2), ('Salmon', 9)]</td>\n",
       "      <td>871.0</td>\n",
       "      <td>144.961107</td>\n",
       "      <td>-37.799221</td>\n",
       "      <td>0</td>\n",
       "      <td>7.283</td>\n",
       "      <td>13.184118</td>\n",
       "      <td>0</td>\n",
       "    </tr>\n",
       "  </tbody>\n",
       "</table>\n",
       "</div>"
      ],
      "text/plain": [
       "      order_id       date      time order_type branch_code  \\\n",
       "208  ORDC01409 2018-11-21  18:38:52     Dinner          NS   \n",
       "287  ORDJ02599 2018-12-02  19:09:17     Dinner          TP   \n",
       "373  ORDZ07734 2018-11-18  18:38:52     Dinner          NS   \n",
       "414  ORDI10127 2018-09-26  16:47:19     Dinner          NS   \n",
       "\n",
       "                                           order_items  order_price  \\\n",
       "208  [('Shrimp', 3), ('Pasta', 2), ('Fish&Chips', 1...        580.0   \n",
       "287  [('Salmon', 4), ('Shrimp', 3), ('Fish&Chips', ...        611.0   \n",
       "373       [('Pasta', 8), ('Salmon', 8), ('Shrimp', 2)]        656.0   \n",
       "414  [('Shrimp', 8), ('Fish&Chips', 2), ('Salmon', 9)]        871.0   \n",
       "\n",
       "     customer_lat  customer_lon  customerHasloyalty?  distance_to_customer_KM  \\\n",
       "208    144.935750    -37.813348                    0                   10.194   \n",
       "287    144.957898    -37.820920                    0                    7.935   \n",
       "373    145.002973    -37.810811                    0                    9.698   \n",
       "414    144.961107    -37.799221                    0                    7.283   \n",
       "\n",
       "     delivery_fee  type_of_day  \n",
       "208     16.069138            0  \n",
       "287     13.729100            1  \n",
       "373     17.977496            1  \n",
       "414     13.184118            0  "
      ]
     },
     "execution_count": 34,
     "metadata": {},
     "output_type": "execute_result"
    }
   ],
   "source": [
    "dirty_data_df[dirty_data_df['customer_lon'] < 0]"
   ]
  },
  {
   "cell_type": "markdown",
   "metadata": {},
   "source": [
    "We can see `customer_lan` and `customer_lon`column values got misplaced. Using `.loc()` method in pandas, we swap both colulmn values with respect to index values. "
   ]
  },
  {
   "cell_type": "code",
   "execution_count": 35,
   "metadata": {},
   "outputs": [
    {
     "data": {
      "text/plain": [
       "[208, 287, 373, 414]"
      ]
     },
     "execution_count": 35,
     "metadata": {},
     "output_type": "execute_result"
    }
   ],
   "source": [
    "# getting the index values of the misplaced rows \n",
    "longitude_miss_indices = list(dirty_data_df[dirty_data_df['customer_lon'] < 0].index.values.astype(int))\n",
    "longitude_miss_indices  # misplaced index values "
   ]
  },
  {
   "cell_type": "markdown",
   "metadata": {},
   "source": [
    "After acquiring index values `longitude_miss_indices` of misplaced rows, we swap the values using `loc()` method in pandas as shown below."
   ]
  },
  {
   "cell_type": "code",
   "execution_count": 36,
   "metadata": {},
   "outputs": [],
   "source": [
    "# for values in longitude_miss_indices we swap\n",
    "for i in longitude_miss_indices:          \n",
    "    temp = dirty_data_df.loc[i,'customer_lat']         # storing customer_lat value in temp variable\n",
    "    dirty_data_df.loc[i,'customer_lat'] = dirty_data_df.loc[i,'customer_lon']   # assigning customer_lon value to customer_lat using index value\n",
    "    dirty_data_df.loc[i,'customer_lon'] = temp        # assigning value stored in temp variable to customer_lon"
   ]
  },
  {
   "cell_type": "markdown",
   "metadata": {},
   "source": [
    "Checking for customer_lon misplaced values after fixing the errors."
   ]
  },
  {
   "cell_type": "code",
   "execution_count": 37,
   "metadata": {},
   "outputs": [
    {
     "data": {
      "text/html": [
       "<div>\n",
       "<style scoped>\n",
       "    .dataframe tbody tr th:only-of-type {\n",
       "        vertical-align: middle;\n",
       "    }\n",
       "\n",
       "    .dataframe tbody tr th {\n",
       "        vertical-align: top;\n",
       "    }\n",
       "\n",
       "    .dataframe thead th {\n",
       "        text-align: right;\n",
       "    }\n",
       "</style>\n",
       "<table border=\"1\" class=\"dataframe\">\n",
       "  <thead>\n",
       "    <tr style=\"text-align: right;\">\n",
       "      <th></th>\n",
       "      <th>order_id</th>\n",
       "      <th>date</th>\n",
       "      <th>time</th>\n",
       "      <th>order_type</th>\n",
       "      <th>branch_code</th>\n",
       "      <th>order_items</th>\n",
       "      <th>order_price</th>\n",
       "      <th>customer_lat</th>\n",
       "      <th>customer_lon</th>\n",
       "      <th>customerHasloyalty?</th>\n",
       "      <th>distance_to_customer_KM</th>\n",
       "      <th>delivery_fee</th>\n",
       "      <th>type_of_day</th>\n",
       "    </tr>\n",
       "  </thead>\n",
       "  <tbody>\n",
       "  </tbody>\n",
       "</table>\n",
       "</div>"
      ],
      "text/plain": [
       "Empty DataFrame\n",
       "Columns: [order_id, date, time, order_type, branch_code, order_items, order_price, customer_lat, customer_lon, customerHasloyalty?, distance_to_customer_KM, delivery_fee, type_of_day]\n",
       "Index: []"
      ]
     },
     "execution_count": 37,
     "metadata": {},
     "output_type": "execute_result"
    }
   ],
   "source": [
    "dirty_data_df[dirty_data_df['customer_lon'] < 0]"
   ]
  },
  {
   "cell_type": "markdown",
   "metadata": {},
   "source": [
    "## customer_lat"
   ]
  },
  {
   "cell_type": "markdown",
   "metadata": {},
   "source": [
    "After fixing errors in `customer_lon` column, we try to find the errors in `customer_lat` column. At first, we visualize column `customer_lat` as shown below."
   ]
  },
  {
   "cell_type": "code",
   "execution_count": 38,
   "metadata": {},
   "outputs": [
    {
     "data": {
      "text/plain": [
       "<matplotlib.collections.PathCollection at 0x1d8560a7208>"
      ]
     },
     "execution_count": 38,
     "metadata": {},
     "output_type": "execute_result"
    },
    {
     "data": {
      "image/png": "[encoded data removed]",
      "text/plain": [
       "<Figure size 432x288 with 1 Axes>"
      ]
     },
     "metadata": {
      "needs_background": "light"
     },
     "output_type": "display_data"
    }
   ],
   "source": [
    "# plotting customer_lat column values\n",
    "plt.scatter(dirty_data_df['customer_lat'], dirty_data_df['customer_lat'], s=400, c='lightblue', alpha=0.5)"
   ]
  },
  {
   "cell_type": "markdown",
   "metadata": {},
   "source": [
    "As we can see some of the customer latitude values are positive which are in the range of 30-40. These are the values we need to fix in the `customer_lat` column.\n",
    "\n",
    "So we take a deeper look into those positive values in `customer_lat` column. "
   ]
  },
  {
   "cell_type": "code",
   "execution_count": 39,
   "metadata": {},
   "outputs": [
    {
     "data": {
      "text/html": [
       "<div>\n",
       "<style scoped>\n",
       "    .dataframe tbody tr th:only-of-type {\n",
       "        vertical-align: middle;\n",
       "    }\n",
       "\n",
       "    .dataframe tbody tr th {\n",
       "        vertical-align: top;\n",
       "    }\n",
       "\n",
       "    .dataframe thead th {\n",
       "        text-align: right;\n",
       "    }\n",
       "</style>\n",
       "<table border=\"1\" class=\"dataframe\">\n",
       "  <thead>\n",
       "    <tr style=\"text-align: right;\">\n",
       "      <th></th>\n",
       "      <th>order_id</th>\n",
       "      <th>date</th>\n",
       "      <th>time</th>\n",
       "      <th>order_type</th>\n",
       "      <th>branch_code</th>\n",
       "      <th>order_items</th>\n",
       "      <th>order_price</th>\n",
       "      <th>customer_lat</th>\n",
       "      <th>customer_lon</th>\n",
       "      <th>customerHasloyalty?</th>\n",
       "      <th>distance_to_customer_KM</th>\n",
       "      <th>delivery_fee</th>\n",
       "      <th>type_of_day</th>\n",
       "    </tr>\n",
       "  </thead>\n",
       "  <tbody>\n",
       "    <tr>\n",
       "      <td>3</td>\n",
       "      <td>ORDZ03007</td>\n",
       "      <td>2018-04-19</td>\n",
       "      <td>11:32:57</td>\n",
       "      <td>Breakfast</td>\n",
       "      <td>NS</td>\n",
       "      <td>[('Eggs', 6), ('Coffee', 4)]</td>\n",
       "      <td>162.00</td>\n",
       "      <td>37.816050</td>\n",
       "      <td>144.972315</td>\n",
       "      <td>0</td>\n",
       "      <td>7.902</td>\n",
       "      <td>12.975000</td>\n",
       "      <td>0</td>\n",
       "    </tr>\n",
       "    <tr>\n",
       "      <td>19</td>\n",
       "      <td>ORDI07430</td>\n",
       "      <td>2018-08-14</td>\n",
       "      <td>15:26:11</td>\n",
       "      <td>Lunch</td>\n",
       "      <td>NS</td>\n",
       "      <td>[('Chicken', 7), ('Burger', 7), ('Fries', 2), ...</td>\n",
       "      <td>862.00</td>\n",
       "      <td>37.812902</td>\n",
       "      <td>144.972366</td>\n",
       "      <td>0</td>\n",
       "      <td>7.668</td>\n",
       "      <td>13.244422</td>\n",
       "      <td>0</td>\n",
       "    </tr>\n",
       "    <tr>\n",
       "      <td>25</td>\n",
       "      <td>ORDX03476</td>\n",
       "      <td>2018-05-13</td>\n",
       "      <td>12:23:39</td>\n",
       "      <td>Lunch</td>\n",
       "      <td>BK</td>\n",
       "      <td>[('Steak', 10), ('Burger', 5), ('Salad', 9)]</td>\n",
       "      <td>759.80</td>\n",
       "      <td>37.812328</td>\n",
       "      <td>144.958108</td>\n",
       "      <td>0</td>\n",
       "      <td>8.271</td>\n",
       "      <td>16.568232</td>\n",
       "      <td>1</td>\n",
       "    </tr>\n",
       "    <tr>\n",
       "      <td>32</td>\n",
       "      <td>ORDI07880</td>\n",
       "      <td>2018-09-30</td>\n",
       "      <td>16:57:27</td>\n",
       "      <td>Dinner</td>\n",
       "      <td>NS</td>\n",
       "      <td>[('Pasta', 10), ('Salmon', 6)]</td>\n",
       "      <td>521.00</td>\n",
       "      <td>37.824145</td>\n",
       "      <td>144.990571</td>\n",
       "      <td>0</td>\n",
       "      <td>9.628</td>\n",
       "      <td>16.914060</td>\n",
       "      <td>1</td>\n",
       "    </tr>\n",
       "    <tr>\n",
       "      <td>58</td>\n",
       "      <td>ORDB02439</td>\n",
       "      <td>2018-06-07</td>\n",
       "      <td>13:04:13</td>\n",
       "      <td>Lunch</td>\n",
       "      <td>TP</td>\n",
       "      <td>[('Chicken', 6), ('Fries', 9)]</td>\n",
       "      <td>300.00</td>\n",
       "      <td>37.803573</td>\n",
       "      <td>144.949038</td>\n",
       "      <td>0</td>\n",
       "      <td>9.927</td>\n",
       "      <td>13.287700</td>\n",
       "      <td>0</td>\n",
       "    </tr>\n",
       "    <tr>\n",
       "      <td>70</td>\n",
       "      <td>ORDK02084</td>\n",
       "      <td>2018-06-28</td>\n",
       "      <td>13:54:55</td>\n",
       "      <td>Lunch</td>\n",
       "      <td>BK</td>\n",
       "      <td>[('Burger', 2), ('Salad', 4), ('Chicken', 10),...</td>\n",
       "      <td>702.80</td>\n",
       "      <td>37.814455</td>\n",
       "      <td>144.983481</td>\n",
       "      <td>0</td>\n",
       "      <td>6.017</td>\n",
       "      <td>11.820151</td>\n",
       "      <td>0</td>\n",
       "    </tr>\n",
       "    <tr>\n",
       "      <td>72</td>\n",
       "      <td>ORDY02896</td>\n",
       "      <td>2018-04-16</td>\n",
       "      <td>11:22:49</td>\n",
       "      <td>Breakfast</td>\n",
       "      <td>TP</td>\n",
       "      <td>[('Pancake', 1), ('Eggs', 2)]</td>\n",
       "      <td>68.25</td>\n",
       "      <td>37.812598</td>\n",
       "      <td>144.960745</td>\n",
       "      <td>0</td>\n",
       "      <td>8.384</td>\n",
       "      <td>11.566757</td>\n",
       "      <td>0</td>\n",
       "    </tr>\n",
       "    <tr>\n",
       "      <td>107</td>\n",
       "      <td>ORDJ01836</td>\n",
       "      <td>2018-11-23</td>\n",
       "      <td>18:49:00</td>\n",
       "      <td>Dinner</td>\n",
       "      <td>TP</td>\n",
       "      <td>[('Pasta', 9), ('Shrimp', 10), ('Fish&amp;Chips', 6)]</td>\n",
       "      <td>997.50</td>\n",
       "      <td>37.805582</td>\n",
       "      <td>144.945080</td>\n",
       "      <td>0</td>\n",
       "      <td>10.058</td>\n",
       "      <td>14.139511</td>\n",
       "      <td>0</td>\n",
       "    </tr>\n",
       "    <tr>\n",
       "      <td>123</td>\n",
       "      <td>ORDI07985</td>\n",
       "      <td>2018-03-12</td>\n",
       "      <td>10:11:49</td>\n",
       "      <td>Breakfast</td>\n",
       "      <td>NS</td>\n",
       "      <td>[('Cereal', 4), ('Pancake', 4), ('Coffee', 2)]</td>\n",
       "      <td>196.00</td>\n",
       "      <td>37.815309</td>\n",
       "      <td>144.945919</td>\n",
       "      <td>0</td>\n",
       "      <td>9.158</td>\n",
       "      <td>13.788701</td>\n",
       "      <td>0</td>\n",
       "    </tr>\n",
       "    <tr>\n",
       "      <td>138</td>\n",
       "      <td>ORDX05958</td>\n",
       "      <td>2018-05-17</td>\n",
       "      <td>12:23:39</td>\n",
       "      <td>Lunch</td>\n",
       "      <td>BK</td>\n",
       "      <td>[('Chicken', 10), ('Salad', 7), ('Fries', 3), ...</td>\n",
       "      <td>904.40</td>\n",
       "      <td>37.808531</td>\n",
       "      <td>144.963284</td>\n",
       "      <td>0</td>\n",
       "      <td>7.508</td>\n",
       "      <td>13.419610</td>\n",
       "      <td>0</td>\n",
       "    </tr>\n",
       "    <tr>\n",
       "      <td>155</td>\n",
       "      <td>ORDK04904</td>\n",
       "      <td>2018-06-30</td>\n",
       "      <td>13:54:55</td>\n",
       "      <td>Lunch</td>\n",
       "      <td>BK</td>\n",
       "      <td>[('Steak', 5), ('Salad', 8), ('Burger', 8), ('...</td>\n",
       "      <td>706.60</td>\n",
       "      <td>37.818700</td>\n",
       "      <td>144.985846</td>\n",
       "      <td>0</td>\n",
       "      <td>6.110</td>\n",
       "      <td>14.223710</td>\n",
       "      <td>1</td>\n",
       "    </tr>\n",
       "    <tr>\n",
       "      <td>158</td>\n",
       "      <td>ORDY08399</td>\n",
       "      <td>2018-03-21</td>\n",
       "      <td>10:32:06</td>\n",
       "      <td>Breakfast</td>\n",
       "      <td>TP</td>\n",
       "      <td>[('Eggs', 1), ('Coffee', 10), ('Cereal', 6), (...</td>\n",
       "      <td>368.50</td>\n",
       "      <td>37.811942</td>\n",
       "      <td>144.959411</td>\n",
       "      <td>0</td>\n",
       "      <td>8.580</td>\n",
       "      <td>11.713827</td>\n",
       "      <td>0</td>\n",
       "    </tr>\n",
       "    <tr>\n",
       "      <td>160</td>\n",
       "      <td>ORDZ08182</td>\n",
       "      <td>2018-10-20</td>\n",
       "      <td>17:38:01</td>\n",
       "      <td>Dinner</td>\n",
       "      <td>NS</td>\n",
       "      <td>[('Shrimp', 9), ('Pasta', 9)]</td>\n",
       "      <td>733.50</td>\n",
       "      <td>37.815733</td>\n",
       "      <td>144.982268</td>\n",
       "      <td>0</td>\n",
       "      <td>8.491</td>\n",
       "      <td>16.632463</td>\n",
       "      <td>1</td>\n",
       "    </tr>\n",
       "    <tr>\n",
       "      <td>164</td>\n",
       "      <td>ORDA06978</td>\n",
       "      <td>2018-11-17</td>\n",
       "      <td>18:38:52</td>\n",
       "      <td>Dinner</td>\n",
       "      <td>BK</td>\n",
       "      <td>[('Shrimp', 1), ('Salmon', 10)]</td>\n",
       "      <td>464.00</td>\n",
       "      <td>37.812894</td>\n",
       "      <td>144.965160</td>\n",
       "      <td>0</td>\n",
       "      <td>7.582</td>\n",
       "      <td>16.460487</td>\n",
       "      <td>1</td>\n",
       "    </tr>\n",
       "    <tr>\n",
       "      <td>165</td>\n",
       "      <td>ORDI08159</td>\n",
       "      <td>2018-01-08</td>\n",
       "      <td>08:10:08</td>\n",
       "      <td>Breakfast</td>\n",
       "      <td>NS</td>\n",
       "      <td>[('Pancake', 10), ('Eggs', 10), ('Coffee', 3),...</td>\n",
       "      <td>674.00</td>\n",
       "      <td>37.817560</td>\n",
       "      <td>144.932226</td>\n",
       "      <td>1</td>\n",
       "      <td>10.514</td>\n",
       "      <td>7.531918</td>\n",
       "      <td>0</td>\n",
       "    </tr>\n",
       "    <tr>\n",
       "      <td>176</td>\n",
       "      <td>ORDB00970</td>\n",
       "      <td>2018-04-28</td>\n",
       "      <td>11:53:14</td>\n",
       "      <td>Breakfast</td>\n",
       "      <td>TP</td>\n",
       "      <td>[('Eggs', 10), ('Cereal', 2), ('Coffee', 7)]</td>\n",
       "      <td>314.50</td>\n",
       "      <td>37.815171</td>\n",
       "      <td>144.984583</td>\n",
       "      <td>0</td>\n",
       "      <td>9.370</td>\n",
       "      <td>13.455717</td>\n",
       "      <td>1</td>\n",
       "    </tr>\n",
       "    <tr>\n",
       "      <td>199</td>\n",
       "      <td>ORDK00666</td>\n",
       "      <td>2018-01-20</td>\n",
       "      <td>08:30:25</td>\n",
       "      <td>Breakfast</td>\n",
       "      <td>BK</td>\n",
       "      <td>[('Eggs', 4), ('Pancake', 8), ('Cereal', 3)]</td>\n",
       "      <td>345.00</td>\n",
       "      <td>37.818564</td>\n",
       "      <td>144.967776</td>\n",
       "      <td>0</td>\n",
       "      <td>7.568</td>\n",
       "      <td>15.069399</td>\n",
       "      <td>1</td>\n",
       "    </tr>\n",
       "    <tr>\n",
       "      <td>200</td>\n",
       "      <td>ORDA10795</td>\n",
       "      <td>2018-12-30</td>\n",
       "      <td>20:00:00</td>\n",
       "      <td>Dinner</td>\n",
       "      <td>BK</td>\n",
       "      <td>[('Shrimp', 6), ('Salmon', 9), ('Pasta', 6), (...</td>\n",
       "      <td>963.00</td>\n",
       "      <td>37.820485</td>\n",
       "      <td>144.949638</td>\n",
       "      <td>0</td>\n",
       "      <td>9.124</td>\n",
       "      <td>18.644650</td>\n",
       "      <td>1</td>\n",
       "    </tr>\n",
       "    <tr>\n",
       "      <td>210</td>\n",
       "      <td>ORDI08791</td>\n",
       "      <td>2018-06-21</td>\n",
       "      <td>13:34:38</td>\n",
       "      <td>Lunch</td>\n",
       "      <td>NS</td>\n",
       "      <td>[('Chicken', 8), ('Burger', 5), ('Steak', 9), ...</td>\n",
       "      <td>1072.00</td>\n",
       "      <td>37.816400</td>\n",
       "      <td>144.982598</td>\n",
       "      <td>0</td>\n",
       "      <td>8.585</td>\n",
       "      <td>14.397481</td>\n",
       "      <td>0</td>\n",
       "    </tr>\n",
       "    <tr>\n",
       "      <td>211</td>\n",
       "      <td>ORDI04924</td>\n",
       "      <td>2018-03-04</td>\n",
       "      <td>10:01:41</td>\n",
       "      <td>Breakfast</td>\n",
       "      <td>NS</td>\n",
       "      <td>[('Cereal', 7), ('Pancake', 6), ('Coffee', 2)]</td>\n",
       "      <td>307.50</td>\n",
       "      <td>37.817834</td>\n",
       "      <td>144.956464</td>\n",
       "      <td>0</td>\n",
       "      <td>8.900</td>\n",
       "      <td>15.599652</td>\n",
       "      <td>1</td>\n",
       "    </tr>\n",
       "    <tr>\n",
       "      <td>216</td>\n",
       "      <td>ORDB06866</td>\n",
       "      <td>2018-05-22</td>\n",
       "      <td>12:33:48</td>\n",
       "      <td>Lunch</td>\n",
       "      <td>TP</td>\n",
       "      <td>[('Salad', 7), ('Steak', 9), ('Fries', 5), ('C...</td>\n",
       "      <td>809.40</td>\n",
       "      <td>37.807207</td>\n",
       "      <td>144.988932</td>\n",
       "      <td>0</td>\n",
       "      <td>10.292</td>\n",
       "      <td>13.955395</td>\n",
       "      <td>0</td>\n",
       "    </tr>\n",
       "    <tr>\n",
       "      <td>230</td>\n",
       "      <td>ORDX00608</td>\n",
       "      <td>2018-06-24</td>\n",
       "      <td>13:44:47</td>\n",
       "      <td>Lunch</td>\n",
       "      <td>BK</td>\n",
       "      <td>[('Salad', 6), ('Chicken', 8), ('Fries', 5), (...</td>\n",
       "      <td>737.20</td>\n",
       "      <td>37.811540</td>\n",
       "      <td>144.956349</td>\n",
       "      <td>0</td>\n",
       "      <td>8.103</td>\n",
       "      <td>16.686961</td>\n",
       "      <td>1</td>\n",
       "    </tr>\n",
       "    <tr>\n",
       "      <td>246</td>\n",
       "      <td>ORDA02156</td>\n",
       "      <td>2018-01-05</td>\n",
       "      <td>08:00:00</td>\n",
       "      <td>Breakfast</td>\n",
       "      <td>BK</td>\n",
       "      <td>[('Pancake', 5), ('Coffee', 9)]</td>\n",
       "      <td>188.75</td>\n",
       "      <td>37.812253</td>\n",
       "      <td>144.938679</td>\n",
       "      <td>1</td>\n",
       "      <td>9.892</td>\n",
       "      <td>7.263783</td>\n",
       "      <td>0</td>\n",
       "    </tr>\n",
       "    <tr>\n",
       "      <td>269</td>\n",
       "      <td>ORDB00516</td>\n",
       "      <td>2018-03-09</td>\n",
       "      <td>10:11:49</td>\n",
       "      <td>Breakfast</td>\n",
       "      <td>TP</td>\n",
       "      <td>[('Cereal', 8), ('Pancake', 7)]</td>\n",
       "      <td>337.75</td>\n",
       "      <td>37.815988</td>\n",
       "      <td>144.966223</td>\n",
       "      <td>0</td>\n",
       "      <td>8.008</td>\n",
       "      <td>10.630632</td>\n",
       "      <td>0</td>\n",
       "    </tr>\n",
       "    <tr>\n",
       "      <td>273</td>\n",
       "      <td>ORDY10520</td>\n",
       "      <td>2018-05-04</td>\n",
       "      <td>12:03:22</td>\n",
       "      <td>Lunch</td>\n",
       "      <td>TP</td>\n",
       "      <td>[('Chicken', 4), ('Fries', 3), ('Burger', 4)]</td>\n",
       "      <td>288.00</td>\n",
       "      <td>37.801211</td>\n",
       "      <td>144.992879</td>\n",
       "      <td>0</td>\n",
       "      <td>11.244</td>\n",
       "      <td>13.704910</td>\n",
       "      <td>0</td>\n",
       "    </tr>\n",
       "    <tr>\n",
       "      <td>294</td>\n",
       "      <td>ORDK01427</td>\n",
       "      <td>2018-01-05</td>\n",
       "      <td>08:00:00</td>\n",
       "      <td>Breakfast</td>\n",
       "      <td>BK</td>\n",
       "      <td>[('Eggs', 1), ('Cereal', 4)]</td>\n",
       "      <td>106.00</td>\n",
       "      <td>37.813249</td>\n",
       "      <td>144.937156</td>\n",
       "      <td>1</td>\n",
       "      <td>10.095</td>\n",
       "      <td>7.668878</td>\n",
       "      <td>0</td>\n",
       "    </tr>\n",
       "    <tr>\n",
       "      <td>319</td>\n",
       "      <td>ORDZ05227</td>\n",
       "      <td>2018-08-20</td>\n",
       "      <td>15:36:20</td>\n",
       "      <td>Lunch</td>\n",
       "      <td>NS</td>\n",
       "      <td>[('Steak', 8), ('Chicken', 3), ('Salad', 4), (...</td>\n",
       "      <td>772.80</td>\n",
       "      <td>37.803511</td>\n",
       "      <td>144.950603</td>\n",
       "      <td>0</td>\n",
       "      <td>8.211</td>\n",
       "      <td>13.549040</td>\n",
       "      <td>0</td>\n",
       "    </tr>\n",
       "    <tr>\n",
       "      <td>340</td>\n",
       "      <td>ORDC02965</td>\n",
       "      <td>2018-09-28</td>\n",
       "      <td>16:57:27</td>\n",
       "      <td>Dinner</td>\n",
       "      <td>NS</td>\n",
       "      <td>[('Shrimp', 6), ('Salmon', 8), ('Fish&amp;Chips', ...</td>\n",
       "      <td>1179.50</td>\n",
       "      <td>37.810586</td>\n",
       "      <td>144.950167</td>\n",
       "      <td>0</td>\n",
       "      <td>8.683</td>\n",
       "      <td>14.493372</td>\n",
       "      <td>0</td>\n",
       "    </tr>\n",
       "    <tr>\n",
       "      <td>344</td>\n",
       "      <td>ORDZ00500</td>\n",
       "      <td>2018-08-23</td>\n",
       "      <td>15:46:28</td>\n",
       "      <td>Lunch</td>\n",
       "      <td>NS</td>\n",
       "      <td>[('Fries', 2), ('Chicken', 8)]</td>\n",
       "      <td>280.00</td>\n",
       "      <td>37.804438</td>\n",
       "      <td>144.993568</td>\n",
       "      <td>0</td>\n",
       "      <td>8.543</td>\n",
       "      <td>14.740755</td>\n",
       "      <td>0</td>\n",
       "    </tr>\n",
       "    <tr>\n",
       "      <td>348</td>\n",
       "      <td>ORDY06650</td>\n",
       "      <td>2018-11-23</td>\n",
       "      <td>18:49:00</td>\n",
       "      <td>Dinner</td>\n",
       "      <td>TP</td>\n",
       "      <td>[('Salmon', 10), ('Pasta', 9), ('Fish&amp;Chips', ...</td>\n",
       "      <td>1153.50</td>\n",
       "      <td>37.805879</td>\n",
       "      <td>144.948358</td>\n",
       "      <td>0</td>\n",
       "      <td>9.736</td>\n",
       "      <td>14.092595</td>\n",
       "      <td>0</td>\n",
       "    </tr>\n",
       "    <tr>\n",
       "      <td>351</td>\n",
       "      <td>ORDB09472</td>\n",
       "      <td>2018-02-08</td>\n",
       "      <td>09:10:59</td>\n",
       "      <td>Breakfast</td>\n",
       "      <td>TP</td>\n",
       "      <td>[('Coffee', 1), ('Cereal', 4)]</td>\n",
       "      <td>91.50</td>\n",
       "      <td>37.821249</td>\n",
       "      <td>144.980883</td>\n",
       "      <td>0</td>\n",
       "      <td>8.716</td>\n",
       "      <td>11.406611</td>\n",
       "      <td>0</td>\n",
       "    </tr>\n",
       "    <tr>\n",
       "      <td>370</td>\n",
       "      <td>ORDZ01113</td>\n",
       "      <td>2018-07-01</td>\n",
       "      <td>13:54:55</td>\n",
       "      <td>Lunch</td>\n",
       "      <td>NS</td>\n",
       "      <td>[('Chicken', 4), ('Salad', 10), ('Steak', 2), ...</td>\n",
       "      <td>746.00</td>\n",
       "      <td>37.803909</td>\n",
       "      <td>144.957357</td>\n",
       "      <td>0</td>\n",
       "      <td>5.380</td>\n",
       "      <td>13.028681</td>\n",
       "      <td>1</td>\n",
       "    </tr>\n",
       "    <tr>\n",
       "      <td>379</td>\n",
       "      <td>ORDY09365</td>\n",
       "      <td>2018-06-14</td>\n",
       "      <td>13:24:30</td>\n",
       "      <td>Lunch</td>\n",
       "      <td>TP</td>\n",
       "      <td>[('Chicken', 8), ('Steak', 1)]</td>\n",
       "      <td>301.00</td>\n",
       "      <td>37.822577</td>\n",
       "      <td>144.971980</td>\n",
       "      <td>0</td>\n",
       "      <td>8.137</td>\n",
       "      <td>11.720383</td>\n",
       "      <td>0</td>\n",
       "    </tr>\n",
       "    <tr>\n",
       "      <td>403</td>\n",
       "      <td>ORDZ09017</td>\n",
       "      <td>2018-01-01</td>\n",
       "      <td>08:00:00</td>\n",
       "      <td>Breakfast</td>\n",
       "      <td>NS</td>\n",
       "      <td>[('Cereal', 9), ('Pancake', 4), ('Eggs', 7)]</td>\n",
       "      <td>440.00</td>\n",
       "      <td>37.826280</td>\n",
       "      <td>144.930741</td>\n",
       "      <td>1</td>\n",
       "      <td>11.672</td>\n",
       "      <td>8.439296</td>\n",
       "      <td>0</td>\n",
       "    </tr>\n",
       "    <tr>\n",
       "      <td>436</td>\n",
       "      <td>ORDI09993</td>\n",
       "      <td>2018-03-01</td>\n",
       "      <td>09:51:32</td>\n",
       "      <td>Breakfast</td>\n",
       "      <td>NS</td>\n",
       "      <td>[('Eggs', 2), ('Cereal', 10), ('Coffee', 1), (...</td>\n",
       "      <td>382.75</td>\n",
       "      <td>37.799270</td>\n",
       "      <td>144.987340</td>\n",
       "      <td>0</td>\n",
       "      <td>7.828</td>\n",
       "      <td>13.750455</td>\n",
       "      <td>0</td>\n",
       "    </tr>\n",
       "    <tr>\n",
       "      <td>459</td>\n",
       "      <td>ORDZ06395</td>\n",
       "      <td>2018-05-21</td>\n",
       "      <td>12:33:48</td>\n",
       "      <td>Lunch</td>\n",
       "      <td>NS</td>\n",
       "      <td>[('Chicken', 3), ('Steak', 2)]</td>\n",
       "      <td>186.00</td>\n",
       "      <td>37.819481</td>\n",
       "      <td>144.932400</td>\n",
       "      <td>0</td>\n",
       "      <td>10.894</td>\n",
       "      <td>16.356401</td>\n",
       "      <td>0</td>\n",
       "    </tr>\n",
       "    <tr>\n",
       "      <td>482</td>\n",
       "      <td>ORDZ07413</td>\n",
       "      <td>2018-02-25</td>\n",
       "      <td>09:41:24</td>\n",
       "      <td>Breakfast</td>\n",
       "      <td>NS</td>\n",
       "      <td>[('Eggs', 3), ('Cereal', 4)]</td>\n",
       "      <td>150.00</td>\n",
       "      <td>37.808149</td>\n",
       "      <td>144.975634</td>\n",
       "      <td>0</td>\n",
       "      <td>7.287</td>\n",
       "      <td>14.166307</td>\n",
       "      <td>1</td>\n",
       "    </tr>\n",
       "  </tbody>\n",
       "</table>\n",
       "</div>"
      ],
      "text/plain": [
       "      order_id       date      time order_type branch_code  \\\n",
       "3    ORDZ03007 2018-04-19  11:32:57  Breakfast          NS   \n",
       "19   ORDI07430 2018-08-14  15:26:11      Lunch          NS   \n",
       "25   ORDX03476 2018-05-13  12:23:39      Lunch          BK   \n",
       "32   ORDI07880 2018-09-30  16:57:27     Dinner          NS   \n",
       "58   ORDB02439 2018-06-07  13:04:13      Lunch          TP   \n",
       "70   ORDK02084 2018-06-28  13:54:55      Lunch          BK   \n",
       "72   ORDY02896 2018-04-16  11:22:49  Breakfast          TP   \n",
       "107  ORDJ01836 2018-11-23  18:49:00     Dinner          TP   \n",
       "123  ORDI07985 2018-03-12  10:11:49  Breakfast          NS   \n",
       "138  ORDX05958 2018-05-17  12:23:39      Lunch          BK   \n",
       "155  ORDK04904 2018-06-30  13:54:55      Lunch          BK   \n",
       "158  ORDY08399 2018-03-21  10:32:06  Breakfast          TP   \n",
       "160  ORDZ08182 2018-10-20  17:38:01     Dinner          NS   \n",
       "164  ORDA06978 2018-11-17  18:38:52     Dinner          BK   \n",
       "165  ORDI08159 2018-01-08  08:10:08  Breakfast          NS   \n",
       "176  ORDB00970 2018-04-28  11:53:14  Breakfast          TP   \n",
       "199  ORDK00666 2018-01-20  08:30:25  Breakfast          BK   \n",
       "200  ORDA10795 2018-12-30  20:00:00     Dinner          BK   \n",
       "210  ORDI08791 2018-06-21  13:34:38      Lunch          NS   \n",
       "211  ORDI04924 2018-03-04  10:01:41  Breakfast          NS   \n",
       "216  ORDB06866 2018-05-22  12:33:48      Lunch          TP   \n",
       "230  ORDX00608 2018-06-24  13:44:47      Lunch          BK   \n",
       "246  ORDA02156 2018-01-05  08:00:00  Breakfast          BK   \n",
       "269  ORDB00516 2018-03-09  10:11:49  Breakfast          TP   \n",
       "273  ORDY10520 2018-05-04  12:03:22      Lunch          TP   \n",
       "294  ORDK01427 2018-01-05  08:00:00  Breakfast          BK   \n",
       "319  ORDZ05227 2018-08-20  15:36:20      Lunch          NS   \n",
       "340  ORDC02965 2018-09-28  16:57:27     Dinner          NS   \n",
       "344  ORDZ00500 2018-08-23  15:46:28      Lunch          NS   \n",
       "348  ORDY06650 2018-11-23  18:49:00     Dinner          TP   \n",
       "351  ORDB09472 2018-02-08  09:10:59  Breakfast          TP   \n",
       "370  ORDZ01113 2018-07-01  13:54:55      Lunch          NS   \n",
       "379  ORDY09365 2018-06-14  13:24:30      Lunch          TP   \n",
       "403  ORDZ09017 2018-01-01  08:00:00  Breakfast          NS   \n",
       "436  ORDI09993 2018-03-01  09:51:32  Breakfast          NS   \n",
       "459  ORDZ06395 2018-05-21  12:33:48      Lunch          NS   \n",
       "482  ORDZ07413 2018-02-25  09:41:24  Breakfast          NS   \n",
       "\n",
       "                                           order_items  order_price  \\\n",
       "3                         [('Eggs', 6), ('Coffee', 4)]       162.00   \n",
       "19   [('Chicken', 7), ('Burger', 7), ('Fries', 2), ...       862.00   \n",
       "25        [('Steak', 10), ('Burger', 5), ('Salad', 9)]       759.80   \n",
       "32                      [('Pasta', 10), ('Salmon', 6)]       521.00   \n",
       "58                      [('Chicken', 6), ('Fries', 9)]       300.00   \n",
       "70   [('Burger', 2), ('Salad', 4), ('Chicken', 10),...       702.80   \n",
       "72                       [('Pancake', 1), ('Eggs', 2)]        68.25   \n",
       "107  [('Pasta', 9), ('Shrimp', 10), ('Fish&Chips', 6)]       997.50   \n",
       "123     [('Cereal', 4), ('Pancake', 4), ('Coffee', 2)]       196.00   \n",
       "138  [('Chicken', 10), ('Salad', 7), ('Fries', 3), ...       904.40   \n",
       "155  [('Steak', 5), ('Salad', 8), ('Burger', 8), ('...       706.60   \n",
       "158  [('Eggs', 1), ('Coffee', 10), ('Cereal', 6), (...       368.50   \n",
       "160                      [('Shrimp', 9), ('Pasta', 9)]       733.50   \n",
       "164                    [('Shrimp', 1), ('Salmon', 10)]       464.00   \n",
       "165  [('Pancake', 10), ('Eggs', 10), ('Coffee', 3),...       674.00   \n",
       "176       [('Eggs', 10), ('Cereal', 2), ('Coffee', 7)]       314.50   \n",
       "199       [('Eggs', 4), ('Pancake', 8), ('Cereal', 3)]       345.00   \n",
       "200  [('Shrimp', 6), ('Salmon', 9), ('Pasta', 6), (...       963.00   \n",
       "210  [('Chicken', 8), ('Burger', 5), ('Steak', 9), ...      1072.00   \n",
       "211     [('Cereal', 7), ('Pancake', 6), ('Coffee', 2)]       307.50   \n",
       "216  [('Salad', 7), ('Steak', 9), ('Fries', 5), ('C...       809.40   \n",
       "230  [('Salad', 6), ('Chicken', 8), ('Fries', 5), (...       737.20   \n",
       "246                    [('Pancake', 5), ('Coffee', 9)]       188.75   \n",
       "269                    [('Cereal', 8), ('Pancake', 7)]       337.75   \n",
       "273      [('Chicken', 4), ('Fries', 3), ('Burger', 4)]       288.00   \n",
       "294                       [('Eggs', 1), ('Cereal', 4)]       106.00   \n",
       "319  [('Steak', 8), ('Chicken', 3), ('Salad', 4), (...       772.80   \n",
       "340  [('Shrimp', 6), ('Salmon', 8), ('Fish&Chips', ...      1179.50   \n",
       "344                     [('Fries', 2), ('Chicken', 8)]       280.00   \n",
       "348  [('Salmon', 10), ('Pasta', 9), ('Fish&Chips', ...      1153.50   \n",
       "351                     [('Coffee', 1), ('Cereal', 4)]        91.50   \n",
       "370  [('Chicken', 4), ('Salad', 10), ('Steak', 2), ...       746.00   \n",
       "379                     [('Chicken', 8), ('Steak', 1)]       301.00   \n",
       "403       [('Cereal', 9), ('Pancake', 4), ('Eggs', 7)]       440.00   \n",
       "436  [('Eggs', 2), ('Cereal', 10), ('Coffee', 1), (...       382.75   \n",
       "459                     [('Chicken', 3), ('Steak', 2)]       186.00   \n",
       "482                       [('Eggs', 3), ('Cereal', 4)]       150.00   \n",
       "\n",
       "     customer_lat  customer_lon  customerHasloyalty?  distance_to_customer_KM  \\\n",
       "3       37.816050    144.972315                    0                    7.902   \n",
       "19      37.812902    144.972366                    0                    7.668   \n",
       "25      37.812328    144.958108                    0                    8.271   \n",
       "32      37.824145    144.990571                    0                    9.628   \n",
       "58      37.803573    144.949038                    0                    9.927   \n",
       "70      37.814455    144.983481                    0                    6.017   \n",
       "72      37.812598    144.960745                    0                    8.384   \n",
       "107     37.805582    144.945080                    0                   10.058   \n",
       "123     37.815309    144.945919                    0                    9.158   \n",
       "138     37.808531    144.963284                    0                    7.508   \n",
       "155     37.818700    144.985846                    0                    6.110   \n",
       "158     37.811942    144.959411                    0                    8.580   \n",
       "160     37.815733    144.982268                    0                    8.491   \n",
       "164     37.812894    144.965160                    0                    7.582   \n",
       "165     37.817560    144.932226                    1                   10.514   \n",
       "176     37.815171    144.984583                    0                    9.370   \n",
       "199     37.818564    144.967776                    0                    7.568   \n",
       "200     37.820485    144.949638                    0                    9.124   \n",
       "210     37.816400    144.982598                    0                    8.585   \n",
       "211     37.817834    144.956464                    0                    8.900   \n",
       "216     37.807207    144.988932                    0                   10.292   \n",
       "230     37.811540    144.956349                    0                    8.103   \n",
       "246     37.812253    144.938679                    1                    9.892   \n",
       "269     37.815988    144.966223                    0                    8.008   \n",
       "273     37.801211    144.992879                    0                   11.244   \n",
       "294     37.813249    144.937156                    1                   10.095   \n",
       "319     37.803511    144.950603                    0                    8.211   \n",
       "340     37.810586    144.950167                    0                    8.683   \n",
       "344     37.804438    144.993568                    0                    8.543   \n",
       "348     37.805879    144.948358                    0                    9.736   \n",
       "351     37.821249    144.980883                    0                    8.716   \n",
       "370     37.803909    144.957357                    0                    5.380   \n",
       "379     37.822577    144.971980                    0                    8.137   \n",
       "403     37.826280    144.930741                    1                   11.672   \n",
       "436     37.799270    144.987340                    0                    7.828   \n",
       "459     37.819481    144.932400                    0                   10.894   \n",
       "482     37.808149    144.975634                    0                    7.287   \n",
       "\n",
       "     delivery_fee  type_of_day  \n",
       "3       12.975000            0  \n",
       "19      13.244422            0  \n",
       "25      16.568232            1  \n",
       "32      16.914060            1  \n",
       "58      13.287700            0  \n",
       "70      11.820151            0  \n",
       "72      11.566757            0  \n",
       "107     14.139511            0  \n",
       "123     13.788701            0  \n",
       "138     13.419610            0  \n",
       "155     14.223710            1  \n",
       "158     11.713827            0  \n",
       "160     16.632463            1  \n",
       "164     16.460487            1  \n",
       "165      7.531918            0  \n",
       "176     13.455717            1  \n",
       "199     15.069399            1  \n",
       "200     18.644650            1  \n",
       "210     14.397481            0  \n",
       "211     15.599652            1  \n",
       "216     13.955395            0  \n",
       "230     16.686961            1  \n",
       "246      7.263783            0  \n",
       "269     10.630632            0  \n",
       "273     13.704910            0  \n",
       "294      7.668878            0  \n",
       "319     13.549040            0  \n",
       "340     14.493372            0  \n",
       "344     14.740755            0  \n",
       "348     14.092595            0  \n",
       "351     11.406611            0  \n",
       "370     13.028681            1  \n",
       "379     11.720383            0  \n",
       "403      8.439296            0  \n",
       "436     13.750455            0  \n",
       "459     16.356401            0  \n",
       "482     14.166307            1  "
      ]
     },
     "execution_count": 39,
     "metadata": {},
     "output_type": "execute_result"
    }
   ],
   "source": [
    "# positive values in the customer_lat column \n",
    "dirty_data_df[dirty_data_df['customer_lat'] > 0]"
   ]
  },
  {
   "cell_type": "markdown",
   "metadata": {},
   "source": [
    "In column `customer_lat`, some of the latitude values are misprinted as positive values i.e negative sign is missing `-1`, so we approach this task my considering the index values of `customer_lat` column and multiplying them with `-1`.  "
   ]
  },
  {
   "cell_type": "code",
   "execution_count": 40,
   "metadata": {},
   "outputs": [
    {
     "name": "stdout",
     "output_type": "stream",
     "text": [
      "[3, 19, 25, 32, 58, 70, 72, 107, 123, 138, 155, 158, 160, 164, 165, 176, 199, 200, 210, 211, 216, 230, 246, 269, 273, 294, 319, 340, 344, 348, 351, 370, 379, 403, 436, 459, 482]\n"
     ]
    }
   ],
   "source": [
    "# getting index values of the misprinted rows where customer_lat > 0 \n",
    "latitude_miss_indices = list(dirty_data_df[dirty_data_df['customer_lat'] > 0].index.values.astype(int))\n",
    "print(latitude_miss_indices)"
   ]
  },
  {
   "cell_type": "markdown",
   "metadata": {},
   "source": [
    "Fixing errors using `loc()` method in pandas."
   ]
  },
  {
   "cell_type": "code",
   "execution_count": 41,
   "metadata": {},
   "outputs": [],
   "source": [
    "for i in latitude_miss_indices:\n",
    "    dirty_data_df.loc[i,'customer_lat'] = dirty_data_df.loc[i,'customer_lat']*-1    # multiplying error rows with -1 \n",
    "    "
   ]
  },
  {
   "cell_type": "markdown",
   "metadata": {},
   "source": [
    "Checking for `customer_lon` column errors after fixing them."
   ]
  },
  {
   "cell_type": "code",
   "execution_count": 42,
   "metadata": {},
   "outputs": [
    {
     "data": {
      "text/html": [
       "<div>\n",
       "<style scoped>\n",
       "    .dataframe tbody tr th:only-of-type {\n",
       "        vertical-align: middle;\n",
       "    }\n",
       "\n",
       "    .dataframe tbody tr th {\n",
       "        vertical-align: top;\n",
       "    }\n",
       "\n",
       "    .dataframe thead th {\n",
       "        text-align: right;\n",
       "    }\n",
       "</style>\n",
       "<table border=\"1\" class=\"dataframe\">\n",
       "  <thead>\n",
       "    <tr style=\"text-align: right;\">\n",
       "      <th></th>\n",
       "      <th>order_id</th>\n",
       "      <th>date</th>\n",
       "      <th>time</th>\n",
       "      <th>order_type</th>\n",
       "      <th>branch_code</th>\n",
       "      <th>order_items</th>\n",
       "      <th>order_price</th>\n",
       "      <th>customer_lat</th>\n",
       "      <th>customer_lon</th>\n",
       "      <th>customerHasloyalty?</th>\n",
       "      <th>distance_to_customer_KM</th>\n",
       "      <th>delivery_fee</th>\n",
       "      <th>type_of_day</th>\n",
       "    </tr>\n",
       "  </thead>\n",
       "  <tbody>\n",
       "  </tbody>\n",
       "</table>\n",
       "</div>"
      ],
      "text/plain": [
       "Empty DataFrame\n",
       "Columns: [order_id, date, time, order_type, branch_code, order_items, order_price, customer_lat, customer_lon, customerHasloyalty?, distance_to_customer_KM, delivery_fee, type_of_day]\n",
       "Index: []"
      ]
     },
     "execution_count": 42,
     "metadata": {},
     "output_type": "execute_result"
    }
   ],
   "source": [
    "dirty_data_df[dirty_data_df['customer_lat'] > 0]"
   ]
  },
  {
   "cell_type": "markdown",
   "metadata": {},
   "source": [
    "## Branch_code"
   ]
  },
  {
   "cell_type": "markdown",
   "metadata": {},
   "source": [
    "\n",
    "Typos are the most common error, particularly whenever the data collection process involves human. While we were collecting the data, we might mis-type the name of the branch_code. It is always a good idea to check the categorical variables to make sure their values are spelled without errors. Let's look at the <font color=\"blue\">branch_code</font>. You can also use the <font color=\"blue\">value_counts()</font> function."
   ]
  },
  {
   "cell_type": "code",
   "execution_count": 43,
   "metadata": {},
   "outputs": [
    {
     "data": {
      "text/plain": [
       "NS    168\n",
       "TP    166\n",
       "BK    136\n",
       "tp     12\n",
       "bk      9\n",
       "ns      9\n",
       "Name: branch_code, dtype: int64"
      ]
     },
     "execution_count": 43,
     "metadata": {},
     "output_type": "execute_result"
    }
   ],
   "source": [
    "dirty_data_df.branch_code.value_counts()"
   ]
  },
  {
   "cell_type": "markdown",
   "metadata": {},
   "source": [
    "From the above output,\n",
    "The typos are,\n",
    "- NS v.s ns\n",
    "- TP v.s tp\n",
    "- BK v.s bk\n",
    "\n",
    "So, we will replace these typos with respective values as shown below."
   ]
  },
  {
   "cell_type": "code",
   "execution_count": 44,
   "metadata": {},
   "outputs": [],
   "source": [
    "dirty_data_df.branch_code.replace({'ns': 'NS','tp': 'TP','bk':'BK'}, inplace = True)"
   ]
  },
  {
   "cell_type": "markdown",
   "metadata": {},
   "source": [
    "Now let's check the replaced values."
   ]
  },
  {
   "cell_type": "code",
   "execution_count": 45,
   "metadata": {},
   "outputs": [
    {
     "data": {
      "text/plain": [
       "TP    178\n",
       "NS    177\n",
       "BK    145\n",
       "Name: branch_code, dtype: int64"
      ]
     },
     "execution_count": 45,
     "metadata": {},
     "output_type": "execute_result"
    }
   ],
   "source": [
    "dirty_data_df.branch_code.value_counts()"
   ]
  },
  {
   "cell_type": "markdown",
   "metadata": {},
   "source": [
    "From outliers data we check for correct branch codes."
   ]
  },
  {
   "cell_type": "code",
   "execution_count": 46,
   "metadata": {},
   "outputs": [],
   "source": [
    "order_ids = outlier_data_df[['order_id','branch_code']]   # taking two columns to find the pattern between two columns."
   ]
  },
  {
   "cell_type": "code",
   "execution_count": 47,
   "metadata": {},
   "outputs": [
    {
     "data": {
      "text/html": [
       "<div>\n",
       "<style scoped>\n",
       "    .dataframe tbody tr th:only-of-type {\n",
       "        vertical-align: middle;\n",
       "    }\n",
       "\n",
       "    .dataframe tbody tr th {\n",
       "        vertical-align: top;\n",
       "    }\n",
       "\n",
       "    .dataframe thead th {\n",
       "        text-align: right;\n",
       "    }\n",
       "</style>\n",
       "<table border=\"1\" class=\"dataframe\">\n",
       "  <thead>\n",
       "    <tr style=\"text-align: right;\">\n",
       "      <th></th>\n",
       "      <th>order_id</th>\n",
       "      <th>branch_code</th>\n",
       "    </tr>\n",
       "  </thead>\n",
       "  <tbody>\n",
       "    <tr>\n",
       "      <td>0</td>\n",
       "      <td>ORDJ08127</td>\n",
       "      <td>TP</td>\n",
       "    </tr>\n",
       "    <tr>\n",
       "      <td>1</td>\n",
       "      <td>ORDJ03196</td>\n",
       "      <td>TP</td>\n",
       "    </tr>\n",
       "    <tr>\n",
       "      <td>2</td>\n",
       "      <td>ORDX00228</td>\n",
       "      <td>BK</td>\n",
       "    </tr>\n",
       "    <tr>\n",
       "      <td>3</td>\n",
       "      <td>ORDJ05076</td>\n",
       "      <td>TP</td>\n",
       "    </tr>\n",
       "    <tr>\n",
       "      <td>4</td>\n",
       "      <td>ORDX09337</td>\n",
       "      <td>BK</td>\n",
       "    </tr>\n",
       "  </tbody>\n",
       "</table>\n",
       "</div>"
      ],
      "text/plain": [
       "    order_id branch_code\n",
       "0  ORDJ08127          TP\n",
       "1  ORDJ03196          TP\n",
       "2  ORDX00228          BK\n",
       "3  ORDJ05076          TP\n",
       "4  ORDX09337          BK"
      ]
     },
     "execution_count": 47,
     "metadata": {},
     "output_type": "execute_result"
    }
   ],
   "source": [
    "order_ids.head()"
   ]
  },
  {
   "cell_type": "code",
   "execution_count": 48,
   "metadata": {},
   "outputs": [],
   "source": [
    "order_ids['order_number'] = order_ids.apply(lambda x: x.order_id[0:4], axis = 1) # taking first 4 letters in order_id column"
   ]
  },
  {
   "cell_type": "code",
   "execution_count": 49,
   "metadata": {},
   "outputs": [
    {
     "data": {
      "text/plain": [
       "branch_code  order_number\n",
       "BK           ORDA            45\n",
       "             ORDK            62\n",
       "             ORDX            54\n",
       "NS           ORDC            67\n",
       "             ORDI            48\n",
       "             ORDZ            59\n",
       "TP           ORDB            46\n",
       "             ORDJ            56\n",
       "             ORDY            63\n",
       "dtype: int64"
      ]
     },
     "execution_count": 49,
     "metadata": {},
     "output_type": "execute_result"
    }
   ],
   "source": [
    "order_ids.groupby(['branch_code','order_number']).size()   # group the columns"
   ]
  },
  {
   "cell_type": "code",
   "execution_count": 50,
   "metadata": {},
   "outputs": [
    {
     "data": {
      "text/plain": [
       "TP    165\n",
       "Name: branch_code, dtype: int64"
      ]
     },
     "execution_count": 50,
     "metadata": {},
     "output_type": "execute_result"
    }
   ],
   "source": [
    "outlier_data_df['branch_code'][(outlier_data_df.order_id.str.startswith('ORDB')) | (outlier_data_df.order_id.str.startswith('ORDJ')) | (outlier_data_df.order_id.str.startswith('ORDY'))].value_counts() "
   ]
  },
  {
   "cell_type": "code",
   "execution_count": 51,
   "metadata": {},
   "outputs": [
    {
     "data": {
      "text/plain": [
       "NS    174\n",
       "Name: branch_code, dtype: int64"
      ]
     },
     "execution_count": 51,
     "metadata": {},
     "output_type": "execute_result"
    }
   ],
   "source": [
    "outlier_data_df['branch_code'][(outlier_data_df.order_id.str.startswith('ORDI')) | (outlier_data_df.order_id.str.startswith('ORDC')) | (outlier_data_df.order_id.str.startswith('ORDZ'))].value_counts() "
   ]
  },
  {
   "cell_type": "code",
   "execution_count": 52,
   "metadata": {},
   "outputs": [
    {
     "data": {
      "text/plain": [
       "BK    161\n",
       "Name: branch_code, dtype: int64"
      ]
     },
     "execution_count": 52,
     "metadata": {},
     "output_type": "execute_result"
    }
   ],
   "source": [
    "outlier_data_df['branch_code'][(outlier_data_df.order_id.str.startswith('ORDX')) | (outlier_data_df.order_id.str.startswith('ORDK')) | (outlier_data_df.order_id.str.startswith('ORDA'))].value_counts() "
   ]
  },
  {
   "cell_type": "markdown",
   "metadata": {},
   "source": [
    "From the above output cells we conclude branch_code column as follows:\n",
    "- if the order is placed in TP branch, then order_id must startswith **'ORDB' or 'ORDJ' or 'ORDY'**.\n",
    "- if the order is placed in NS branch, then order_id must startswith **'ORDI' or 'ORDC' or 'ORDZ'**.\n",
    "- if the order is placed in BK branch, then order_id must startswith **'ORDX' or 'ORDK' or 'ORDA'**.\n"
   ]
  },
  {
   "cell_type": "markdown",
   "metadata": {},
   "source": [
    "Let's check in dirty data file branch_code column."
   ]
  },
  {
   "cell_type": "code",
   "execution_count": 53,
   "metadata": {},
   "outputs": [
    {
     "data": {
      "text/plain": [
       "TP    167\n",
       "BK      5\n",
       "NS      3\n",
       "Name: branch_code, dtype: int64"
      ]
     },
     "execution_count": 53,
     "metadata": {},
     "output_type": "execute_result"
    }
   ],
   "source": [
    "dirty_data_df['branch_code'][(dirty_data_df.order_id.str.startswith('ORDB')) | (dirty_data_df.order_id.str.startswith('ORDJ')) | (dirty_data_df.order_id.str.startswith('ORDY'))].value_counts() "
   ]
  },
  {
   "cell_type": "code",
   "execution_count": 54,
   "metadata": {},
   "outputs": [
    {
     "data": {
      "text/plain": [
       "NS    170\n",
       "TP      6\n",
       "BK      2\n",
       "Name: branch_code, dtype: int64"
      ]
     },
     "execution_count": 54,
     "metadata": {},
     "output_type": "execute_result"
    }
   ],
   "source": [
    "dirty_data_df['branch_code'][(dirty_data_df.order_id.str.startswith('ORDI')) | (dirty_data_df.order_id.str.startswith('ORDC')) | (dirty_data_df.order_id.str.startswith('ORDZ'))].value_counts() "
   ]
  },
  {
   "cell_type": "code",
   "execution_count": 55,
   "metadata": {},
   "outputs": [
    {
     "data": {
      "text/plain": [
       "BK    138\n",
       "TP      5\n",
       "NS      4\n",
       "Name: branch_code, dtype: int64"
      ]
     },
     "execution_count": 55,
     "metadata": {},
     "output_type": "execute_result"
    }
   ],
   "source": [
    "dirty_data_df['branch_code'][(dirty_data_df.order_id.str.startswith('ORDX')) | (dirty_data_df.order_id.str.startswith('ORDK')) | (dirty_data_df.order_id.str.startswith('ORDA'))].value_counts() "
   ]
  },
  {
   "cell_type": "markdown",
   "metadata": {},
   "source": [
    "So we see that branch_code values has been misplaced in the dirty data file. We replace those values with correct values."
   ]
  },
  {
   "cell_type": "markdown",
   "metadata": {},
   "source": [
    "There are about 8 misplaced observations for TP branch, we replace those observations with `TP`<br>\n",
    "There are about 8 misplaced observations for NS branch, we replace those observations with `NS`<br>\n",
    "There are about 9 misplaced observations for BK branch, we replace those observations with `BK`<br>"
   ]
  },
  {
   "cell_type": "code",
   "execution_count": 56,
   "metadata": {},
   "outputs": [],
   "source": [
    "dirty_data_df.loc[(dirty_data_df.order_id.str.startswith('ORDB')) | (dirty_data_df.order_id.str.startswith('ORDJ')) | (dirty_data_df.order_id.str.startswith('ORDY')), 'branch_code'] = 'TP' \n",
    "dirty_data_df.loc[(dirty_data_df.order_id.str.startswith('ORDI')) | (dirty_data_df.order_id.str.startswith('ORDC')) | (dirty_data_df.order_id.str.startswith('ORDZ')), 'branch_code'] = 'NS'\n",
    "dirty_data_df.loc[(dirty_data_df.order_id.str.startswith('ORDX')) | (dirty_data_df.order_id.str.startswith('ORDK')) | (dirty_data_df.order_id.str.startswith('ORDA')), 'branch_code'] = 'BK'"
   ]
  },
  {
   "cell_type": "code",
   "execution_count": 57,
   "metadata": {},
   "outputs": [
    {
     "name": "stdout",
     "output_type": "stream",
     "text": [
      "TP    175\n",
      "Name: branch_code, dtype: int64\n",
      "NS    178\n",
      "Name: branch_code, dtype: int64\n",
      "BK    147\n",
      "Name: branch_code, dtype: int64\n"
     ]
    }
   ],
   "source": [
    "print(dirty_data_df['branch_code'][(dirty_data_df.order_id.str.startswith('ORDB')) | (dirty_data_df.order_id.str.startswith('ORDJ')) | (dirty_data_df.order_id.str.startswith('ORDY'))].value_counts())\n",
    "print(dirty_data_df['branch_code'][(dirty_data_df.order_id.str.startswith('ORDI')) | (dirty_data_df.order_id.str.startswith('ORDC')) | (dirty_data_df.order_id.str.startswith('ORDZ'))].value_counts())\n",
    "print(dirty_data_df['branch_code'][(dirty_data_df.order_id.str.startswith('ORDX')) | (dirty_data_df.order_id.str.startswith('ORDK')) | (dirty_data_df.order_id.str.startswith('ORDA'))].value_counts())"
   ]
  },
  {
   "cell_type": "markdown",
   "metadata": {},
   "source": [
    "The branch_code column in dirty data is replaced with correct branch_code values."
   ]
  },
  {
   "cell_type": "markdown",
   "metadata": {},
   "source": [
    "## distance_to_customer_KM\n",
    "\n",
    "The distance_to_customer_KM is shortest distance betweeen branch and customer location. The distance is calculated as follows,\n",
    "- Since we have branch code, we can get the branch's latitude and longitude from the file `branches.csv`. We merge the dataframes(branches and dirty_data_df) to extract branch latitude and longitude for particular branch in dirty_data_df.\n",
    "- After extracting branch latitude and longitude, we need to extract branch_node from the `nodes.csv` file, since we `branch node` and `customer node` to calculate the shortest distance using `dijkstra's algorithm`.\n",
    "- The same way for each customer latitude and longitude, we extract node id using nodes dataframe.\n",
    "- After getting both node ids of branch and customer locations, we will find the shortest distance between two nodes using `edges.csv` file.\n",
    "- After getting actual distance from dijkstra's algorithm, we check for any miss calculated distance from the dirty_data_df `distance_to_customer_KM column`, we replace with the actual distance value. "
   ]
  },
  {
   "cell_type": "markdown",
   "metadata": {},
   "source": [
    "### Extracting branches latitude and longitude "
   ]
  },
  {
   "cell_type": "markdown",
   "metadata": {},
   "source": [
    "Now we load `branches.csv` to get the branch latitude and longitudes with respect to branch codes in our `dirty_data_df` dataframe."
   ]
  },
  {
   "cell_type": "code",
   "execution_count": 58,
   "metadata": {},
   "outputs": [
    {
     "data": {
      "text/html": [
       "<div>\n",
       "<style scoped>\n",
       "    .dataframe tbody tr th:only-of-type {\n",
       "        vertical-align: middle;\n",
       "    }\n",
       "\n",
       "    .dataframe tbody tr th {\n",
       "        vertical-align: top;\n",
       "    }\n",
       "\n",
       "    .dataframe thead th {\n",
       "        text-align: right;\n",
       "    }\n",
       "</style>\n",
       "<table border=\"1\" class=\"dataframe\">\n",
       "  <thead>\n",
       "    <tr style=\"text-align: right;\">\n",
       "      <th></th>\n",
       "      <th>branch_code</th>\n",
       "      <th>branch_name</th>\n",
       "      <th>branch_lat</th>\n",
       "      <th>branch_lon</th>\n",
       "    </tr>\n",
       "  </thead>\n",
       "  <tbody>\n",
       "    <tr>\n",
       "      <td>0</td>\n",
       "      <td>NS</td>\n",
       "      <td>Nickolson</td>\n",
       "      <td>-37.773803</td>\n",
       "      <td>144.983647</td>\n",
       "    </tr>\n",
       "    <tr>\n",
       "      <td>1</td>\n",
       "      <td>TP</td>\n",
       "      <td>Thompson</td>\n",
       "      <td>-37.861835</td>\n",
       "      <td>144.905716</td>\n",
       "    </tr>\n",
       "    <tr>\n",
       "      <td>2</td>\n",
       "      <td>BK</td>\n",
       "      <td>Bakers</td>\n",
       "      <td>-37.815834</td>\n",
       "      <td>145.046450</td>\n",
       "    </tr>\n",
       "  </tbody>\n",
       "</table>\n",
       "</div>"
      ],
      "text/plain": [
       "  branch_code branch_name  branch_lat  branch_lon\n",
       "0          NS   Nickolson  -37.773803  144.983647\n",
       "1          TP    Thompson  -37.861835  144.905716\n",
       "2          BK      Bakers  -37.815834  145.046450"
      ]
     },
     "execution_count": 58,
     "metadata": {},
     "output_type": "execute_result"
    }
   ],
   "source": [
    "branches_df = pd.read_csv('branches.csv')\n",
    "branches_df.head()"
   ]
  },
  {
   "cell_type": "markdown",
   "metadata": {},
   "source": [
    "So we merge both the dataframes on `branch_code` to get `branch_lat` and `branch_lon` using `pd.merge()` method."
   ]
  },
  {
   "cell_type": "code",
   "execution_count": 59,
   "metadata": {},
   "outputs": [],
   "source": [
    "# merging dirty_data_df and branches_df on branch_code\n",
    "dirty_data_df = pd.merge(dirty_data_df, branches_df, how = 'left',on = 'branch_code')"
   ]
  },
  {
   "cell_type": "markdown",
   "metadata": {},
   "source": [
    "### Extracting Node IDs"
   ]
  },
  {
   "cell_type": "markdown",
   "metadata": {},
   "source": [
    "Now we extract latitude and longitude node ids using `nodes.csv` for branch and customer latitudes and longitudes. "
   ]
  },
  {
   "cell_type": "code",
   "execution_count": 60,
   "metadata": {},
   "outputs": [
    {
     "data": {
      "text/html": [
       "<div>\n",
       "<style scoped>\n",
       "    .dataframe tbody tr th:only-of-type {\n",
       "        vertical-align: middle;\n",
       "    }\n",
       "\n",
       "    .dataframe tbody tr th {\n",
       "        vertical-align: top;\n",
       "    }\n",
       "\n",
       "    .dataframe thead th {\n",
       "        text-align: right;\n",
       "    }\n",
       "</style>\n",
       "<table border=\"1\" class=\"dataframe\">\n",
       "  <thead>\n",
       "    <tr style=\"text-align: right;\">\n",
       "      <th></th>\n",
       "      <th>node</th>\n",
       "      <th>lat</th>\n",
       "      <th>lon</th>\n",
       "    </tr>\n",
       "  </thead>\n",
       "  <tbody>\n",
       "    <tr>\n",
       "      <td>0</td>\n",
       "      <td>711327755</td>\n",
       "      <td>-37.807675</td>\n",
       "      <td>144.955873</td>\n",
       "    </tr>\n",
       "    <tr>\n",
       "      <td>1</td>\n",
       "      <td>711327756</td>\n",
       "      <td>-37.807094</td>\n",
       "      <td>144.955978</td>\n",
       "    </tr>\n",
       "    <tr>\n",
       "      <td>2</td>\n",
       "      <td>711327759</td>\n",
       "      <td>-37.807301</td>\n",
       "      <td>144.957817</td>\n",
       "    </tr>\n",
       "    <tr>\n",
       "      <td>3</td>\n",
       "      <td>711327760</td>\n",
       "      <td>-37.807885</td>\n",
       "      <td>144.957719</td>\n",
       "    </tr>\n",
       "    <tr>\n",
       "      <td>4</td>\n",
       "      <td>777781264</td>\n",
       "      <td>-37.805221</td>\n",
       "      <td>144.952173</td>\n",
       "    </tr>\n",
       "  </tbody>\n",
       "</table>\n",
       "</div>"
      ],
      "text/plain": [
       "        node        lat         lon\n",
       "0  711327755 -37.807675  144.955873\n",
       "1  711327756 -37.807094  144.955978\n",
       "2  711327759 -37.807301  144.957817\n",
       "3  711327760 -37.807885  144.957719\n",
       "4  777781264 -37.805221  144.952173"
      ]
     },
     "execution_count": 60,
     "metadata": {},
     "output_type": "execute_result"
    }
   ],
   "source": [
    "# loading nodes data\n",
    "nodes_df = pd.read_csv('nodes.csv')\n",
    "nodes_df.head()"
   ]
  },
  {
   "cell_type": "markdown",
   "metadata": {},
   "source": [
    "Now we proceed to extract branch node id for respective branch latitude and longitude."
   ]
  },
  {
   "cell_type": "code",
   "execution_count": 61,
   "metadata": {},
   "outputs": [],
   "source": [
    "# merging dirty_data_df and nodes_df\n",
    "dirty_data_df = pd.merge(dirty_data_df, nodes_df, how = 'left', left_on = ['branch_lat','branch_lon'], right_on= ['lat','lon'] )"
   ]
  },
  {
   "cell_type": "markdown",
   "metadata": {},
   "source": [
    "In the same way, we merge dirty_data_df and nodes_df to extract customer node id for customer latitude and longitude. "
   ]
  },
  {
   "cell_type": "code",
   "execution_count": 62,
   "metadata": {},
   "outputs": [],
   "source": [
    "# merging dirty_data_df and nodes_df\n",
    "dirty_data_df = pd.merge(dirty_data_df, nodes_df, how = 'left', left_on = ['customer_lat','customer_lon'], right_on= ['lat','lon'] )"
   ]
  },
  {
   "cell_type": "code",
   "execution_count": 63,
   "metadata": {},
   "outputs": [
    {
     "data": {
      "text/plain": [
       "Index(['order_id', 'date', 'time', 'order_type', 'branch_code', 'order_items',\n",
       "       'order_price', 'customer_lat', 'customer_lon', 'customerHasloyalty?',\n",
       "       'distance_to_customer_KM', 'delivery_fee', 'type_of_day', 'branch_name',\n",
       "       'branch_lat', 'branch_lon', 'node_x', 'lat_x', 'lon_x', 'node_y',\n",
       "       'lat_y', 'lon_y'],\n",
       "      dtype='object')"
      ]
     },
     "execution_count": 63,
     "metadata": {},
     "output_type": "execute_result"
    }
   ],
   "source": [
    "dirty_data_df.columns"
   ]
  },
  {
   "cell_type": "markdown",
   "metadata": {},
   "source": [
    "- Deleting unwanted columns called `lat_x`, `lon_x`, `lat_y` and `lon_y`. \n",
    "- Renaming columns `node_x` and `node_y` to `branch_node` and `customer_node` respectively."
   ]
  },
  {
   "cell_type": "code",
   "execution_count": 64,
   "metadata": {},
   "outputs": [],
   "source": [
    "# deleting the columns\n",
    "dirty_data_df = dirty_data_df.drop(['lat_x','lon_x','lat_y','lon_y'], axis = 1)"
   ]
  },
  {
   "cell_type": "code",
   "execution_count": 65,
   "metadata": {},
   "outputs": [],
   "source": [
    "# renaming the columns\n",
    "dirty_data_df.rename(columns = {'node_x' : 'branch_node', 'node_y' : 'customer_node'}, inplace = True)"
   ]
  },
  {
   "cell_type": "code",
   "execution_count": 66,
   "metadata": {},
   "outputs": [
    {
     "data": {
      "text/html": [
       "<div>\n",
       "<style scoped>\n",
       "    .dataframe tbody tr th:only-of-type {\n",
       "        vertical-align: middle;\n",
       "    }\n",
       "\n",
       "    .dataframe tbody tr th {\n",
       "        vertical-align: top;\n",
       "    }\n",
       "\n",
       "    .dataframe thead th {\n",
       "        text-align: right;\n",
       "    }\n",
       "</style>\n",
       "<table border=\"1\" class=\"dataframe\">\n",
       "  <thead>\n",
       "    <tr style=\"text-align: right;\">\n",
       "      <th></th>\n",
       "      <th>order_id</th>\n",
       "      <th>date</th>\n",
       "      <th>time</th>\n",
       "      <th>order_type</th>\n",
       "      <th>branch_code</th>\n",
       "      <th>order_items</th>\n",
       "      <th>order_price</th>\n",
       "      <th>customer_lat</th>\n",
       "      <th>customer_lon</th>\n",
       "      <th>customerHasloyalty?</th>\n",
       "      <th>distance_to_customer_KM</th>\n",
       "      <th>delivery_fee</th>\n",
       "      <th>type_of_day</th>\n",
       "      <th>branch_name</th>\n",
       "      <th>branch_lat</th>\n",
       "      <th>branch_lon</th>\n",
       "      <th>branch_node</th>\n",
       "      <th>customer_node</th>\n",
       "    </tr>\n",
       "  </thead>\n",
       "  <tbody>\n",
       "    <tr>\n",
       "      <td>0</td>\n",
       "      <td>ORDK10874</td>\n",
       "      <td>2018-01-20</td>\n",
       "      <td>08:30:25</td>\n",
       "      <td>Breakfast</td>\n",
       "      <td>BK</td>\n",
       "      <td>[('Cereal', 2), ('Pancake', 9), ('Coffee', 10)...</td>\n",
       "      <td>401.25</td>\n",
       "      <td>-37.814642</td>\n",
       "      <td>144.946602</td>\n",
       "      <td>0</td>\n",
       "      <td>9.008</td>\n",
       "      <td>16.555537</td>\n",
       "      <td>1</td>\n",
       "      <td>Bakers</td>\n",
       "      <td>-37.815834</td>\n",
       "      <td>145.046450</td>\n",
       "      <td>1889485053</td>\n",
       "      <td>636754479</td>\n",
       "    </tr>\n",
       "    <tr>\n",
       "      <td>1</td>\n",
       "      <td>ORDX05970</td>\n",
       "      <td>2018-12-30</td>\n",
       "      <td>20:00:00</td>\n",
       "      <td>Dinner</td>\n",
       "      <td>BK</td>\n",
       "      <td>[('Fish&amp;Chips', 6), ('Shrimp', 8)]</td>\n",
       "      <td>642.00</td>\n",
       "      <td>-37.815923</td>\n",
       "      <td>144.936974</td>\n",
       "      <td>0</td>\n",
       "      <td>10.058</td>\n",
       "      <td>19.548623</td>\n",
       "      <td>1</td>\n",
       "      <td>Bakers</td>\n",
       "      <td>-37.815834</td>\n",
       "      <td>145.046450</td>\n",
       "      <td>1889485053</td>\n",
       "      <td>1560149542</td>\n",
       "    </tr>\n",
       "    <tr>\n",
       "      <td>2</td>\n",
       "      <td>ORDJ01346</td>\n",
       "      <td>2018-11-11</td>\n",
       "      <td>18:28:43</td>\n",
       "      <td>Dinner</td>\n",
       "      <td>TP</td>\n",
       "      <td>[('Shrimp', 1), ('Salmon', 3), ('Fish&amp;Chips', ...</td>\n",
       "      <td>554.50</td>\n",
       "      <td>-37.815188</td>\n",
       "      <td>144.945009</td>\n",
       "      <td>0</td>\n",
       "      <td>9.563</td>\n",
       "      <td>15.091978</td>\n",
       "      <td>1</td>\n",
       "      <td>Thompson</td>\n",
       "      <td>-37.861835</td>\n",
       "      <td>144.905716</td>\n",
       "      <td>1390575046</td>\n",
       "      <td>3199579113</td>\n",
       "    </tr>\n",
       "    <tr>\n",
       "      <td>3</td>\n",
       "      <td>ORDZ03007</td>\n",
       "      <td>2018-04-19</td>\n",
       "      <td>11:32:57</td>\n",
       "      <td>Breakfast</td>\n",
       "      <td>NS</td>\n",
       "      <td>[('Eggs', 6), ('Coffee', 4)]</td>\n",
       "      <td>162.00</td>\n",
       "      <td>-37.816050</td>\n",
       "      <td>144.972315</td>\n",
       "      <td>0</td>\n",
       "      <td>7.902</td>\n",
       "      <td>12.975000</td>\n",
       "      <td>0</td>\n",
       "      <td>Nickolson</td>\n",
       "      <td>-37.773803</td>\n",
       "      <td>144.983647</td>\n",
       "      <td>2455254505</td>\n",
       "      <td>1449431579</td>\n",
       "    </tr>\n",
       "    <tr>\n",
       "      <td>4</td>\n",
       "      <td>ORDC05255</td>\n",
       "      <td>2018-03-31</td>\n",
       "      <td>10:52:23</td>\n",
       "      <td>Breakfast</td>\n",
       "      <td>NS</td>\n",
       "      <td>[('Pancake', 8), ('Coffee', 1), ('Cereal', 5)]</td>\n",
       "      <td>306.50</td>\n",
       "      <td>-37.811766</td>\n",
       "      <td>144.963816</td>\n",
       "      <td>1</td>\n",
       "      <td>7.693</td>\n",
       "      <td>14.526149</td>\n",
       "      <td>1</td>\n",
       "      <td>Nickolson</td>\n",
       "      <td>-37.773803</td>\n",
       "      <td>144.983647</td>\n",
       "      <td>2455254505</td>\n",
       "      <td>4544035095</td>\n",
       "    </tr>\n",
       "  </tbody>\n",
       "</table>\n",
       "</div>"
      ],
      "text/plain": [
       "    order_id       date      time order_type branch_code  \\\n",
       "0  ORDK10874 2018-01-20  08:30:25  Breakfast          BK   \n",
       "1  ORDX05970 2018-12-30  20:00:00     Dinner          BK   \n",
       "2  ORDJ01346 2018-11-11  18:28:43     Dinner          TP   \n",
       "3  ORDZ03007 2018-04-19  11:32:57  Breakfast          NS   \n",
       "4  ORDC05255 2018-03-31  10:52:23  Breakfast          NS   \n",
       "\n",
       "                                         order_items  order_price  \\\n",
       "0  [('Cereal', 2), ('Pancake', 9), ('Coffee', 10)...       401.25   \n",
       "1                 [('Fish&Chips', 6), ('Shrimp', 8)]       642.00   \n",
       "2  [('Shrimp', 1), ('Salmon', 3), ('Fish&Chips', ...       554.50   \n",
       "3                       [('Eggs', 6), ('Coffee', 4)]       162.00   \n",
       "4     [('Pancake', 8), ('Coffee', 1), ('Cereal', 5)]       306.50   \n",
       "\n",
       "   customer_lat  customer_lon  customerHasloyalty?  distance_to_customer_KM  \\\n",
       "0    -37.814642    144.946602                    0                    9.008   \n",
       "1    -37.815923    144.936974                    0                   10.058   \n",
       "2    -37.815188    144.945009                    0                    9.563   \n",
       "3    -37.816050    144.972315                    0                    7.902   \n",
       "4    -37.811766    144.963816                    1                    7.693   \n",
       "\n",
       "   delivery_fee  type_of_day branch_name  branch_lat  branch_lon  branch_node  \\\n",
       "0     16.555537            1      Bakers  -37.815834  145.046450   1889485053   \n",
       "1     19.548623            1      Bakers  -37.815834  145.046450   1889485053   \n",
       "2     15.091978            1    Thompson  -37.861835  144.905716   1390575046   \n",
       "3     12.975000            0   Nickolson  -37.773803  144.983647   2455254505   \n",
       "4     14.526149            1   Nickolson  -37.773803  144.983647   2455254505   \n",
       "\n",
       "   customer_node  \n",
       "0      636754479  \n",
       "1     1560149542  \n",
       "2     3199579113  \n",
       "3     1449431579  \n",
       "4     4544035095  "
      ]
     },
     "execution_count": 66,
     "metadata": {},
     "output_type": "execute_result"
    }
   ],
   "source": [
    "dirty_data_df.head()"
   ]
  },
  {
   "cell_type": "markdown",
   "metadata": {},
   "source": [
    "Loading edges file data."
   ]
  },
  {
   "cell_type": "code",
   "execution_count": 67,
   "metadata": {},
   "outputs": [],
   "source": [
    "edges = pd.read_csv('edges.csv')   # loading the edges data"
   ]
  },
  {
   "cell_type": "code",
   "execution_count": 68,
   "metadata": {},
   "outputs": [],
   "source": [
    "G = nx.from_pandas_edgelist(edges,'u','v',['distance(m)'])  # return a graph from pandas dataframe containing edge list"
   ]
  },
  {
   "cell_type": "code",
   "execution_count": 69,
   "metadata": {},
   "outputs": [],
   "source": [
    "# function to calculate distance \n",
    "def distance_calculation(path, edges):\n",
    "    \"\"\"\n",
    "    Function Name: distance_calculation\n",
    "    Number_of_arguments: 2\n",
    "    Arguments: path, edges\n",
    "    Description: This function adds all the paths distance to get the final distance between origin and destination nodes which is taking each row value from the edges dataframe and getting the distance.\n",
    "    Return value: distance value\n",
    "    \"\"\"\n",
    "    dd = 0\n",
    "    for i in range(len(path)-1):\n",
    "        dd = dd + (edges[((edges.u==path[i]) & (edges.v== path[i+1])) | ((edges.v==path[i]) & (edges.u== path[i+1]))]['distance(m)'].values[0] )\n",
    "    return dd"
   ]
  },
  {
   "cell_type": "code",
   "execution_count": 70,
   "metadata": {},
   "outputs": [],
   "source": [
    "def distance(G, edges_df, row):\n",
    "    \"\"\"\n",
    "    Function Name: distance\n",
    "    number of arguments: 3\n",
    "    Description: This function checks each row of the branch_node column and customer_node column to find the shortest path using dijkstra_path algorithm and the path which\n",
    "                 is obtained is passed to distance_calculation function as argument to get the distance value.\n",
    "    Return value: float value \n",
    "    \"\"\"\n",
    "    \n",
    "    src = row['branch_node']    # row value of branch_node column\n",
    "    des = row['customer_node']    # row value of customer_node column\n",
    "    p = nx.dijkstra_path(G,src,des,weight='distance(m)')    # shortest path is obtained\n",
    "    distance_value = distance_calculation(p, edges_df)/1000 # actual distance is obtained using distance_calculation function\n",
    "    return distance_value\n"
   ]
  },
  {
   "cell_type": "code",
   "execution_count": 71,
   "metadata": {},
   "outputs": [],
   "source": [
    "# calling distance function \n",
    "dirty_data_df['actual_distance'] = dirty_data_df.apply(lambda x: distance(G, edges, x), axis = 1)"
   ]
  },
  {
   "cell_type": "markdown",
   "metadata": {},
   "source": [
    "Since we have obtained actual distance column, we check for miss calculated distances in the column `distance_to_customer_KM` as follows."
   ]
  },
  {
   "cell_type": "code",
   "execution_count": 72,
   "metadata": {},
   "outputs": [],
   "source": [
    "missclassified_distances  = list(dirty_data_df[round(dirty_data_df['distance_to_customer_KM'],3) != dirty_data_df['actual_distance']].index.values.astype(int))"
   ]
  },
  {
   "cell_type": "markdown",
   "metadata": {},
   "source": [
    "We extracted the indices of the miss calculated distance rows in the `distance_to_customer_KM` column.   "
   ]
  },
  {
   "cell_type": "code",
   "execution_count": 73,
   "metadata": {},
   "outputs": [
    {
     "name": "stdout",
     "output_type": "stream",
     "text": [
      "[30, 31, 52, 57, 62, 84, 93, 95, 120, 124, 203, 207, 215, 231, 232, 239, 242, 256, 262, 263, 313, 315, 333, 337, 341, 358, 369, 376, 398, 401, 415, 432, 441, 455, 467, 472, 485]\n"
     ]
    }
   ],
   "source": [
    "print(missclassified_distances)"
   ]
  },
  {
   "cell_type": "markdown",
   "metadata": {},
   "source": [
    "Replacing the row values of column `distance_to_customer_KM` with row values of `actual_distance` column for respective indices."
   ]
  },
  {
   "cell_type": "code",
   "execution_count": 74,
   "metadata": {},
   "outputs": [],
   "source": [
    "for i in missclassified_distances:\n",
    "    dirty_data_df.loc[i,'distance_to_customer_KM'] = dirty_data_df.loc[i,'actual_distance']"
   ]
  },
  {
   "cell_type": "markdown",
   "metadata": {},
   "source": [
    "Let's check for any miss calculated distances."
   ]
  },
  {
   "cell_type": "code",
   "execution_count": 75,
   "metadata": {},
   "outputs": [
    {
     "data": {
      "text/html": [
       "<div>\n",
       "<style scoped>\n",
       "    .dataframe tbody tr th:only-of-type {\n",
       "        vertical-align: middle;\n",
       "    }\n",
       "\n",
       "    .dataframe tbody tr th {\n",
       "        vertical-align: top;\n",
       "    }\n",
       "\n",
       "    .dataframe thead th {\n",
       "        text-align: right;\n",
       "    }\n",
       "</style>\n",
       "<table border=\"1\" class=\"dataframe\">\n",
       "  <thead>\n",
       "    <tr style=\"text-align: right;\">\n",
       "      <th></th>\n",
       "      <th>order_id</th>\n",
       "      <th>date</th>\n",
       "      <th>time</th>\n",
       "      <th>order_type</th>\n",
       "      <th>branch_code</th>\n",
       "      <th>order_items</th>\n",
       "      <th>order_price</th>\n",
       "      <th>customer_lat</th>\n",
       "      <th>customer_lon</th>\n",
       "      <th>customerHasloyalty?</th>\n",
       "      <th>distance_to_customer_KM</th>\n",
       "      <th>delivery_fee</th>\n",
       "      <th>type_of_day</th>\n",
       "      <th>branch_name</th>\n",
       "      <th>branch_lat</th>\n",
       "      <th>branch_lon</th>\n",
       "      <th>branch_node</th>\n",
       "      <th>customer_node</th>\n",
       "      <th>actual_distance</th>\n",
       "    </tr>\n",
       "  </thead>\n",
       "  <tbody>\n",
       "  </tbody>\n",
       "</table>\n",
       "</div>"
      ],
      "text/plain": [
       "Empty DataFrame\n",
       "Columns: [order_id, date, time, order_type, branch_code, order_items, order_price, customer_lat, customer_lon, customerHasloyalty?, distance_to_customer_KM, delivery_fee, type_of_day, branch_name, branch_lat, branch_lon, branch_node, customer_node, actual_distance]\n",
       "Index: []"
      ]
     },
     "execution_count": 75,
     "metadata": {},
     "output_type": "execute_result"
    }
   ],
   "source": [
    "dirty_data_df[round(dirty_data_df['distance_to_customer_KM'],3) != dirty_data_df['actual_distance']]"
   ]
  },
  {
   "cell_type": "markdown",
   "metadata": {},
   "source": [
    "Miss calculated distance rows have been replaced in the `dirty_data_df`."
   ]
  },
  {
   "cell_type": "markdown",
   "metadata": {},
   "source": [
    "We delete all the irrelavent columns from the `dirty_data_df` as follows. "
   ]
  },
  {
   "cell_type": "code",
   "execution_count": 76,
   "metadata": {},
   "outputs": [],
   "source": [
    "# deleting the columns\n",
    "dirty_data_df = dirty_data_df.drop(['branch_name','branch_lat','branch_lon','branch_node','customer_node','actual_distance'], axis = 1)"
   ]
  },
  {
   "cell_type": "code",
   "execution_count": 77,
   "metadata": {},
   "outputs": [
    {
     "data": {
      "text/plain": [
       "Index(['order_id', 'date', 'time', 'order_type', 'branch_code', 'order_items',\n",
       "       'order_price', 'customer_lat', 'customer_lon', 'customerHasloyalty?',\n",
       "       'distance_to_customer_KM', 'delivery_fee', 'type_of_day'],\n",
       "      dtype='object')"
      ]
     },
     "execution_count": 77,
     "metadata": {},
     "output_type": "execute_result"
    }
   ],
   "source": [
    "dirty_data_df.columns"
   ]
  },
  {
   "cell_type": "markdown",
   "metadata": {},
   "source": [
    "## Order_items "
   ]
  },
  {
   "cell_type": "markdown",
   "metadata": {},
   "source": [
    "Given each meal has distinct set of items in the menu, for example breakfast items can't be served during lunch or dinner and so on. So to find the items served in breakfast, lunch and dinner \n",
    "- Since we have correct order items in missing and outliers data for breakfast, lunch and dinner meals, we extract breakfast, lunch and dinner items from missing and outliers data.\n",
    "- Once we obtain breakfast, lunch and dinner items, we check in `order_items` column `dirty_data_df` and remove respective items from the order_items."
   ]
  },
  {
   "cell_type": "code",
   "execution_count": 78,
   "metadata": {},
   "outputs": [
    {
     "data": {
      "text/html": [
       "<div>\n",
       "<style scoped>\n",
       "    .dataframe tbody tr th:only-of-type {\n",
       "        vertical-align: middle;\n",
       "    }\n",
       "\n",
       "    .dataframe tbody tr th {\n",
       "        vertical-align: top;\n",
       "    }\n",
       "\n",
       "    .dataframe thead th {\n",
       "        text-align: right;\n",
       "    }\n",
       "</style>\n",
       "<table border=\"1\" class=\"dataframe\">\n",
       "  <thead>\n",
       "    <tr style=\"text-align: right;\">\n",
       "      <th></th>\n",
       "      <th>order_id</th>\n",
       "      <th>date</th>\n",
       "      <th>time</th>\n",
       "      <th>order_type</th>\n",
       "      <th>branch_code</th>\n",
       "      <th>order_items</th>\n",
       "      <th>order_price</th>\n",
       "      <th>customer_lat</th>\n",
       "      <th>customer_lon</th>\n",
       "      <th>customerHasloyalty?</th>\n",
       "      <th>distance_to_customer_KM</th>\n",
       "      <th>delivery_fee</th>\n",
       "    </tr>\n",
       "  </thead>\n",
       "  <tbody>\n",
       "    <tr>\n",
       "      <td>0</td>\n",
       "      <td>ORDK10493</td>\n",
       "      <td>2018-02-17</td>\n",
       "      <td>09:31:16</td>\n",
       "      <td>Breakfast</td>\n",
       "      <td>BK</td>\n",
       "      <td>[('Coffee', 10), ('Cereal', 5), ('Pancake', 8)]</td>\n",
       "      <td>374.00</td>\n",
       "      <td>-37.804291</td>\n",
       "      <td>144.949809</td>\n",
       "      <td>0</td>\n",
       "      <td>8.891</td>\n",
       "      <td>16.251048</td>\n",
       "    </tr>\n",
       "    <tr>\n",
       "      <td>1</td>\n",
       "      <td>ORDI03704</td>\n",
       "      <td>2018-01-03</td>\n",
       "      <td>08:00:00</td>\n",
       "      <td>Breakfast</td>\n",
       "      <td>NS</td>\n",
       "      <td>[('Cereal', 7), ('Pancake', 9), ('Eggs', 8)]</td>\n",
       "      <td>541.25</td>\n",
       "      <td>-37.813428</td>\n",
       "      <td>144.941097</td>\n",
       "      <td>1</td>\n",
       "      <td>9.498</td>\n",
       "      <td>7.592900</td>\n",
       "    </tr>\n",
       "    <tr>\n",
       "      <td>2</td>\n",
       "      <td>ORDK06716</td>\n",
       "      <td>2018-08-02</td>\n",
       "      <td>15:05:54</td>\n",
       "      <td>Lunch</td>\n",
       "      <td>BK</td>\n",
       "      <td>[('Burger', 6), ('Fries', 5), ('Salad', 10), (...</td>\n",
       "      <td>823.00</td>\n",
       "      <td>-37.799679</td>\n",
       "      <td>144.954943</td>\n",
       "      <td>0</td>\n",
       "      <td>8.520</td>\n",
       "      <td>14.593719</td>\n",
       "    </tr>\n",
       "    <tr>\n",
       "      <td>3</td>\n",
       "      <td>ORDX08186</td>\n",
       "      <td>2018-05-26</td>\n",
       "      <td>12:43:56</td>\n",
       "      <td>Lunch</td>\n",
       "      <td>BK</td>\n",
       "      <td>[('Salad', 1), ('Burger', 7), ('Fries', 10)]</td>\n",
       "      <td>354.20</td>\n",
       "      <td>-37.805850</td>\n",
       "      <td>144.955864</td>\n",
       "      <td>0</td>\n",
       "      <td>8.074</td>\n",
       "      <td>16.380353</td>\n",
       "    </tr>\n",
       "    <tr>\n",
       "      <td>4</td>\n",
       "      <td>ORDB02119</td>\n",
       "      <td>2018-02-11</td>\n",
       "      <td>09:21:07</td>\n",
       "      <td>Breakfast</td>\n",
       "      <td>TP</td>\n",
       "      <td>[('Cereal', 5), ('Pancake', 10)]</td>\n",
       "      <td>347.50</td>\n",
       "      <td>-37.810262</td>\n",
       "      <td>144.969583</td>\n",
       "      <td>0</td>\n",
       "      <td>8.855</td>\n",
       "      <td>12.187842</td>\n",
       "    </tr>\n",
       "  </tbody>\n",
       "</table>\n",
       "</div>"
      ],
      "text/plain": [
       "    order_id        date      time order_type branch_code  \\\n",
       "0  ORDK10493  2018-02-17  09:31:16  Breakfast          BK   \n",
       "1  ORDI03704  2018-01-03  08:00:00  Breakfast          NS   \n",
       "2  ORDK06716  2018-08-02  15:05:54      Lunch          BK   \n",
       "3  ORDX08186  2018-05-26  12:43:56      Lunch          BK   \n",
       "4  ORDB02119  2018-02-11  09:21:07  Breakfast          TP   \n",
       "\n",
       "                                         order_items  order_price  \\\n",
       "0    [('Coffee', 10), ('Cereal', 5), ('Pancake', 8)]       374.00   \n",
       "1       [('Cereal', 7), ('Pancake', 9), ('Eggs', 8)]       541.25   \n",
       "2  [('Burger', 6), ('Fries', 5), ('Salad', 10), (...       823.00   \n",
       "3       [('Salad', 1), ('Burger', 7), ('Fries', 10)]       354.20   \n",
       "4                   [('Cereal', 5), ('Pancake', 10)]       347.50   \n",
       "\n",
       "   customer_lat  customer_lon  customerHasloyalty?  distance_to_customer_KM  \\\n",
       "0    -37.804291    144.949809                    0                    8.891   \n",
       "1    -37.813428    144.941097                    1                    9.498   \n",
       "2    -37.799679    144.954943                    0                    8.520   \n",
       "3    -37.805850    144.955864                    0                    8.074   \n",
       "4    -37.810262    144.969583                    0                    8.855   \n",
       "\n",
       "   delivery_fee  \n",
       "0     16.251048  \n",
       "1      7.592900  \n",
       "2     14.593719  \n",
       "3     16.380353  \n",
       "4     12.187842  "
      ]
     },
     "execution_count": 78,
     "metadata": {},
     "output_type": "execute_result"
    }
   ],
   "source": [
    "missing_data_df.head()"
   ]
  },
  {
   "cell_type": "code",
   "execution_count": 79,
   "metadata": {},
   "outputs": [
    {
     "data": {
      "text/html": [
       "<div>\n",
       "<style scoped>\n",
       "    .dataframe tbody tr th:only-of-type {\n",
       "        vertical-align: middle;\n",
       "    }\n",
       "\n",
       "    .dataframe tbody tr th {\n",
       "        vertical-align: top;\n",
       "    }\n",
       "\n",
       "    .dataframe thead th {\n",
       "        text-align: right;\n",
       "    }\n",
       "</style>\n",
       "<table border=\"1\" class=\"dataframe\">\n",
       "  <thead>\n",
       "    <tr style=\"text-align: right;\">\n",
       "      <th></th>\n",
       "      <th>order_id</th>\n",
       "      <th>date</th>\n",
       "      <th>time</th>\n",
       "      <th>order_type</th>\n",
       "      <th>branch_code</th>\n",
       "      <th>order_items</th>\n",
       "      <th>order_price</th>\n",
       "      <th>customer_lat</th>\n",
       "      <th>customer_lon</th>\n",
       "      <th>customerHasloyalty?</th>\n",
       "      <th>distance_to_customer_KM</th>\n",
       "      <th>delivery_fee</th>\n",
       "    </tr>\n",
       "  </thead>\n",
       "  <tbody>\n",
       "    <tr>\n",
       "      <td>0</td>\n",
       "      <td>ORDJ08127</td>\n",
       "      <td>2018-06-02</td>\n",
       "      <td>12:54:05</td>\n",
       "      <td>Lunch</td>\n",
       "      <td>TP</td>\n",
       "      <td>[('Burger', 10), ('Chicken', 9), ('Salad', 3),...</td>\n",
       "      <td>721.60</td>\n",
       "      <td>-37.800055</td>\n",
       "      <td>144.928417</td>\n",
       "      <td>0</td>\n",
       "      <td>11.596</td>\n",
       "      <td>16.321208</td>\n",
       "    </tr>\n",
       "    <tr>\n",
       "      <td>1</td>\n",
       "      <td>ORDJ03196</td>\n",
       "      <td>2018-06-09</td>\n",
       "      <td>13:14:21</td>\n",
       "      <td>Lunch</td>\n",
       "      <td>TP</td>\n",
       "      <td>[('Salad', 7), ('Chicken', 9)]</td>\n",
       "      <td>408.40</td>\n",
       "      <td>-37.820481</td>\n",
       "      <td>144.984090</td>\n",
       "      <td>0</td>\n",
       "      <td>9.284</td>\n",
       "      <td>14.756106</td>\n",
       "    </tr>\n",
       "    <tr>\n",
       "      <td>2</td>\n",
       "      <td>ORDX00228</td>\n",
       "      <td>2018-02-19</td>\n",
       "      <td>09:31:16</td>\n",
       "      <td>Breakfast</td>\n",
       "      <td>BK</td>\n",
       "      <td>[('Eggs', 9), ('Coffee', 10), ('Cereal', 2), (...</td>\n",
       "      <td>484.75</td>\n",
       "      <td>-37.808644</td>\n",
       "      <td>144.962895</td>\n",
       "      <td>0</td>\n",
       "      <td>7.544</td>\n",
       "      <td>12.472215</td>\n",
       "    </tr>\n",
       "    <tr>\n",
       "      <td>3</td>\n",
       "      <td>ORDJ05076</td>\n",
       "      <td>2018-08-09</td>\n",
       "      <td>15:16:03</td>\n",
       "      <td>Lunch</td>\n",
       "      <td>TP</td>\n",
       "      <td>[('Chicken', 9), ('Burger', 8), ('Salad', 10)]</td>\n",
       "      <td>708.00</td>\n",
       "      <td>-37.805317</td>\n",
       "      <td>144.940949</td>\n",
       "      <td>0</td>\n",
       "      <td>10.412</td>\n",
       "      <td>13.438908</td>\n",
       "    </tr>\n",
       "    <tr>\n",
       "      <td>4</td>\n",
       "      <td>ORDX09337</td>\n",
       "      <td>2018-04-27</td>\n",
       "      <td>11:43:05</td>\n",
       "      <td>Breakfast</td>\n",
       "      <td>BK</td>\n",
       "      <td>[('Eggs', 6), ('Cereal', 6), ('Coffee', 8), ('...</td>\n",
       "      <td>342.25</td>\n",
       "      <td>-37.810459</td>\n",
       "      <td>144.965840</td>\n",
       "      <td>0</td>\n",
       "      <td>7.329</td>\n",
       "      <td>11.581713</td>\n",
       "    </tr>\n",
       "  </tbody>\n",
       "</table>\n",
       "</div>"
      ],
      "text/plain": [
       "    order_id        date      time order_type branch_code  \\\n",
       "0  ORDJ08127  2018-06-02  12:54:05      Lunch          TP   \n",
       "1  ORDJ03196  2018-06-09  13:14:21      Lunch          TP   \n",
       "2  ORDX00228  2018-02-19  09:31:16  Breakfast          BK   \n",
       "3  ORDJ05076  2018-08-09  15:16:03      Lunch          TP   \n",
       "4  ORDX09337  2018-04-27  11:43:05  Breakfast          BK   \n",
       "\n",
       "                                         order_items  order_price  \\\n",
       "0  [('Burger', 10), ('Chicken', 9), ('Salad', 3),...       721.60   \n",
       "1                     [('Salad', 7), ('Chicken', 9)]       408.40   \n",
       "2  [('Eggs', 9), ('Coffee', 10), ('Cereal', 2), (...       484.75   \n",
       "3     [('Chicken', 9), ('Burger', 8), ('Salad', 10)]       708.00   \n",
       "4  [('Eggs', 6), ('Cereal', 6), ('Coffee', 8), ('...       342.25   \n",
       "\n",
       "   customer_lat  customer_lon  customerHasloyalty?  distance_to_customer_KM  \\\n",
       "0    -37.800055    144.928417                    0                   11.596   \n",
       "1    -37.820481    144.984090                    0                    9.284   \n",
       "2    -37.808644    144.962895                    0                    7.544   \n",
       "3    -37.805317    144.940949                    0                   10.412   \n",
       "4    -37.810459    144.965840                    0                    7.329   \n",
       "\n",
       "   delivery_fee  \n",
       "0     16.321208  \n",
       "1     14.756106  \n",
       "2     12.472215  \n",
       "3     13.438908  \n",
       "4     11.581713  "
      ]
     },
     "execution_count": 79,
     "metadata": {},
     "output_type": "execute_result"
    }
   ],
   "source": [
    "outlier_data_df.head()"
   ]
  },
  {
   "cell_type": "markdown",
   "metadata": {},
   "source": [
    "We have both the missing and outliers dataframes, we proceed to extract breakfast, lunch and dinner items."
   ]
  },
  {
   "cell_type": "markdown",
   "metadata": {},
   "source": [
    "### Chaging the values of the column from string to list\n"
   ]
  },
  {
   "cell_type": "markdown",
   "metadata": {},
   "source": [
    "A function named `chng_str_list` is defined to convert str value of each row in order_item column to list in all three dataframes."
   ]
  },
  {
   "cell_type": "code",
   "execution_count": 80,
   "metadata": {
    "scrolled": true
   },
   "outputs": [],
   "source": [
    "# changes str value to list\n",
    "def chng_str_list(val):\n",
    "    return ast.literal_eval(val['order_items'])   # ast.literal_eval() method converts and returns a list\n",
    "# calling the function to convert string values to list\n",
    "missing_data_df['order_items'] = missing_data_df.apply(chng_str_list,axis = 1)\n",
    "dirty_data_df['order_items'] = dirty_data_df.apply(chng_str_list,axis = 1)\n",
    "outlier_data_df['order_items'] = outlier_data_df.apply(chng_str_list, axis = 1)"
   ]
  },
  {
   "cell_type": "markdown",
   "metadata": {},
   "source": [
    "After converting the row values of order_item to list, we need to extract the breakfast, lunch and dinner items. For that we defined a function called `get_unique_items()`."
   ]
  },
  {
   "cell_type": "code",
   "execution_count": 81,
   "metadata": {},
   "outputs": [],
   "source": [
    "### give unique items in each menu and each dataframe\n",
    "def get_unique_items(df,menu):\n",
    "    \"\"\"\n",
    "    Function Name: get_unique_items\n",
    "    number of arguments: 2\n",
    "    Description: Extracts items in each meal in missing and outliers dataframes and returns a set which contains unique items for each meal offered\n",
    "    Return value: Set\n",
    "    \"\"\"\n",
    "    \n",
    "    item_list =[]\n",
    "    flat_item_list = []\n",
    "    sub_df = df[df[\"order_type\"]==menu]   \n",
    "    items_list = sub_df[\"order_items\"]  #checks if menu is equal to order_type in the dataframe, then we take all those menu items into one list\n",
    "    for i in items_list:     # for each list in items_list\n",
    "        item, val = zip(*i)  # considering only the items \n",
    "        item_list.append(item)  # appending them to list \n",
    "    flat_item_list = [val for sublist in item_list for val in sublist]    # flat the list \n",
    "    item_set = set(flat_item_list)   # set of that list gives items in the particular meal\n",
    "    return item_set"
   ]
  },
  {
   "cell_type": "markdown",
   "metadata": {},
   "source": [
    "From missing data, we use `get_unique_items()` to extract the breakfast, lunch and dinner items as shown below"
   ]
  },
  {
   "cell_type": "code",
   "execution_count": 82,
   "metadata": {},
   "outputs": [],
   "source": [
    "items_brkfst_missing_data_df = get_unique_items(missing_data_df,\"Breakfast\")\n",
    "items_lunch_missing_data_df = get_unique_items(missing_data_df,\"Lunch\")\n",
    "items_dinner_missing_data_df = get_unique_items(missing_data_df,\"Dinner\")\n"
   ]
  },
  {
   "cell_type": "code",
   "execution_count": 83,
   "metadata": {},
   "outputs": [
    {
     "name": "stdout",
     "output_type": "stream",
     "text": [
      "Items obtained using missing data\n",
      "Breakfast items : {'Coffee', 'Eggs', 'Cereal', 'Pancake'}\n",
      "Lunch items : {'Steak', 'Chicken', 'Burger', 'Salad', 'Fries'}\n",
      "Dinner items : {'Shrimp', 'Salmon', 'Pasta', 'Fish&Chips'}\n"
     ]
    }
   ],
   "source": [
    "print('Items obtained using missing data')\n",
    "print('Breakfast items :',items_brkfst_missing_data_df)\n",
    "print('Lunch items :',items_lunch_missing_data_df)\n",
    "print('Dinner items :',items_dinner_missing_data_df)"
   ]
  },
  {
   "cell_type": "markdown",
   "metadata": {},
   "source": [
    "Now let's look into items obatined using outliers data"
   ]
  },
  {
   "cell_type": "code",
   "execution_count": 84,
   "metadata": {},
   "outputs": [],
   "source": [
    "items_brkfst_outlier_data_df = get_unique_items(outlier_data_df,\"Breakfast\")\n",
    "items_lunch_outlier_data_df = get_unique_items(outlier_data_df,\"Lunch\")\n",
    "items_dinner_outlier_data_df = get_unique_items(outlier_data_df,\"Dinner\")\n"
   ]
  },
  {
   "cell_type": "code",
   "execution_count": 85,
   "metadata": {},
   "outputs": [
    {
     "name": "stdout",
     "output_type": "stream",
     "text": [
      "Items obtained using outliers data\n",
      "Breakfast items : {'Coffee', 'Eggs', 'Cereal', 'Pancake'}\n",
      "Lunch items : {'Steak', 'Chicken', 'Burger', 'Salad', 'Fries'}\n",
      "Dinner items : {'Shrimp', 'Salmon', 'Pasta', 'Fish&Chips'}\n"
     ]
    }
   ],
   "source": [
    "print('Items obtained using outliers data')\n",
    "print('Breakfast items :',items_brkfst_outlier_data_df)\n",
    "print('Lunch items :',items_lunch_outlier_data_df)\n",
    "print('Dinner items :',items_dinner_outlier_data_df)"
   ]
  },
  {
   "cell_type": "markdown",
   "metadata": {},
   "source": [
    "By looking at both outputs of missing and outliers data, breakfast, lunch and dinner meal items are same.\n",
    "\n",
    "So we take these items as the distinct items served for breakfast, lunch and dinner meal in the branches."
   ]
  },
  {
   "cell_type": "markdown",
   "metadata": {},
   "source": [
    "Let's look into the `dirty_data_df` and we extract distinct items served in branches for breakfast, lunch and dinner."
   ]
  },
  {
   "cell_type": "code",
   "execution_count": 86,
   "metadata": {},
   "outputs": [],
   "source": [
    "items_brkfst_dirty_data_df = get_unique_items(dirty_data_df,\"Breakfast\")\n",
    "items_lunch_dirty_data_df = get_unique_items(dirty_data_df,\"Lunch\")\n",
    "items_dinner_dirty_data_df = get_unique_items(dirty_data_df,\"Dinner\")"
   ]
  },
  {
   "cell_type": "code",
   "execution_count": 87,
   "metadata": {},
   "outputs": [
    {
     "name": "stdout",
     "output_type": "stream",
     "text": [
      "Items obtained using dirty data\n",
      "Breakfast items : {'Coffee', 'Shrimp', 'Steak', 'Fish&Chips', 'Pasta', 'Eggs', 'Salmon', 'Cereal', 'Pancake', 'Fries', 'Salad'}\n",
      "Lunch items : {'Steak', 'Coffee', 'Shrimp', 'Pasta', 'Chicken', 'Salmon', 'Burger', 'Salad', 'Fish&Chips', 'Fries', 'Pancake', 'Cereal'}\n",
      "Dinner items : {'Coffee', 'Shrimp', 'Pasta', 'Eggs', 'Salmon', 'Burger', 'Pancake', 'Fish&Chips', 'Fries', 'Cereal', 'Salad'}\n"
     ]
    }
   ],
   "source": [
    "print('Items obtained using dirty data')\n",
    "print('Breakfast items :',items_brkfst_dirty_data_df)\n",
    "print('Lunch items :',items_lunch_dirty_data_df)\n",
    "print('Dinner items :',items_dinner_dirty_data_df)"
   ]
  },
  {
   "cell_type": "markdown",
   "metadata": {},
   "source": [
    "From above cell output, we can see that items offered in breakfast, lunch and dinner are different compared to the items in missing and outliers file data. Using the items which are obtained using mssing and outliers data files, we remove the `order_items` column in the dirty data file. "
   ]
  },
  {
   "cell_type": "markdown",
   "metadata": {},
   "source": [
    "## Getting the correct menu items in the dirty data\n",
    "Using `get_crct_order_items` function we get the correct menu items in the `order_items` column in dirty data file.  "
   ]
  },
  {
   "cell_type": "code",
   "execution_count": 88,
   "metadata": {},
   "outputs": [],
   "source": [
    "def get_crct_order_items(row):\n",
    "    \"\"\"\n",
    "    Function name       : get_crct_order_items\n",
    "    Number_of_arguments : 1\n",
    "    Arguments           : row\n",
    "    Description         : This function accepts each row of dirty data file as an input, based on the menu type (brkfst, lunch, dinner)\n",
    "                          this function will check the order_items of that row in the set of items thats should be served in that time or menu. If the \n",
    "                          any wrong item is in the place then it will remove and return the correct set of items.\n",
    "    Return value        : correct set of items w.r.t the menu type.\n",
    "    \"\"\"\n",
    "    my_list = [] \n",
    "    if row['order_type'] == 'Breakfast':     #checking the menu type\n",
    "        for i in row['order_items']:\n",
    "            val = i[0]                       #getting the item name from the (item,quantity) tuple\n",
    "            if val in items_brkfst_missing_data_df:   #if the item is in that particular set of menu_type (this unique is created fromt the missing data order items)\n",
    "                my_list.append(i)                    #append to the mylist\n",
    "        row['order_items']=my_list               #replace the items with the correct values which are in mylist\n",
    "        return row['order_items']\n",
    "    elif row['order_type'] == 'Lunch':\n",
    "        for i in row['order_items']:\n",
    "            val = i[0]\n",
    "            if val in items_lunch_missing_data_df:\n",
    "                my_list.append(i)\n",
    "        row['order_items']=my_list\n",
    "        return row['order_items']\n",
    "    else:\n",
    "        for i in row['order_items']:\n",
    "            val = i[0]\n",
    "            if val in items_dinner_missing_data_df:\n",
    "                my_list.append(i)\n",
    "        row['order_items']=my_list\n",
    "        return row['order_items']\n",
    "    "
   ]
  },
  {
   "cell_type": "code",
   "execution_count": 89,
   "metadata": {},
   "outputs": [],
   "source": [
    "# calling the function get_crct_order_items to get the correct menu items \n",
    "dirty_data_df['order_items'] = dirty_data_df.apply(get_crct_order_items, axis=1)"
   ]
  },
  {
   "cell_type": "markdown",
   "metadata": {},
   "source": [
    "Now let's check menu items which are offered in breakfast, lunch and dinner in dirty data file."
   ]
  },
  {
   "cell_type": "code",
   "execution_count": 90,
   "metadata": {},
   "outputs": [],
   "source": [
    "items_brkfst_dirty_data_df = get_unique_items(dirty_data_df,\"Breakfast\")\n",
    "items_lunch_dirty_data_df = get_unique_items(dirty_data_df,\"Lunch\")\n",
    "items_dinner_dirty_data_df = get_unique_items(dirty_data_df,\"Dinner\")"
   ]
  },
  {
   "cell_type": "code",
   "execution_count": 91,
   "metadata": {},
   "outputs": [
    {
     "name": "stdout",
     "output_type": "stream",
     "text": [
      "Items obtained using dirty data\n",
      "Breakfast items : {'Coffee', 'Eggs', 'Cereal', 'Pancake'}\n",
      "Lunch items : {'Steak', 'Chicken', 'Burger', 'Salad', 'Fries'}\n",
      "Dinner items : {'Shrimp', 'Salmon', 'Pasta', 'Fish&Chips'}\n"
     ]
    }
   ],
   "source": [
    "print('Items obtained using dirty data')\n",
    "print('Breakfast items :',items_brkfst_dirty_data_df)\n",
    "print('Lunch items :',items_lunch_dirty_data_df)\n",
    "print('Dinner items :',items_dinner_dirty_data_df)"
   ]
  },
  {
   "cell_type": "markdown",
   "metadata": {},
   "source": [
    "From the above output cell, we can say that we have successfully corrected the menu items offered in breakfast, lunch and dinner."
   ]
  },
  {
   "cell_type": "markdown",
   "metadata": {},
   "source": [
    "## order_price"
   ]
  },
  {
   "cell_type": "markdown",
   "metadata": {},
   "source": [
    "To calculate the order_price column,\n",
    "- Firstly, we need to get the each item price in the menu.\n",
    "- We calculate each item price from the missing data file since it has the correct order_price column values as mentioned in the specifications.\n",
    "- Using python package `numpy.linalg` to solve a linear system of equations.\n",
    "- Based on the each item price we get after solving the linear equations, we find the order_price in the dirty_data_df for each order placed."
   ]
  },
  {
   "cell_type": "markdown",
   "metadata": {},
   "source": [
    "### Calculating each item price from the missing data file\n",
    "To calculate each item price, \n",
    "- first we sort each row value in the order_items column using `sorting` function.\n",
    "- we defined a function called `calculate_item_cost` which calculates the each item cost.\n",
    "  1. Divides the dataframes according to menutype\n",
    "  2. Sort the dataframe w.r.t to the item_count column which has been added in the above function.\n",
    "  3. Extracts the order_items, order_price columns and the number of rows which is equal to the unqiue number of items in the each menu type\n",
    "        ,In breakfast menu there are 4 different items so 4 rows will taken, similarly for other menu types and will be stored in sorted_new_df\n",
    "  4. Extracts each quantity and respective row order price and will sent through linalg.solve function to calculate individual cost <br>"
   ]
  },
  {
   "cell_type": "code",
   "execution_count": 92,
   "metadata": {},
   "outputs": [],
   "source": [
    "def sorting(row):\n",
    "    \"\"\"\n",
    "    Function Name: sorting\n",
    "    Number Of Arguments: 1\n",
    "    Arguments: row\n",
    "    Description: This function sorts the list of tuples\n",
    "    Return value: a sorted list of tuples\n",
    "    \"\"\"\n",
    "    n = row[\"order_items\"]\n",
    "    n.sort(key = operator.itemgetter(0))\n",
    "    return n\n",
    "\n",
    "missing_data_df[\"order_items\"]=missing_data_df.apply(sorting, axis=1)"
   ]
  },
  {
   "cell_type": "markdown",
   "metadata": {},
   "source": [
    "Here an item_count column is created to make count of items ordered."
   ]
  },
  {
   "cell_type": "code",
   "execution_count": 93,
   "metadata": {},
   "outputs": [],
   "source": [
    "def item_count_col(row):\n",
    "    val = len(row['order_items'])\n",
    "    return val\n",
    "# item_count column is created\n",
    "missing_data_df['item_count'] = missing_data_df.apply(item_count_col, axis =1)"
   ]
  },
  {
   "cell_type": "markdown",
   "metadata": {},
   "source": [
    "A function called `calculate_item_cost` is defined to calculate each item price in the menu."
   ]
  },
  {
   "cell_type": "code",
   "execution_count": 94,
   "metadata": {},
   "outputs": [],
   "source": [
    "def calculate_item_cost(menu, unique_len):\n",
    "    \"\"\"\n",
    "    Function name       : calculate_item_cost\n",
    "    Number_of_arguments : 2\n",
    "    Arguments           : menu, unique_len\n",
    "    Description         : This function calculates the each item cost.\n",
    "                          1. Divides the dataframes according to menutype\n",
    "                          2. Sort the dataframe w.r.t to the item_count column which has been added in the above function.\n",
    "                          3. Extracts the order_items, order_price columns and the number of rows which is equal to the unqiue number of items in the each menu type\n",
    "                              In breakfast menu there are 4 different items so 4 rows will taken, similarly for other menu types and will be stored in sorted_new_df\n",
    "                          4. Extracts each quantity and respective row order price and will sent through linalg.solve function to calculate individual cost\n",
    "    Return value        : returns a dictionary which has key values pairs as items and their cost.\n",
    "    \"\"\"\n",
    "    new_df =missing_data_df[missing_data_df[\"order_type\"] == menu] #subsetting according to the menu type\n",
    "    sorted_new_df = new_df.sort_values('item_count', ascending=False) #sorting the df w.r.t item_count column\n",
    "    sorted_new_df = sorted_new_df[['order_items',\"order_price\"]][:unique_len] #extracting number of rows which are equal to the number of unique items \n",
    "    items_list_new = list(sorted_new_df[\"order_items\"]) \n",
    "    i1_list=[]\n",
    "    q1_list=[]\n",
    "    for i in items_list_new:  #looping through the items list\n",
    "        i1,q1=zip(*i) #unzipping the (item,quantity) tuple\n",
    "        q1_list.append(list(q1)) #creating the list of lists of the item_quantity\n",
    "        \n",
    "    i1_list=list(i1)\n",
    "    order_price_new = list(sorted_new_df[\"order_price\"])  #extracting the order_price of the particular row\n",
    "    a = np.array(q1_list) \n",
    "    b = np.array(order_price_new)\n",
    "    x = np.linalg.solve(a, b) #calculating the each item cost.\n",
    "    x_list=x.tolist()\n",
    "    x_formatted_list = [ '%.2f' % elem for elem in x_list ]\n",
    "    zipobj = zip(i1_list,x_formatted_list)\n",
    "    dictionary=dict(zipobj)\n",
    "    return dictionary"
   ]
  },
  {
   "cell_type": "code",
   "execution_count": 95,
   "metadata": {},
   "outputs": [],
   "source": [
    "# for each individual menu item cost is calculated\n",
    "dinner_item_cost = calculate_item_cost(\"Dinner\",len(items_dinner_missing_data_df))\n",
    "lunch_item_cost=calculate_item_cost(\"Lunch\",len(items_lunch_missing_data_df))\n",
    "brkfst_item_cost=calculate_item_cost(\"Breakfast\",len(items_brkfst_missing_data_df))"
   ]
  },
  {
   "cell_type": "code",
   "execution_count": 96,
   "metadata": {},
   "outputs": [],
   "source": [
    "# creating a dictionary to store all the menu items with their respective prices \n",
    "items_price_individual = {**dinner_item_cost,**lunch_item_cost}\n",
    "items_price_individual = {**items_price_individual,**brkfst_item_cost}  "
   ]
  },
  {
   "cell_type": "code",
   "execution_count": 97,
   "metadata": {},
   "outputs": [
    {
     "name": "stdout",
     "output_type": "stream",
     "text": [
      "{'Fish&Chips': '35.00', 'Pasta': '27.50', 'Salmon': '41.00', 'Shrimp': '54.00', 'Burger': '31.00', 'Chicken': '32.00', 'Fries': '12.00', 'Salad': '17.20', 'Steak': '45.00', 'Cereal': '21.00', 'Coffee': '7.50', 'Eggs': '22.00', 'Pancake': '24.25'}\n"
     ]
    }
   ],
   "source": [
    "print(items_price_individual)   # menu items and their prices"
   ]
  },
  {
   "cell_type": "markdown",
   "metadata": {},
   "source": [
    "After obtaining the each item prices, we need to calculate the order price for each order placed in the dirty data file.<br>\n",
    "A function called `get_crct_order_price` is defined to calculate the order_price of order_items in the dirty data file. For each row value in the order_items column, with each item cost for respective items ordered , it calculted the order_price for the row."
   ]
  },
  {
   "cell_type": "code",
   "execution_count": 98,
   "metadata": {},
   "outputs": [],
   "source": [
    "def get_crct_order_price(row):\n",
    "    \"\"\"\n",
    "    Function name       : get_crct_order_price\n",
    "    Number_of_arguments : 1\n",
    "    Arguments           : row\n",
    "    Description         : This function calculates the order_price in dirty data file, with each item cost which we got in calculate_item_cost\n",
    "    Return value        : Calculates cost and returns the values.\n",
    "    \"\"\"\n",
    "    x = row[\"order_items\"]\n",
    "    y = row[\"order_price\"]\n",
    "    val = 0\n",
    "    for i in x:\n",
    "        j=i[0]\n",
    "        q= i[1]\n",
    "        val = float(val) + int(i[1])*float(items_price_individual[j])   # order_price is calculated\n",
    "    return(val)"
   ]
  },
  {
   "cell_type": "code",
   "execution_count": 99,
   "metadata": {},
   "outputs": [],
   "source": [
    "# calling the function to get the order price values in column cal_order_price \n",
    "dirty_data_df[\"cal_order_price\"] = dirty_data_df.apply(get_crct_order_price, axis=1)"
   ]
  },
  {
   "cell_type": "markdown",
   "metadata": {},
   "source": [
    "Now we check for miscalculated order prices in `dirty_data_df`. "
   ]
  },
  {
   "cell_type": "code",
   "execution_count": 100,
   "metadata": {},
   "outputs": [],
   "source": [
    "# obtaining index values of the miscalculated order price values\n",
    "miss_cal_price_indices = list(dirty_data_df[dirty_data_df['order_price'] != round(dirty_data_df['cal_order_price'],2)].index.values.astype(int))"
   ]
  },
  {
   "cell_type": "code",
   "execution_count": 101,
   "metadata": {},
   "outputs": [
    {
     "name": "stdout",
     "output_type": "stream",
     "text": [
      "[2, 8, 18, 21, 35, 36, 39, 43, 44, 51, 55, 56, 60, 77, 79, 81, 91, 96, 121, 127, 147, 174, 184, 194, 198, 228, 236, 244, 249, 251, 252, 265, 271, 278, 282, 288, 296, 297, 298, 305, 311, 312, 323, 329, 336, 342, 347, 357, 362, 371, 375, 384, 385, 389, 390, 395, 406, 407, 410, 420, 421, 423, 425, 426, 442, 444, 449, 456, 464, 473, 477, 487, 491, 492]\n"
     ]
    }
   ],
   "source": [
    "print(miss_cal_price_indices)"
   ]
  },
  {
   "cell_type": "code",
   "execution_count": 102,
   "metadata": {},
   "outputs": [],
   "source": [
    "# replacing with correct values from the cal_order_price column\n",
    "for i in miss_cal_price_indices:\n",
    "    dirty_data_df.loc[i,'order_price'] = round(dirty_data_df.loc[i,'cal_order_price'],2)"
   ]
  },
  {
   "cell_type": "markdown",
   "metadata": {},
   "source": [
    "After replacing the correct values in the `order_price` column, we check the two columns `order_price` and `cal_order_price`."
   ]
  },
  {
   "cell_type": "code",
   "execution_count": 103,
   "metadata": {},
   "outputs": [
    {
     "data": {
      "text/html": [
       "<div>\n",
       "<style scoped>\n",
       "    .dataframe tbody tr th:only-of-type {\n",
       "        vertical-align: middle;\n",
       "    }\n",
       "\n",
       "    .dataframe tbody tr th {\n",
       "        vertical-align: top;\n",
       "    }\n",
       "\n",
       "    .dataframe thead th {\n",
       "        text-align: right;\n",
       "    }\n",
       "</style>\n",
       "<table border=\"1\" class=\"dataframe\">\n",
       "  <thead>\n",
       "    <tr style=\"text-align: right;\">\n",
       "      <th></th>\n",
       "      <th>order_id</th>\n",
       "      <th>date</th>\n",
       "      <th>time</th>\n",
       "      <th>order_type</th>\n",
       "      <th>branch_code</th>\n",
       "      <th>order_items</th>\n",
       "      <th>order_price</th>\n",
       "      <th>customer_lat</th>\n",
       "      <th>customer_lon</th>\n",
       "      <th>customerHasloyalty?</th>\n",
       "      <th>distance_to_customer_KM</th>\n",
       "      <th>delivery_fee</th>\n",
       "      <th>type_of_day</th>\n",
       "      <th>cal_order_price</th>\n",
       "    </tr>\n",
       "  </thead>\n",
       "  <tbody>\n",
       "  </tbody>\n",
       "</table>\n",
       "</div>"
      ],
      "text/plain": [
       "Empty DataFrame\n",
       "Columns: [order_id, date, time, order_type, branch_code, order_items, order_price, customer_lat, customer_lon, customerHasloyalty?, distance_to_customer_KM, delivery_fee, type_of_day, cal_order_price]\n",
       "Index: []"
      ]
     },
     "execution_count": 103,
     "metadata": {},
     "output_type": "execute_result"
    }
   ],
   "source": [
    "dirty_data_df[dirty_data_df['order_price'] != round(dirty_data_df['cal_order_price'],2)]"
   ]
  },
  {
   "cell_type": "markdown",
   "metadata": {},
   "source": [
    "The `order_price` column has been cleaned."
   ]
  },
  {
   "cell_type": "code",
   "execution_count": 104,
   "metadata": {},
   "outputs": [
    {
     "data": {
      "text/plain": [
       "Index(['order_id', 'date', 'time', 'order_type', 'branch_code', 'order_items',\n",
       "       'order_price', 'customer_lat', 'customer_lon', 'customerHasloyalty?',\n",
       "       'distance_to_customer_KM', 'delivery_fee', 'type_of_day',\n",
       "       'cal_order_price'],\n",
       "      dtype='object')"
      ]
     },
     "execution_count": 104,
     "metadata": {},
     "output_type": "execute_result"
    }
   ],
   "source": [
    "dirty_data_df.columns"
   ]
  },
  {
   "cell_type": "markdown",
   "metadata": {},
   "source": [
    "customer_loyalty"
   ]
  },
  {
   "cell_type": "code",
   "execution_count": 105,
   "metadata": {},
   "outputs": [],
   "source": [
    "##hot coding the order_type values and creating a new column named time_of_day\n",
    "def time_of_day(row):\n",
    "    \"\"\"\n",
    "    Function Name: time_of_day\n",
    "    Number of arguments: 1\n",
    "    Arguments: row\n",
    "    Description: this function checks order_type of each row and assigns code respectively\n",
    "    Return value: Integer\n",
    "    \"\"\"\n",
    "    if row[\"order_type\"] == \"Breakfast\":\n",
    "        return 0\n",
    "    elif row[\"order_type\"] == \"Lunch\":\n",
    "        return 1\n",
    "    else:\n",
    "        return 2\n",
    "dirty_data_df[\"time_of_day\"] = dirty_data_df.apply(time_of_day, axis =1)"
   ]
  },
  {
   "cell_type": "code",
   "execution_count": 106,
   "metadata": {},
   "outputs": [
    {
     "data": {
      "text/plain": [
       "Index(['order_id', 'date', 'time', 'order_type', 'branch_code', 'order_items',\n",
       "       'order_price', 'customer_lat', 'customer_lon', 'customerHasloyalty?',\n",
       "       'distance_to_customer_KM', 'delivery_fee', 'type_of_day',\n",
       "       'cal_order_price', 'time_of_day'],\n",
       "      dtype='object')"
      ]
     },
     "execution_count": 106,
     "metadata": {},
     "output_type": "execute_result"
    }
   ],
   "source": [
    "dirty_data_df.columns"
   ]
  },
  {
   "cell_type": "code",
   "execution_count": 107,
   "metadata": {},
   "outputs": [],
   "source": [
    "bk_dirty_data_df = dirty_data_df[dirty_data_df['branch_code']==\"BK\"] #this df has data related to BK branch\n",
    "tp_dirty_data_df = dirty_data_df[dirty_data_df['branch_code']==\"TP\"] #this df has data related to TP branch\n",
    "ns_dirty_data_df = dirty_data_df[dirty_data_df['branch_code']==\"NS\"] "
   ]
  },
  {
   "cell_type": "code",
   "execution_count": 108,
   "metadata": {},
   "outputs": [
    {
     "name": "stdout",
     "output_type": "stream",
     "text": [
      "r-squared for this model =  0.7596513249077275\n"
     ]
    }
   ],
   "source": [
    "X = bk_dirty_data_df[['distance_to_customer_KM','type_of_day',\"time_of_day\"]]  #df with only required features\n",
    "y = bk_dirty_data_df[\"delivery_fee\"]  #df that has the target variable\n",
    "X_train, X_test, y_train, y_test = train_test_split(X,y, test_size=0.2, random_state=5) #creating the test and train data\n",
    "regressor_bk1 = LinearRegression()  \n",
    "regressor_bk1.fit(X_train, y_train) #training the algorithm\n",
    "print ('r-squared for this model = ',regressor_bk1.score(X_test,y_test)) #getting the accuracy of the model"
   ]
  },
  {
   "cell_type": "code",
   "execution_count": 109,
   "metadata": {},
   "outputs": [
    {
     "name": "stdout",
     "output_type": "stream",
     "text": [
      "r-squared for this model =  0.552766249576033\n"
     ]
    }
   ],
   "source": [
    "X = tp_dirty_data_df[['distance_to_customer_KM','type_of_day',\"time_of_day\"]]  #df with only required features\n",
    "y = tp_dirty_data_df[\"delivery_fee\"]  #df that has the target variable\n",
    "X_train, X_test, y_train, y_test = train_test_split(X,y, test_size=0.2, random_state=5) #creating the test and train data\n",
    "regressor_tp1 = LinearRegression()  \n",
    "regressor_tp1.fit(X_train, y_train) #training the algorithm\n",
    "print ('r-squared for this model = ',regressor_tp1.score(X_test,y_test)) #getting the accuracy of the model"
   ]
  },
  {
   "cell_type": "code",
   "execution_count": 110,
   "metadata": {},
   "outputs": [
    {
     "name": "stdout",
     "output_type": "stream",
     "text": [
      "r-squared for this model =  0.431048808626566\n"
     ]
    }
   ],
   "source": [
    "X = ns_dirty_data_df[['distance_to_customer_KM','type_of_day',\"time_of_day\"]]  #df with only required features\n",
    "y = ns_dirty_data_df[\"delivery_fee\"]  #df that has the target variable\n",
    "X_train, X_test, y_train, y_test = train_test_split(X,y, test_size=0.2, random_state=5) #creating the test and train data\n",
    "regressor_ns1 = LinearRegression()  \n",
    "regressor_ns1.fit(X_train, y_train) #training the algorithm\n",
    "print ('r-squared for this model = ',regressor_ns1.score(X_test,y_test)) #getting the accuracy of the model"
   ]
  },
  {
   "cell_type": "code",
   "execution_count": 111,
   "metadata": {},
   "outputs": [],
   "source": [
    "dit_pred_bk = regressor_bk1.predict(bk_dirty_data_df[['distance_to_customer_KM','type_of_day',\"time_of_day\"]])\n",
    "dit_pred_tp = regressor_tp1.predict(tp_dirty_data_df[['distance_to_customer_KM','type_of_day',\"time_of_day\"]])\n",
    "dit_pred_ns = regressor_ns1.predict(ns_dirty_data_df[['distance_to_customer_KM','type_of_day',\"time_of_day\"]])"
   ]
  },
  {
   "cell_type": "code",
   "execution_count": 112,
   "metadata": {},
   "outputs": [],
   "source": [
    "# taking index values to impute the missing values\n",
    "bk_branch_indices1 = list(bk_dirty_data_df.index.values.astype(int))\n",
    "tp_branch_indices1 = list(tp_dirty_data_df.index.values.astype(int))\n",
    "ns_branch_indices1 = list(ns_dirty_data_df.index.values.astype(int))"
   ]
  },
  {
   "cell_type": "code",
   "execution_count": 113,
   "metadata": {},
   "outputs": [],
   "source": [
    "y = 0\n",
    "for i in bk_branch_indices1:\n",
    "    dirty_data_df.loc[i,'calculated_del_fee'] = dit_pred_bk[y]\n",
    "    y = y+1\n",
    "y = 0\n",
    "for i in tp_branch_indices1:\n",
    "    dirty_data_df.loc[i,'calculated_del_fee'] = dit_pred_tp[y]\n",
    "    y = y+1\n",
    "y = 0\n",
    "for i in ns_branch_indices1:\n",
    "    dirty_data_df.loc[i,'calculated_del_fee'] = dit_pred_ns[y]\n",
    "    y = y+1\n"
   ]
  },
  {
   "cell_type": "markdown",
   "metadata": {},
   "source": [
    "Calculating the ratio for the given delivery fees and the calcuated delivery fees and storing the values in the `ratio` column.\n",
    "\n",
    "If the ratio value is nearly equal to **1** then the `customerHasLoyalty?` value should be **0**, and if the raito value is nearly equal to **0.5** then the `customerHasLoyalty?` value should be **1**.\n",
    "\n",
    "Below we are checking the total number values near to 1 and the count of the customers having no loyalty."
   ]
  },
  {
   "cell_type": "code",
   "execution_count": 114,
   "metadata": {},
   "outputs": [],
   "source": [
    "dirty_data_df[\"ratio\"]=round(dirty_data_df[\"delivery_fee\"]/dirty_data_df[\"calculated_del_fee\"],1) #calcultinng the ratio and rounding off the value to one decimal point"
   ]
  },
  {
   "cell_type": "code",
   "execution_count": 115,
   "metadata": {},
   "outputs": [
    {
     "data": {
      "text/plain": [
       "1.0    323\n",
       "1.1    129\n",
       "0.9     23\n",
       "0.5     17\n",
       "0.6      6\n",
       "1.2      2\n",
       "Name: ratio, dtype: int64"
      ]
     },
     "execution_count": 115,
     "metadata": {},
     "output_type": "execute_result"
    }
   ],
   "source": [
    "dirty_data_df.ratio.value_counts()"
   ]
  },
  {
   "cell_type": "markdown",
   "metadata": {},
   "source": [
    "Since we have 0.9,1.0,1.1,1.2 values that are near to 1, we take the count of those values and check with the count of customerHasLoyalty? equal to 0"
   ]
  },
  {
   "cell_type": "markdown",
   "metadata": {},
   "source": [
    "**Calculating the count of rows having ratio greater than 0.9**"
   ]
  },
  {
   "cell_type": "code",
   "execution_count": 116,
   "metadata": {},
   "outputs": [
    {
     "name": "stdout",
     "output_type": "stream",
     "text": [
      "Actual count of customerHasLoyalty? equal to 0: 477\n",
      "Actual count of customerHasLoyalty? equal to 1: 23\n"
     ]
    }
   ],
   "source": [
    "print(\"Actual count of customerHasLoyalty? equal to 0:\",len(dirty_data_df[dirty_data_df[\"ratio\"]>=0.9])) \n",
    "print(\"Actual count of customerHasLoyalty? equal to 1:\",len(dirty_data_df[dirty_data_df[\"ratio\"]<=0.6])) "
   ]
  },
  {
   "cell_type": "code",
   "execution_count": 117,
   "metadata": {},
   "outputs": [
    {
     "name": "stdout",
     "output_type": "stream",
     "text": [
      "Given count of customerHasLoyalty? equal to 0: 446\n",
      "Given count of customerHasLoyalty? equal to 1: 54\n"
     ]
    }
   ],
   "source": [
    "print(\"Given count of customerHasLoyalty? equal to 0:\",len(dirty_data_df[dirty_data_df[\"customerHasloyalty?\"]==0])) \n",
    "print(\"Given count of customerHasLoyalty? equal to 1:\",len(dirty_data_df[dirty_data_df[\"customerHasloyalty?\"]==1])) "
   ]
  },
  {
   "cell_type": "markdown",
   "metadata": {},
   "source": [
    "We see that there are 31 mismatches in the customerHasloyalty? column, fixing these values would give us the correct values"
   ]
  },
  {
   "cell_type": "code",
   "execution_count": 118,
   "metadata": {},
   "outputs": [],
   "source": [
    "def fix_loyalty_col(row):\n",
    "    y=row[\"ratio\"]\n",
    "    if (y>=0.9):\n",
    "        return 0\n",
    "    else:\n",
    "        return 1\n",
    "dirty_data_df[\"customerHasloyalty?\"] = dirty_data_df.apply(fix_loyalty_col, axis = 1)"
   ]
  },
  {
   "cell_type": "code",
   "execution_count": 119,
   "metadata": {},
   "outputs": [
    {
     "data": {
      "text/plain": [
       "0    477\n",
       "1     23\n",
       "Name: customerHasloyalty?, dtype: int64"
      ]
     },
     "execution_count": 119,
     "metadata": {},
     "output_type": "execute_result"
    }
   ],
   "source": [
    "dirty_data_df[\"customerHasloyalty?\"].value_counts()"
   ]
  },
  {
   "cell_type": "markdown",
   "metadata": {},
   "source": [
    "Now we see that this column `customerHasloyalty?` is fixed"
   ]
  },
  {
   "cell_type": "markdown",
   "metadata": {},
   "source": [
    "# Missing data"
   ]
  },
  {
   "cell_type": "code",
   "execution_count": 120,
   "metadata": {},
   "outputs": [
    {
     "name": "stdout",
     "output_type": "stream",
     "text": [
      "<class 'pandas.core.frame.DataFrame'>\n",
      "RangeIndex: 500 entries, 0 to 499\n",
      "Data columns (total 13 columns):\n",
      "order_id                   500 non-null object\n",
      "date                       500 non-null object\n",
      "time                       500 non-null object\n",
      "order_type                 500 non-null object\n",
      "branch_code                400 non-null object\n",
      "order_items                500 non-null object\n",
      "order_price                500 non-null float64\n",
      "customer_lat               500 non-null float64\n",
      "customer_lon               500 non-null float64\n",
      "customerHasloyalty?        500 non-null int64\n",
      "distance_to_customer_KM    450 non-null float64\n",
      "delivery_fee               450 non-null float64\n",
      "item_count                 500 non-null int64\n",
      "dtypes: float64(5), int64(2), object(6)\n",
      "memory usage: 50.9+ KB\n"
     ]
    }
   ],
   "source": [
    "missing_data_df.info()"
   ]
  },
  {
   "cell_type": "markdown",
   "metadata": {},
   "source": [
    "There are `500 x 12` records and in that there are `100 missing values` in `branch_code` column, `50 missing values` in each `distance_to_customer_KM` and `delivery_fee` column. "
   ]
  },
  {
   "cell_type": "code",
   "execution_count": 121,
   "metadata": {},
   "outputs": [
    {
     "data": {
      "text/html": [
       "<div>\n",
       "<style scoped>\n",
       "    .dataframe tbody tr th:only-of-type {\n",
       "        vertical-align: middle;\n",
       "    }\n",
       "\n",
       "    .dataframe tbody tr th {\n",
       "        vertical-align: top;\n",
       "    }\n",
       "\n",
       "    .dataframe thead th {\n",
       "        text-align: right;\n",
       "    }\n",
       "</style>\n",
       "<table border=\"1\" class=\"dataframe\">\n",
       "  <thead>\n",
       "    <tr style=\"text-align: right;\">\n",
       "      <th></th>\n",
       "      <th>order_price</th>\n",
       "      <th>customer_lat</th>\n",
       "      <th>customer_lon</th>\n",
       "      <th>customerHasloyalty?</th>\n",
       "      <th>distance_to_customer_KM</th>\n",
       "      <th>delivery_fee</th>\n",
       "      <th>item_count</th>\n",
       "    </tr>\n",
       "  </thead>\n",
       "  <tbody>\n",
       "    <tr>\n",
       "      <td>count</td>\n",
       "      <td>500.000000</td>\n",
       "      <td>500.000000</td>\n",
       "      <td>500.000000</td>\n",
       "      <td>500.000000</td>\n",
       "      <td>450.000000</td>\n",
       "      <td>450.000000</td>\n",
       "      <td>500.000000</td>\n",
       "    </tr>\n",
       "    <tr>\n",
       "      <td>mean</td>\n",
       "      <td>505.247000</td>\n",
       "      <td>-37.812031</td>\n",
       "      <td>144.966181</td>\n",
       "      <td>0.046000</td>\n",
       "      <td>8.737629</td>\n",
       "      <td>13.811465</td>\n",
       "      <td>3.126000</td>\n",
       "    </tr>\n",
       "    <tr>\n",
       "      <td>std</td>\n",
       "      <td>276.261372</td>\n",
       "      <td>0.007644</td>\n",
       "      <td>0.020385</td>\n",
       "      <td>0.209695</td>\n",
       "      <td>1.655406</td>\n",
       "      <td>2.323282</td>\n",
       "      <td>0.950753</td>\n",
       "    </tr>\n",
       "    <tr>\n",
       "      <td>min</td>\n",
       "      <td>36.000000</td>\n",
       "      <td>-37.827894</td>\n",
       "      <td>144.918101</td>\n",
       "      <td>0.000000</td>\n",
       "      <td>3.658000</td>\n",
       "      <td>5.569585</td>\n",
       "      <td>2.000000</td>\n",
       "    </tr>\n",
       "    <tr>\n",
       "      <td>25%</td>\n",
       "      <td>302.937500</td>\n",
       "      <td>-37.818056</td>\n",
       "      <td>144.952389</td>\n",
       "      <td>0.000000</td>\n",
       "      <td>7.825500</td>\n",
       "      <td>12.733063</td>\n",
       "      <td>2.000000</td>\n",
       "    </tr>\n",
       "    <tr>\n",
       "      <td>50%</td>\n",
       "      <td>447.875000</td>\n",
       "      <td>-37.812166</td>\n",
       "      <td>144.963691</td>\n",
       "      <td>0.000000</td>\n",
       "      <td>8.763000</td>\n",
       "      <td>13.908753</td>\n",
       "      <td>3.000000</td>\n",
       "    </tr>\n",
       "    <tr>\n",
       "      <td>75%</td>\n",
       "      <td>652.375000</td>\n",
       "      <td>-37.805386</td>\n",
       "      <td>144.980133</td>\n",
       "      <td>0.000000</td>\n",
       "      <td>9.809750</td>\n",
       "      <td>15.142618</td>\n",
       "      <td>4.000000</td>\n",
       "    </tr>\n",
       "    <tr>\n",
       "      <td>max</td>\n",
       "      <td>1499.000000</td>\n",
       "      <td>-37.788784</td>\n",
       "      <td>145.019670</td>\n",
       "      <td>1.000000</td>\n",
       "      <td>13.792000</td>\n",
       "      <td>19.500850</td>\n",
       "      <td>5.000000</td>\n",
       "    </tr>\n",
       "  </tbody>\n",
       "</table>\n",
       "</div>"
      ],
      "text/plain": [
       "       order_price  customer_lat  customer_lon  customerHasloyalty?  \\\n",
       "count   500.000000    500.000000    500.000000           500.000000   \n",
       "mean    505.247000    -37.812031    144.966181             0.046000   \n",
       "std     276.261372      0.007644      0.020385             0.209695   \n",
       "min      36.000000    -37.827894    144.918101             0.000000   \n",
       "25%     302.937500    -37.818056    144.952389             0.000000   \n",
       "50%     447.875000    -37.812166    144.963691             0.000000   \n",
       "75%     652.375000    -37.805386    144.980133             0.000000   \n",
       "max    1499.000000    -37.788784    145.019670             1.000000   \n",
       "\n",
       "       distance_to_customer_KM  delivery_fee  item_count  \n",
       "count               450.000000    450.000000  500.000000  \n",
       "mean                  8.737629     13.811465    3.126000  \n",
       "std                   1.655406      2.323282    0.950753  \n",
       "min                   3.658000      5.569585    2.000000  \n",
       "25%                   7.825500     12.733063    2.000000  \n",
       "50%                   8.763000     13.908753    3.000000  \n",
       "75%                   9.809750     15.142618    4.000000  \n",
       "max                  13.792000     19.500850    5.000000  "
      ]
     },
     "execution_count": 121,
     "metadata": {},
     "output_type": "execute_result"
    }
   ],
   "source": [
    "missing_data_df.describe()"
   ]
  },
  {
   "cell_type": "code",
   "execution_count": 122,
   "metadata": {},
   "outputs": [
    {
     "data": {
      "text/plain": [
       "order_id                     0\n",
       "date                         0\n",
       "time                         0\n",
       "order_type                   0\n",
       "branch_code                100\n",
       "order_items                  0\n",
       "order_price                  0\n",
       "customer_lat                 0\n",
       "customer_lon                 0\n",
       "customerHasloyalty?          0\n",
       "distance_to_customer_KM     50\n",
       "delivery_fee                50\n",
       "item_count                   0\n",
       "dtype: int64"
      ]
     },
     "execution_count": 122,
     "metadata": {},
     "output_type": "execute_result"
    }
   ],
   "source": [
    "missing_data_df.isnull().sum()"
   ]
  },
  {
   "cell_type": "markdown",
   "metadata": {},
   "source": [
    "## branch_code column missing values imputation"
   ]
  },
  {
   "cell_type": "code",
   "execution_count": 123,
   "metadata": {},
   "outputs": [
    {
     "data": {
      "text/plain": [
       "TP    145\n",
       "BK    141\n",
       "NS    114\n",
       "Name: branch_code, dtype: int64"
      ]
     },
     "execution_count": 123,
     "metadata": {},
     "output_type": "execute_result"
    }
   ],
   "source": [
    "missing_data_df['branch_code'].value_counts()"
   ]
  },
  {
   "cell_type": "markdown",
   "metadata": {},
   "source": [
    "We need impute the missing values in the branch_code, just the way we did it in the branch_code column in the dirty data file i.e,.\n",
    "\n",
    "- if the order is placed in TP branch, then order_id must startswith **'ORDB' or 'ORDJ' or 'ORDY'**.\n",
    "- if the order is placed in NS branch, then order_id must startswith **'ORDI' or 'ORDC' or 'ORDZ'**.\n",
    "- if the order is placed in BK branch, then order_id must startswith **'ORDX' or 'ORDK' or 'ORDA'**.\n"
   ]
  },
  {
   "cell_type": "code",
   "execution_count": 124,
   "metadata": {},
   "outputs": [],
   "source": [
    "missing_data_df.loc[(missing_data_df.order_id.str.startswith('ORDB')) | (missing_data_df.order_id.str.startswith('ORDJ')) | (missing_data_df.order_id.str.startswith('ORDY')), 'branch_code'] = 'TP' \n",
    "missing_data_df.loc[(missing_data_df.order_id.str.startswith('ORDI')) | (missing_data_df.order_id.str.startswith('ORDC')) | (missing_data_df.order_id.str.startswith('ORDZ')), 'branch_code'] = 'NS'\n",
    "missing_data_df.loc[(missing_data_df.order_id.str.startswith('ORDX')) | (missing_data_df.order_id.str.startswith('ORDK')) | (missing_data_df.order_id.str.startswith('ORDA')), 'branch_code'] = 'BK'"
   ]
  },
  {
   "cell_type": "code",
   "execution_count": 125,
   "metadata": {},
   "outputs": [
    {
     "data": {
      "text/plain": [
       "BK    181\n",
       "TP    175\n",
       "NS    144\n",
       "Name: branch_code, dtype: int64"
      ]
     },
     "execution_count": 125,
     "metadata": {},
     "output_type": "execute_result"
    }
   ],
   "source": [
    "missing_data_df['branch_code'].value_counts()"
   ]
  },
  {
   "cell_type": "code",
   "execution_count": 126,
   "metadata": {},
   "outputs": [
    {
     "data": {
      "text/plain": [
       "order_id                    0\n",
       "date                        0\n",
       "time                        0\n",
       "order_type                  0\n",
       "branch_code                 0\n",
       "order_items                 0\n",
       "order_price                 0\n",
       "customer_lat                0\n",
       "customer_lon                0\n",
       "customerHasloyalty?         0\n",
       "distance_to_customer_KM    50\n",
       "delivery_fee               50\n",
       "item_count                  0\n",
       "dtype: int64"
      ]
     },
     "execution_count": 126,
     "metadata": {},
     "output_type": "execute_result"
    }
   ],
   "source": [
    "missing_data_df.isnull().sum()"
   ]
  },
  {
   "cell_type": "markdown",
   "metadata": {},
   "source": [
    "branch_code column missing values in missing data file has been imputed."
   ]
  },
  {
   "cell_type": "markdown",
   "metadata": {},
   "source": [
    "## distance_to_customer_KM column missing values imputation."
   ]
  },
  {
   "cell_type": "markdown",
   "metadata": {},
   "source": [
    "The distance_to_customer_KM is shortest distance betweeen branch and customer location. The distance is calculated as follows,\n",
    "- Since we have branch code, we can get the branch's latitude and longitude from the file `branches.csv`. We merge the dataframes(branches and missing_data_df) to extract branch latitude and longitude for particular branch in missing_data_df.\n",
    "- After extracting branch latitude and longitude, we need to extract branch_node from the `nodes.csv` file, since we `branch node` and `customer node` to calculate the shortest distance using `dijkstra's algorithm`.\n",
    "- The same way for each customer latitude and longitude, we extract node id using nodes dataframe.\n",
    "- After getting both node ids of branch and customer locations, we will find the shortest distance between two nodes using `edges.csv` file.\n"
   ]
  },
  {
   "cell_type": "markdown",
   "metadata": {},
   "source": [
    "We need merge branches and missing_data_df dataframes to obtain branch latitude and longitude."
   ]
  },
  {
   "cell_type": "code",
   "execution_count": 127,
   "metadata": {},
   "outputs": [],
   "source": [
    "missing_data_df = pd.merge(missing_data_df, branches_df, how = 'left', on = 'branch_code')"
   ]
  },
  {
   "cell_type": "code",
   "execution_count": 128,
   "metadata": {},
   "outputs": [
    {
     "data": {
      "text/plain": [
       "Index(['order_id', 'date', 'time', 'order_type', 'branch_code', 'order_items',\n",
       "       'order_price', 'customer_lat', 'customer_lon', 'customerHasloyalty?',\n",
       "       'distance_to_customer_KM', 'delivery_fee', 'item_count', 'branch_name',\n",
       "       'branch_lat', 'branch_lon'],\n",
       "      dtype='object')"
      ]
     },
     "execution_count": 128,
     "metadata": {},
     "output_type": "execute_result"
    }
   ],
   "source": [
    "missing_data_df.columns"
   ]
  },
  {
   "cell_type": "markdown",
   "metadata": {},
   "source": [
    "Now we extract, latitude and longitude node ids using `nodes.csv` for branch and customer latitudes and longitudes. "
   ]
  },
  {
   "cell_type": "code",
   "execution_count": 129,
   "metadata": {},
   "outputs": [],
   "source": [
    "# merged to get the branch node ids\n",
    "missing_data_df = pd.merge(missing_data_df, nodes_df, how = 'left', left_on = ['branch_lat','branch_lon'], right_on= ['lat','lon'] )"
   ]
  },
  {
   "cell_type": "code",
   "execution_count": 130,
   "metadata": {},
   "outputs": [],
   "source": [
    "# merged to get the customer node ids\n",
    "missing_data_df = pd.merge(missing_data_df, nodes_df, how = 'left', left_on = ['customer_lat','customer_lon'], right_on= ['lat','lon'] )"
   ]
  },
  {
   "cell_type": "code",
   "execution_count": 131,
   "metadata": {},
   "outputs": [
    {
     "data": {
      "text/plain": [
       "Index(['order_id', 'date', 'time', 'order_type', 'branch_code', 'order_items',\n",
       "       'order_price', 'customer_lat', 'customer_lon', 'customerHasloyalty?',\n",
       "       'distance_to_customer_KM', 'delivery_fee', 'item_count', 'branch_name',\n",
       "       'branch_lat', 'branch_lon', 'node_x', 'lat_x', 'lon_x', 'node_y',\n",
       "       'lat_y', 'lon_y'],\n",
       "      dtype='object')"
      ]
     },
     "execution_count": 131,
     "metadata": {},
     "output_type": "execute_result"
    }
   ],
   "source": [
    "missing_data_df.columns"
   ]
  },
  {
   "cell_type": "markdown",
   "metadata": {},
   "source": [
    "- Deleting unwanted columns called `lat_x`, `lon_x`, `lat_y` and `lon_y`. \n",
    "- Renaming columns `node_x` and `node_y` to `branch_node` and `customer_node` respectively."
   ]
  },
  {
   "cell_type": "code",
   "execution_count": 132,
   "metadata": {},
   "outputs": [],
   "source": [
    "# deleting the columns\n",
    "missing_data_df = missing_data_df.drop(['lat_x','lon_x','lat_y','lon_y'], axis = 1)"
   ]
  },
  {
   "cell_type": "code",
   "execution_count": 133,
   "metadata": {},
   "outputs": [],
   "source": [
    "# renaming the columns\n",
    "missing_data_df.rename(columns = {'node_x' : 'branch_node', 'node_y' : 'customer_node'}, inplace = True)"
   ]
  },
  {
   "cell_type": "markdown",
   "metadata": {},
   "source": [
    "Now let's find distance from branch to customer location in the missing data file."
   ]
  },
  {
   "cell_type": "code",
   "execution_count": 134,
   "metadata": {},
   "outputs": [],
   "source": [
    "missing_data_df['new_distance'] = missing_data_df.apply(lambda x: distance(G, edges, x), axis = 1)"
   ]
  },
  {
   "cell_type": "markdown",
   "metadata": {},
   "source": [
    "Since we have obtained distance values in `new_distance` column. we extract indices of missing values of `distance_to_customer_KM` column and impute the missing values with `new_distance` column for respective indices."
   ]
  },
  {
   "cell_type": "code",
   "execution_count": 135,
   "metadata": {},
   "outputs": [],
   "source": [
    "missing_distance_indices = list(missing_data_df[missing_data_df['distance_to_customer_KM'].isnull()].index.values)"
   ]
  },
  {
   "cell_type": "code",
   "execution_count": 136,
   "metadata": {},
   "outputs": [
    {
     "name": "stdout",
     "output_type": "stream",
     "text": [
      "[43, 54, 59, 62, 66, 73, 83, 92, 101, 103, 104, 133, 146, 151, 161, 176, 182, 196, 198, 237, 250, 252, 265, 274, 282, 287, 289, 304, 313, 323, 334, 338, 343, 347, 354, 367, 370, 393, 399, 401, 403, 408, 411, 421, 429, 451, 452, 460, 487, 492]\n"
     ]
    }
   ],
   "source": [
    "print(missing_distance_indices)"
   ]
  },
  {
   "cell_type": "markdown",
   "metadata": {},
   "source": [
    "Imputing missing values in `distance_to_customer_KM` column."
   ]
  },
  {
   "cell_type": "code",
   "execution_count": 137,
   "metadata": {},
   "outputs": [],
   "source": [
    "# imputing values to the respectives indices\n",
    "for i in missing_distance_indices:\n",
    "    missing_data_df.loc[i,'distance_to_customer_KM'] = missing_data_df.loc[i,'new_distance']"
   ]
  },
  {
   "cell_type": "code",
   "execution_count": 138,
   "metadata": {},
   "outputs": [
    {
     "data": {
      "text/plain": [
       "0"
      ]
     },
     "execution_count": 138,
     "metadata": {},
     "output_type": "execute_result"
    }
   ],
   "source": [
    "missing_data_df.distance_to_customer_KM.isnull().sum()"
   ]
  },
  {
   "cell_type": "markdown",
   "metadata": {},
   "source": [
    "We drop the irrelevant columns from the missing_data_df."
   ]
  },
  {
   "cell_type": "code",
   "execution_count": 139,
   "metadata": {},
   "outputs": [
    {
     "data": {
      "text/plain": [
       "Index(['order_id', 'date', 'time', 'order_type', 'branch_code', 'order_items',\n",
       "       'order_price', 'customer_lat', 'customer_lon', 'customerHasloyalty?',\n",
       "       'distance_to_customer_KM', 'delivery_fee', 'item_count', 'branch_name',\n",
       "       'branch_lat', 'branch_lon', 'branch_node', 'customer_node',\n",
       "       'new_distance'],\n",
       "      dtype='object')"
      ]
     },
     "execution_count": 139,
     "metadata": {},
     "output_type": "execute_result"
    }
   ],
   "source": [
    "missing_data_df.columns"
   ]
  },
  {
   "cell_type": "code",
   "execution_count": 140,
   "metadata": {},
   "outputs": [
    {
     "data": {
      "text/plain": [
       "Index(['order_id', 'date', 'time', 'order_type', 'branch_code', 'order_items',\n",
       "       'order_price', 'customer_lat', 'customer_lon', 'customerHasloyalty?',\n",
       "       'distance_to_customer_KM', 'delivery_fee'],\n",
       "      dtype='object')"
      ]
     },
     "execution_count": 140,
     "metadata": {},
     "output_type": "execute_result"
    }
   ],
   "source": [
    "missing_data_df = missing_data_df.drop(['branch_name', 'branch_lat','branch_lon', 'branch_node', 'customer_node', 'new_distance','item_count'], axis = 1)\n",
    "missing_data_df.columns"
   ]
  },
  {
   "cell_type": "markdown",
   "metadata": {},
   "source": [
    "### creating type_of_day column in the missing data file"
   ]
  },
  {
   "cell_type": "code",
   "execution_count": 141,
   "metadata": {},
   "outputs": [],
   "source": [
    "missing_data_df['date'] = pd.to_datetime(missing_data_df['date'], format='%Y/%m/%d')\n",
    "missing_data_df['type_of_day']= missing_data_df.apply(lambda x: day_type(x), axis =1)"
   ]
  },
  {
   "cell_type": "code",
   "execution_count": 142,
   "metadata": {},
   "outputs": [
    {
     "data": {
      "text/plain": [
       "Index(['order_id', 'date', 'time', 'order_type', 'branch_code', 'order_items',\n",
       "       'order_price', 'customer_lat', 'customer_lon', 'customerHasloyalty?',\n",
       "       'distance_to_customer_KM', 'delivery_fee', 'type_of_day', 'time_of_day',\n",
       "       'calculated_del_fee', 'ratio'],\n",
       "      dtype='object')"
      ]
     },
     "execution_count": 142,
     "metadata": {},
     "output_type": "execute_result"
    }
   ],
   "source": [
    "dirty_data_df = dirty_data_df.drop('cal_order_price', axis = 1)\n",
    "dirty_data_df.columns"
   ]
  },
  {
   "cell_type": "code",
   "execution_count": 143,
   "metadata": {},
   "outputs": [
    {
     "data": {
      "text/plain": [
       "Index(['order_id', 'date', 'time', 'order_type', 'branch_code', 'order_items',\n",
       "       'order_price', 'customer_lat', 'customer_lon', 'customerHasloyalty?',\n",
       "       'distance_to_customer_KM', 'delivery_fee', 'type_of_day'],\n",
       "      dtype='object')"
      ]
     },
     "execution_count": 143,
     "metadata": {},
     "output_type": "execute_result"
    }
   ],
   "source": [
    "missing_data_df.columns"
   ]
  },
  {
   "cell_type": "markdown",
   "metadata": {},
   "source": [
    "### Merging two files missing data and dirty data to build a model"
   ]
  },
  {
   "cell_type": "markdown",
   "metadata": {},
   "source": [
    "Out of three files dirty data, missing data and outlier data till now we done the following steps.\n",
    "1. Cleaned the dirty data file\n",
    "Now we have to find the missing values in the missing data file. For this to achieve we are creating a model that is used to predict the delivery fees, and these predicted values will be imputed into the missign fields of delievery fee column.\n",
    "The following steps has been followed done here to find the delievery fees.\n",
    "1. Concatenate the two files dirty_data, missing_data_df and create a **full_df** since we need more data train for good results.\n",
    "2. Create a new column in full_df, by hot_coding the order_type column.\n",
    "3. Now divide the full df into two parts, one part which has the delivery fees `full_df_without_nan` and the other part in which we need to predict the delivery fees`full_df_only_nan`\n",
    "4. After getting the data which has no null values, since it is mentioned that delivery fee depends on type_of_day, time_of_day, distance between restuarent and customer and on the branch we are dividing the data into three parts as there are three different branches. Create the model for each branch individually and impute the values.\n",
    "5. After imputing the values we are checking the outlier values and remove the outliers from the outlier file."
   ]
  },
  {
   "cell_type": "code",
   "execution_count": 144,
   "metadata": {},
   "outputs": [],
   "source": [
    "## Concatenating the dirty_data and missing data\n",
    "full_df = pd.concat([dirty_data_df,missing_data_df])"
   ]
  },
  {
   "cell_type": "code",
   "execution_count": 145,
   "metadata": {},
   "outputs": [],
   "source": [
    "\n",
    "full_df[\"time_of_day\"] = full_df.apply(time_of_day, axis =1)"
   ]
  },
  {
   "cell_type": "code",
   "execution_count": 146,
   "metadata": {},
   "outputs": [],
   "source": [
    "##getting the notnull data for creating the model\n",
    "full_df_without_nan = full_df[full_df.delivery_fee.notnull()]  #this df doesn't have any nul values in the delivery column and is used to train the model\n",
    "full_df_only_nan = full_df[full_df.delivery_fee.isnull()]"
   ]
  },
  {
   "cell_type": "markdown",
   "metadata": {},
   "source": [
    "### Splitting the data w.r.t to the branch\n",
    "Since the delivery fees depend each feature differently for each branch we are dividing the data into three parts as we have three different branches"
   ]
  },
  {
   "cell_type": "code",
   "execution_count": 147,
   "metadata": {},
   "outputs": [],
   "source": [
    "bk_full_df_without_nan = full_df_without_nan[full_df_without_nan['branch_code']==\"BK\"] #this df has data related to BK branch\n",
    "tp_full_df_without_nan = full_df_without_nan[full_df_without_nan['branch_code']==\"TP\"] #this df has data related to TP branch\n",
    "ns_full_df_without_nan = full_df_without_nan[full_df_without_nan['branch_code']==\"NS\"] #this df has data related to NS branch"
   ]
  },
  {
   "cell_type": "markdown",
   "metadata": {},
   "source": [
    "### Creating the three different models"
   ]
  },
  {
   "cell_type": "markdown",
   "metadata": {},
   "source": [
    " Since the delievery depends on the `distance_to_customer_KM`, `type_of_day`,`time_of_day` rows we are considering only those columns as the important features and creating a model"
   ]
  },
  {
   "cell_type": "code",
   "execution_count": 148,
   "metadata": {},
   "outputs": [
    {
     "name": "stdout",
     "output_type": "stream",
     "text": [
      "r-squared for this model =  0.7827702895322436\n"
     ]
    }
   ],
   "source": [
    "X = bk_full_df_without_nan[['distance_to_customer_KM','type_of_day',\"time_of_day\"]]  #df with only required features\n",
    "y = bk_full_df_without_nan[\"delivery_fee\"]  #df that has the target variable\n",
    "X_train, X_test, y_train, y_test = train_test_split(X,y, test_size=0.2, random_state=1) #creating the test and train data\n",
    "regressor_bk = LinearRegression()  \n",
    "regressor_bk.fit(X_train, y_train) #training the algorithm\n",
    "print ('r-squared for this model = ',regressor_bk.score(X_test,y_test)) #getting the accuracy of the model"
   ]
  },
  {
   "cell_type": "code",
   "execution_count": 149,
   "metadata": {},
   "outputs": [
    {
     "name": "stdout",
     "output_type": "stream",
     "text": [
      "r-squared for this model =  0.6509385400229036\n"
     ]
    }
   ],
   "source": [
    "X = tp_full_df_without_nan[['distance_to_customer_KM','type_of_day',\"time_of_day\"]]\n",
    "y = tp_full_df_without_nan[\"delivery_fee\"]\n",
    "X_train, X_test, y_train, y_test = train_test_split(X,y, test_size=0.2, random_state=1)\n",
    "regressor_tp = LinearRegression()  \n",
    "regressor_tp.fit(X_train, y_train) #training the algorithm\n",
    "print ('r-squared for this model = ',regressor_tp.score(X_test,y_test))"
   ]
  },
  {
   "cell_type": "code",
   "execution_count": 150,
   "metadata": {},
   "outputs": [
    {
     "name": "stdout",
     "output_type": "stream",
     "text": [
      "r-squared for this model =  0.563517139765058\n"
     ]
    }
   ],
   "source": [
    "X = ns_full_df_without_nan[['distance_to_customer_KM','type_of_day',\"time_of_day\"]]\n",
    "y = ns_full_df_without_nan[\"delivery_fee\"]\n",
    "X_train, X_test, y_train, y_test = train_test_split(X,y, test_size=0.2, random_state=1)\n",
    "regressor_ns = LinearRegression()  \n",
    "regressor_ns.fit(X_train, y_train) #training the algorithm\n",
    "print ('r-squared for this model = ',regressor_ns.score(X_test,y_test))"
   ]
  },
  {
   "cell_type": "code",
   "execution_count": 151,
   "metadata": {},
   "outputs": [],
   "source": [
    "# missing values of branch_code_hot_code\n",
    "branch_bk=full_df_only_nan[full_df_only_nan['branch_code']==\"BK\"]\n",
    "branch_tp=full_df_only_nan[full_df_only_nan['branch_code']==\"TP\"]\n",
    "branch_ns=full_df_only_nan[full_df_only_nan['branch_code']==\"NS\"]"
   ]
  },
  {
   "cell_type": "markdown",
   "metadata": {},
   "source": [
    "Now we predict delivery fee for branches BK, TP and NS for `full_df_only_nan` dataframe."
   ]
  },
  {
   "cell_type": "code",
   "execution_count": 152,
   "metadata": {},
   "outputs": [],
   "source": [
    "y_pred_bk = regressor_bk.predict(branch_bk[['distance_to_customer_KM','type_of_day',\"time_of_day\"]])\n",
    "y_pred_tp = regressor_tp.predict(branch_tp[['distance_to_customer_KM','type_of_day',\"time_of_day\"]])\n",
    "y_pred_ns = regressor_ns.predict(branch_ns[['distance_to_customer_KM','type_of_day',\"time_of_day\"]])"
   ]
  },
  {
   "cell_type": "markdown",
   "metadata": {},
   "source": [
    "Hence we have predicted the delivery values, now we need to impute the missing values in the missing data file for delivery column."
   ]
  },
  {
   "cell_type": "code",
   "execution_count": 153,
   "metadata": {},
   "outputs": [],
   "source": [
    "# taking index values to impute the missing values\n",
    "bk_null_indices = list(branch_bk.index.values.astype(int))\n",
    "tp_null_indices = list(branch_tp.index.values.astype(int))\n",
    "ns_null_indices = list(branch_ns.index.values.astype(int))"
   ]
  },
  {
   "cell_type": "code",
   "execution_count": 154,
   "metadata": {},
   "outputs": [],
   "source": [
    "# imputing delivery fee for branch bk\n",
    "j = 0\n",
    "for i in bk_null_indices:\n",
    "    if missing_data_df.loc[i,'customerHasloyalty?'] == 1:\n",
    "        delivery_fee = y_pred_bk[j]/2\n",
    "        missing_data_df.loc[i,'delivery_fee'] = delivery_fee\n",
    "        \n",
    "    else:\n",
    "        missing_data_df.loc[i,'delivery_fee'] = y_pred_bk[j]\n",
    "        \n",
    "    j = j + 1"
   ]
  },
  {
   "cell_type": "code",
   "execution_count": 155,
   "metadata": {},
   "outputs": [],
   "source": [
    "# imputing delivery fee for branch tp\n",
    "j = 0\n",
    "for i in tp_null_indices:\n",
    "    if missing_data_df.loc[i,'customerHasloyalty?'] == 1:\n",
    "        delivery_fee = y_pred_tp[j]/2\n",
    "        missing_data_df.loc[i,'delivery_fee'] = delivery_fee\n",
    "        \n",
    "    else:\n",
    "        missing_data_df.loc[i,'delivery_fee'] = y_pred_tp[j]\n",
    "        \n",
    "    j = j + 1"
   ]
  },
  {
   "cell_type": "code",
   "execution_count": 156,
   "metadata": {},
   "outputs": [],
   "source": [
    "# imputing delivery fee for branch ns\n",
    "j = 0\n",
    "for i in ns_null_indices:\n",
    "    if missing_data_df.loc[i,'customerHasloyalty?'] == 1:\n",
    "        delivery_fee = y_pred_ns[j]/2\n",
    "        missing_data_df.loc[i,'delivery_fee'] = delivery_fee\n",
    "        \n",
    "    else:\n",
    "        missing_data_df.loc[i,'delivery_fee'] = y_pred_ns[j]\n",
    "        \n",
    "    j = j + 1"
   ]
  },
  {
   "cell_type": "markdown",
   "metadata": {},
   "source": [
    "Finally we have imputed the missing values in the branch_code, distance_to_customer_KM and delivery_fee columns.\n",
    "\n",
    "Let's check it out if there are any missing values in missing data file."
   ]
  },
  {
   "cell_type": "code",
   "execution_count": 157,
   "metadata": {},
   "outputs": [
    {
     "data": {
      "text/plain": [
       "order_id                   0\n",
       "date                       0\n",
       "time                       0\n",
       "order_type                 0\n",
       "branch_code                0\n",
       "order_items                0\n",
       "order_price                0\n",
       "customer_lat               0\n",
       "customer_lon               0\n",
       "customerHasloyalty?        0\n",
       "distance_to_customer_KM    0\n",
       "delivery_fee               0\n",
       "type_of_day                0\n",
       "dtype: int64"
      ]
     },
     "execution_count": 157,
     "metadata": {},
     "output_type": "execute_result"
    }
   ],
   "source": [
    "missing_data_df.isnull().sum()"
   ]
  },
  {
   "cell_type": "markdown",
   "metadata": {},
   "source": [
    "We drop irrelevant columns from `missing_data_df` dataframe. "
   ]
  },
  {
   "cell_type": "code",
   "execution_count": 158,
   "metadata": {},
   "outputs": [
    {
     "data": {
      "text/plain": [
       "Index(['order_id', 'date', 'time', 'order_type', 'branch_code', 'order_items',\n",
       "       'order_price', 'customer_lat', 'customer_lon', 'customerHasloyalty?',\n",
       "       'distance_to_customer_KM', 'delivery_fee', 'type_of_day'],\n",
       "      dtype='object')"
      ]
     },
     "execution_count": 158,
     "metadata": {},
     "output_type": "execute_result"
    }
   ],
   "source": [
    "missing_data_df.columns"
   ]
  },
  {
   "cell_type": "code",
   "execution_count": 159,
   "metadata": {},
   "outputs": [],
   "source": [
    "missing_data_df = missing_data_df.drop(['type_of_day'], axis= 1)"
   ]
  },
  {
   "cell_type": "code",
   "execution_count": 160,
   "metadata": {},
   "outputs": [
    {
     "data": {
      "text/plain": [
       "Index(['order_id', 'date', 'time', 'order_type', 'branch_code', 'order_items',\n",
       "       'order_price', 'customer_lat', 'customer_lon', 'customerHasloyalty?',\n",
       "       'distance_to_customer_KM', 'delivery_fee'],\n",
       "      dtype='object')"
      ]
     },
     "execution_count": 160,
     "metadata": {},
     "output_type": "execute_result"
    }
   ],
   "source": [
    "missing_data_df.columns"
   ]
  },
  {
   "cell_type": "markdown",
   "metadata": {},
   "source": [
    "## Outliers"
   ]
  },
  {
   "cell_type": "markdown",
   "metadata": {},
   "source": [
    "In outliers file ,we need to detect outliers in `delivery_fee` column and delete the partiuclar rows."
   ]
  },
  {
   "cell_type": "markdown",
   "metadata": {},
   "source": [
    "For the outlier detection we will be usig the $3σ$ rule for the residals of the predicted and the actual values.<br>\n",
    "Hence we will predicting the delivery fee using the models built in the above section for different branches and calculate the residuals which are further used to calculate the Upper bounds and lower bounds of these branches. "
   ]
  },
  {
   "cell_type": "code",
   "execution_count": 161,
   "metadata": {},
   "outputs": [],
   "source": [
    "def predict_del_fee(row,pred_name):\n",
    "    temp_row = row\n",
    "    customer_loyal = temp_row['customerHasloyalty?']\n",
    "    value = temp_row[pred_name]\n",
    "    if customer_loyal == 1:\n",
    "        temp_row[pred_name] = value/2\n",
    "    else:\n",
    "        temp_row[pred_name] = value\n",
    "    return temp_row"
   ]
  },
  {
   "cell_type": "code",
   "execution_count": 162,
   "metadata": {},
   "outputs": [
    {
     "name": "stdout",
     "output_type": "stream",
     "text": [
      "The mean  0.25606037844735713 and std is 0.5378346281012207 of bk branch\n"
     ]
    }
   ],
   "source": [
    "bk_full_df_without_nan['bk_full_pred'] = regressor_bk.predict(bk_full_df_without_nan[['distance_to_customer_KM','type_of_day',\"time_of_day\"]])\n",
    "\n",
    "#Applying the discount based on the loyalty of the customer using the above function 'predict_del_fee'\n",
    "bk_full_df_without_nan = bk_full_df_without_nan.apply(lambda x:predict_del_fee(x,'bk_full_pred'),axis=1)\n",
    "\n",
    "#Finding the residuals\n",
    "residuals_bk = bk_full_df_without_nan['delivery_fee'] - bk_full_df_without_nan['bk_full_pred']\n",
    "\n",
    "#Calculating the mean and std of the residuals\n",
    "mean_bk =residuals_bk.mean()\n",
    "std_bk =residuals_bk.std()\n",
    "print(f'The mean  {mean_bk} and std is {std_bk} of bk branch')"
   ]
  },
  {
   "cell_type": "code",
   "execution_count": 163,
   "metadata": {},
   "outputs": [
    {
     "name": "stdout",
     "output_type": "stream",
     "text": [
      "The mean  0.2878006682606818 and std is 0.48252704991675616 of tp branch\n"
     ]
    }
   ],
   "source": [
    "tp_full_df_without_nan['tp_full_pred'] = regressor_tp.predict(tp_full_df_without_nan[['distance_to_customer_KM','type_of_day',\"time_of_day\"]])\n",
    "\n",
    "#Applying the discount based on the loyalty of the customer using the above function 'predict_del_fee'\n",
    "tp_full_df_without_nan = tp_full_df_without_nan.apply(lambda x:predict_del_fee(x,'tp_full_pred'),axis=1)\n",
    "\n",
    "#Finding the residuals\n",
    "residuals_tp = tp_full_df_without_nan['delivery_fee'] - tp_full_df_without_nan['tp_full_pred']\n",
    "\n",
    "#Calculating the mean and std of the residuals\n",
    "mean_tp =residuals_tp.mean()\n",
    "std_tp =residuals_tp.std()\n",
    "print(f'The mean  {mean_tp} and std is {std_tp} of tp branch')"
   ]
  },
  {
   "cell_type": "code",
   "execution_count": 164,
   "metadata": {},
   "outputs": [
    {
     "name": "stdout",
     "output_type": "stream",
     "text": [
      "The mean  0.3534654204653351 and std is 0.5915481158629475 of ns branch\n"
     ]
    }
   ],
   "source": [
    "ns_full_df_without_nan['ns_full_pred'] = regressor_ns.predict(ns_full_df_without_nan[['distance_to_customer_KM','type_of_day',\"time_of_day\"]])\n",
    "\n",
    "#Applying the discount based on the loyalty of the customer using the above function 'predict_del_fee'\n",
    "ns_full_df_without_nan = ns_full_df_without_nan.apply(lambda x:predict_del_fee(x,'ns_full_pred'),axis=1)\n",
    "\n",
    "#Finding the residuals\n",
    "residuals_ns = ns_full_df_without_nan['delivery_fee'] - ns_full_df_without_nan['ns_full_pred']\n",
    "\n",
    "#Calculating the mean and std of the residuals\n",
    "mean_ns =residuals_ns.mean()\n",
    "std_ns =residuals_ns.std()\n",
    "print(f'The mean  {mean_ns} and std is {std_ns} of ns branch')"
   ]
  },
  {
   "cell_type": "code",
   "execution_count": 165,
   "metadata": {},
   "outputs": [],
   "source": [
    "#Now calculating the upper and lower bounds of each branch\n",
    "lower_bk = mean_bk - 3*std_bk\n",
    "upper_bk = mean_bk + 3*std_bk\n",
    "lower_tp = mean_tp - 3*std_tp\n",
    "upper_tp = mean_tp + 3*std_tp\n",
    "lower_ns = mean_ns - 3*std_ns\n",
    "upper_ns = mean_ns + 3*std_ns"
   ]
  },
  {
   "cell_type": "code",
   "execution_count": 166,
   "metadata": {},
   "outputs": [
    {
     "name": "stdout",
     "output_type": "stream",
     "text": [
      "<class 'pandas.core.frame.DataFrame'>\n",
      "RangeIndex: 500 entries, 0 to 499\n",
      "Data columns (total 12 columns):\n",
      "order_id                   500 non-null object\n",
      "date                       500 non-null object\n",
      "time                       500 non-null object\n",
      "order_type                 500 non-null object\n",
      "branch_code                500 non-null object\n",
      "order_items                500 non-null object\n",
      "order_price                500 non-null float64\n",
      "customer_lat               500 non-null float64\n",
      "customer_lon               500 non-null float64\n",
      "customerHasloyalty?        500 non-null int64\n",
      "distance_to_customer_KM    500 non-null float64\n",
      "delivery_fee               500 non-null float64\n",
      "dtypes: float64(5), int64(1), object(6)\n",
      "memory usage: 47.0+ KB\n"
     ]
    }
   ],
   "source": [
    "outlier_data_df.info()"
   ]
  },
  {
   "cell_type": "code",
   "execution_count": 167,
   "metadata": {},
   "outputs": [
    {
     "data": {
      "text/html": [
       "<div>\n",
       "<style scoped>\n",
       "    .dataframe tbody tr th:only-of-type {\n",
       "        vertical-align: middle;\n",
       "    }\n",
       "\n",
       "    .dataframe tbody tr th {\n",
       "        vertical-align: top;\n",
       "    }\n",
       "\n",
       "    .dataframe thead th {\n",
       "        text-align: right;\n",
       "    }\n",
       "</style>\n",
       "<table border=\"1\" class=\"dataframe\">\n",
       "  <thead>\n",
       "    <tr style=\"text-align: right;\">\n",
       "      <th></th>\n",
       "      <th>order_price</th>\n",
       "      <th>customer_lat</th>\n",
       "      <th>customer_lon</th>\n",
       "      <th>customerHasloyalty?</th>\n",
       "      <th>distance_to_customer_KM</th>\n",
       "      <th>delivery_fee</th>\n",
       "    </tr>\n",
       "  </thead>\n",
       "  <tbody>\n",
       "    <tr>\n",
       "      <td>count</td>\n",
       "      <td>500.000000</td>\n",
       "      <td>500.000000</td>\n",
       "      <td>500.000000</td>\n",
       "      <td>500.000000</td>\n",
       "      <td>500.000000</td>\n",
       "      <td>500.000000</td>\n",
       "    </tr>\n",
       "    <tr>\n",
       "      <td>mean</td>\n",
       "      <td>502.522400</td>\n",
       "      <td>-37.812154</td>\n",
       "      <td>144.966039</td>\n",
       "      <td>0.056000</td>\n",
       "      <td>8.760676</td>\n",
       "      <td>13.830629</td>\n",
       "    </tr>\n",
       "    <tr>\n",
       "      <td>std</td>\n",
       "      <td>260.019021</td>\n",
       "      <td>0.007565</td>\n",
       "      <td>0.021586</td>\n",
       "      <td>0.230152</td>\n",
       "      <td>1.520457</td>\n",
       "      <td>3.117883</td>\n",
       "    </tr>\n",
       "    <tr>\n",
       "      <td>min</td>\n",
       "      <td>55.000000</td>\n",
       "      <td>-37.827260</td>\n",
       "      <td>144.910296</td>\n",
       "      <td>0.000000</td>\n",
       "      <td>3.632000</td>\n",
       "      <td>2.958493</td>\n",
       "    </tr>\n",
       "    <tr>\n",
       "      <td>25%</td>\n",
       "      <td>297.125000</td>\n",
       "      <td>-37.818686</td>\n",
       "      <td>144.950655</td>\n",
       "      <td>0.000000</td>\n",
       "      <td>7.782000</td>\n",
       "      <td>12.490018</td>\n",
       "    </tr>\n",
       "    <tr>\n",
       "      <td>50%</td>\n",
       "      <td>458.250000</td>\n",
       "      <td>-37.812242</td>\n",
       "      <td>144.962950</td>\n",
       "      <td>0.000000</td>\n",
       "      <td>8.813500</td>\n",
       "      <td>13.943307</td>\n",
       "    </tr>\n",
       "    <tr>\n",
       "      <td>75%</td>\n",
       "      <td>686.425000</td>\n",
       "      <td>-37.805719</td>\n",
       "      <td>144.981295</td>\n",
       "      <td>0.000000</td>\n",
       "      <td>9.778250</td>\n",
       "      <td>15.502094</td>\n",
       "    </tr>\n",
       "    <tr>\n",
       "      <td>max</td>\n",
       "      <td>1432.000000</td>\n",
       "      <td>-37.793050</td>\n",
       "      <td>145.018319</td>\n",
       "      <td>1.000000</td>\n",
       "      <td>12.787000</td>\n",
       "      <td>28.045075</td>\n",
       "    </tr>\n",
       "  </tbody>\n",
       "</table>\n",
       "</div>"
      ],
      "text/plain": [
       "       order_price  customer_lat  customer_lon  customerHasloyalty?  \\\n",
       "count   500.000000    500.000000    500.000000           500.000000   \n",
       "mean    502.522400    -37.812154    144.966039             0.056000   \n",
       "std     260.019021      0.007565      0.021586             0.230152   \n",
       "min      55.000000    -37.827260    144.910296             0.000000   \n",
       "25%     297.125000    -37.818686    144.950655             0.000000   \n",
       "50%     458.250000    -37.812242    144.962950             0.000000   \n",
       "75%     686.425000    -37.805719    144.981295             0.000000   \n",
       "max    1432.000000    -37.793050    145.018319             1.000000   \n",
       "\n",
       "       distance_to_customer_KM  delivery_fee  \n",
       "count               500.000000    500.000000  \n",
       "mean                  8.760676     13.830629  \n",
       "std                   1.520457      3.117883  \n",
       "min                   3.632000      2.958493  \n",
       "25%                   7.782000     12.490018  \n",
       "50%                   8.813500     13.943307  \n",
       "75%                   9.778250     15.502094  \n",
       "max                  12.787000     28.045075  "
      ]
     },
     "execution_count": 167,
     "metadata": {},
     "output_type": "execute_result"
    }
   ],
   "source": [
    "outlier_data_df.describe()"
   ]
  },
  {
   "cell_type": "markdown",
   "metadata": {},
   "source": [
    "### Creating type_of_day column in outliers data"
   ]
  },
  {
   "cell_type": "code",
   "execution_count": 168,
   "metadata": {},
   "outputs": [],
   "source": [
    "outlier_data_df['date'] = pd.to_datetime(outlier_data_df['date'], format='%Y/%m/%d')\n",
    "outlier_data_df['type_of_day']= outlier_data_df.apply(lambda x: day_type(x), axis =1)"
   ]
  },
  {
   "cell_type": "markdown",
   "metadata": {},
   "source": [
    "Since we need same features, we will add column `time_of_day` to the outliers data."
   ]
  },
  {
   "cell_type": "code",
   "execution_count": 169,
   "metadata": {},
   "outputs": [],
   "source": [
    "outlier_data_df[\"time_of_day\"] = outlier_data_df.apply(time_of_day, axis =1)"
   ]
  },
  {
   "cell_type": "code",
   "execution_count": 170,
   "metadata": {},
   "outputs": [],
   "source": [
    "#outlier_data_df[\"branch_code_hot_code\"] = outlier_data_df.apply(hot_coding,axis =1)"
   ]
  },
  {
   "cell_type": "code",
   "execution_count": 171,
   "metadata": {},
   "outputs": [],
   "source": [
    "outliers_branch_bk = outlier_data_df[outlier_data_df['branch_code']==\"BK\"]\n",
    "outliers_branch_tp = outlier_data_df[outlier_data_df['branch_code']==\"TP\"]\n",
    "outliers_branch_ns = outlier_data_df[outlier_data_df['branch_code']==\"NS\"]"
   ]
  },
  {
   "cell_type": "markdown",
   "metadata": {},
   "source": [
    "### Visualizing for outlier detection."
   ]
  },
  {
   "cell_type": "markdown",
   "metadata": {},
   "source": [
    "Now let's plot using boxplot delivery fee values with respect to each branch."
   ]
  },
  {
   "cell_type": "code",
   "execution_count": 172,
   "metadata": {},
   "outputs": [
    {
     "data": {
      "text/plain": [
       "Text(0.5, 1.0, 'Delivery fee of BK')"
      ]
     },
     "execution_count": 172,
     "metadata": {},
     "output_type": "execute_result"
    },
    {
     "data": {
      "image/png": "[encoded data removed]",
      "text/plain": [
       "<Figure size 432x288 with 1 Axes>"
      ]
     },
     "metadata": {
      "needs_background": "light"
     },
     "output_type": "display_data"
    }
   ],
   "source": [
    "# for each branch we use boxplot to show the delivery fee values and how it's distributed\n",
    "sns.boxplot(x = 'branch_code', y = 'delivery_fee', data = outliers_branch_bk)\n",
    "plt.title('Delivery fee of BK')"
   ]
  },
  {
   "cell_type": "markdown",
   "metadata": {},
   "source": [
    "As we can see from the above boxplot for branch_code 'BK', there are some outliers but we cannot exactly detect which one of the datapoint is actual outlier. Similarly we will plot delivery fee values for the other two branches as well."
   ]
  },
  {
   "cell_type": "code",
   "execution_count": 173,
   "metadata": {},
   "outputs": [
    {
     "data": {
      "text/plain": [
       "Text(0.5, 1.0, 'Delivery fee of TP')"
      ]
     },
     "execution_count": 173,
     "metadata": {},
     "output_type": "execute_result"
    },
    {
     "data": {
      "image/png": "[encoded data removed]",
      "text/plain": [
       "<Figure size 432x288 with 1 Axes>"
      ]
     },
     "metadata": {
      "needs_background": "light"
     },
     "output_type": "display_data"
    }
   ],
   "source": [
    "# for branch tp\n",
    "sns.boxplot(x = 'branch_code', y = 'delivery_fee', data = outliers_branch_tp)\n",
    "plt.title('Delivery fee of TP')"
   ]
  },
  {
   "cell_type": "code",
   "execution_count": 174,
   "metadata": {},
   "outputs": [
    {
     "data": {
      "text/plain": [
       "Text(0.5, 1.0, 'Delivery fee of TS')"
      ]
     },
     "execution_count": 174,
     "metadata": {},
     "output_type": "execute_result"
    },
    {
     "data": {
      "image/png": "[encoded data removed]",
      "text/plain": [
       "<Figure size 432x288 with 1 Axes>"
      ]
     },
     "metadata": {
      "needs_background": "light"
     },
     "output_type": "display_data"
    }
   ],
   "source": [
    "# for branch ns\n",
    "sns.boxplot(x = 'branch_code', y = 'delivery_fee', data = outliers_branch_ns)\n",
    "plt.title('Delivery fee of TS')"
   ]
  },
  {
   "cell_type": "markdown",
   "metadata": {},
   "source": [
    "But potential outliers can be identified, by comparing given delivery fee values with predicted delivery fee values. So we predict the delivery fee of each branch with respect to the features."
   ]
  },
  {
   "cell_type": "markdown",
   "metadata": {},
   "source": [
    "Now we will predict delivery fee values in the outliers data based on the three models built in the missing values detection section."
   ]
  },
  {
   "cell_type": "code",
   "execution_count": 175,
   "metadata": {},
   "outputs": [],
   "source": [
    "#Now predicting the fare values of different branches in outliers data.\n",
    "\n",
    "out_y_pred_bk = regressor_bk.predict(outliers_branch_bk[['distance_to_customer_KM','type_of_day',\"time_of_day\"]])\n",
    "out_y_pred_tp = regressor_tp.predict(outliers_branch_tp[['distance_to_customer_KM','type_of_day',\"time_of_day\"]])\n",
    "out_y_pred_ns = regressor_ns.predict(outliers_branch_ns[['distance_to_customer_KM','type_of_day',\"time_of_day\"]])"
   ]
  },
  {
   "cell_type": "markdown",
   "metadata": {},
   "source": [
    "After we obtain the predicted values, we move to compare both delivery values with respect to branch_code."
   ]
  },
  {
   "cell_type": "markdown",
   "metadata": {},
   "source": [
    "At first, we assign the predicted delivery fee values to one column in all the three dataframes."
   ]
  },
  {
   "cell_type": "code",
   "execution_count": 176,
   "metadata": {},
   "outputs": [],
   "source": [
    "outliers_branch_bk['predicted_del_fee'] = list(out_y_pred_bk)\n",
    "outliers_branch_tp['predicted_del_fee'] = list(out_y_pred_tp)\n",
    "outliers_branch_ns['predicted_del_fee'] = list(out_y_pred_ns)"
   ]
  },
  {
   "cell_type": "code",
   "execution_count": 177,
   "metadata": {},
   "outputs": [],
   "source": [
    "#Applying the customer loyalty to the predicted fare based on the above defined function'predict_del_fee'.\n",
    "\n",
    "outliers_branch_bk = outliers_branch_bk.apply(lambda x: predict_del_fee(x,'predicted_del_fee'), axis = 1)\n",
    "outliers_branch_tp = outliers_branch_tp.apply(lambda x: predict_del_fee(x,'predicted_del_fee'), axis = 1)\n",
    "outliers_branch_ns = outliers_branch_ns.apply(lambda x: predict_del_fee(x,'predicted_del_fee'), axis = 1)"
   ]
  },
  {
   "cell_type": "markdown",
   "metadata": {},
   "source": [
    "Let's compare given and predicted values of delivery fee with respect to each branch."
   ]
  },
  {
   "cell_type": "code",
   "execution_count": 178,
   "metadata": {},
   "outputs": [],
   "source": [
    "# taking indices values \n",
    "outliers_branch_bk['x_value'] = list(outliers_branch_bk.index.values)\n",
    "outliers_branch_tp['x_value'] = list(outliers_branch_tp.index.values)\n",
    "outliers_branch_ns['x_value'] = list(outliers_branch_ns.index.values)\n"
   ]
  },
  {
   "cell_type": "markdown",
   "metadata": {},
   "source": [
    "Reshaping the dataframes using `melt()` function."
   ]
  },
  {
   "cell_type": "code",
   "execution_count": 179,
   "metadata": {},
   "outputs": [],
   "source": [
    "bk_melt = pd.melt(outliers_branch_bk[['x_value','delivery_fee','predicted_del_fee']], id_vars=['x_value'])"
   ]
  },
  {
   "cell_type": "code",
   "execution_count": 180,
   "metadata": {},
   "outputs": [
    {
     "data": {
      "text/html": [
       "<div>\n",
       "<style scoped>\n",
       "    .dataframe tbody tr th:only-of-type {\n",
       "        vertical-align: middle;\n",
       "    }\n",
       "\n",
       "    .dataframe tbody tr th {\n",
       "        vertical-align: top;\n",
       "    }\n",
       "\n",
       "    .dataframe thead th {\n",
       "        text-align: right;\n",
       "    }\n",
       "</style>\n",
       "<table border=\"1\" class=\"dataframe\">\n",
       "  <thead>\n",
       "    <tr style=\"text-align: right;\">\n",
       "      <th></th>\n",
       "      <th>x_value</th>\n",
       "      <th>variable</th>\n",
       "      <th>value</th>\n",
       "    </tr>\n",
       "  </thead>\n",
       "  <tbody>\n",
       "    <tr>\n",
       "      <td>0</td>\n",
       "      <td>2</td>\n",
       "      <td>delivery_fee</td>\n",
       "      <td>12.472215</td>\n",
       "    </tr>\n",
       "    <tr>\n",
       "      <td>1</td>\n",
       "      <td>4</td>\n",
       "      <td>delivery_fee</td>\n",
       "      <td>11.581713</td>\n",
       "    </tr>\n",
       "    <tr>\n",
       "      <td>2</td>\n",
       "      <td>7</td>\n",
       "      <td>delivery_fee</td>\n",
       "      <td>13.312528</td>\n",
       "    </tr>\n",
       "    <tr>\n",
       "      <td>3</td>\n",
       "      <td>10</td>\n",
       "      <td>delivery_fee</td>\n",
       "      <td>14.366332</td>\n",
       "    </tr>\n",
       "    <tr>\n",
       "      <td>4</td>\n",
       "      <td>14</td>\n",
       "      <td>delivery_fee</td>\n",
       "      <td>14.919006</td>\n",
       "    </tr>\n",
       "  </tbody>\n",
       "</table>\n",
       "</div>"
      ],
      "text/plain": [
       "   x_value      variable      value\n",
       "0        2  delivery_fee  12.472215\n",
       "1        4  delivery_fee  11.581713\n",
       "2        7  delivery_fee  13.312528\n",
       "3       10  delivery_fee  14.366332\n",
       "4       14  delivery_fee  14.919006"
      ]
     },
     "execution_count": 180,
     "metadata": {},
     "output_type": "execute_result"
    }
   ],
   "source": [
    "bk_melt.head()"
   ]
  },
  {
   "cell_type": "code",
   "execution_count": 181,
   "metadata": {},
   "outputs": [
    {
     "data": {
      "text/plain": [
       "Text(0.5, 1, 'Given vs Predicted Delivery fee values branch BK')"
      ]
     },
     "execution_count": 181,
     "metadata": {},
     "output_type": "execute_result"
    },
    {
     "data": {
      "text/plain": [
       "<Figure size 1152x432 with 0 Axes>"
      ]
     },
     "metadata": {},
     "output_type": "display_data"
    },
    {
     "data": {
      "image/png": "[encoded data removed]",
      "text/plain": [
       "<Figure size 484.875x360 with 1 Axes>"
      ]
     },
     "metadata": {
      "needs_background": "light"
     },
     "output_type": "display_data"
    }
   ],
   "source": [
    "plt.figure(figsize=(16, 6))\n",
    "sns.lmplot( x=\"x_value\", y=\"value\", data=bk_melt, fit_reg=False, hue='variable')\n",
    "plt.ylabel('delivery fee')\n",
    "plt.xlabel('index value')\n",
    "plt.title('Given vs Predicted Delivery fee values branch BK')"
   ]
  },
  {
   "cell_type": "markdown",
   "metadata": {},
   "source": [
    "As we can see from the above scatterplot, given values vs predicted delivery fee values, there are many values which are not close to the predicted values."
   ]
  },
  {
   "cell_type": "code",
   "execution_count": 182,
   "metadata": {},
   "outputs": [],
   "source": [
    "tp_melt = pd.melt(outliers_branch_tp[['x_value','delivery_fee','predicted_del_fee']], id_vars=['x_value'])"
   ]
  },
  {
   "cell_type": "code",
   "execution_count": 183,
   "metadata": {},
   "outputs": [
    {
     "data": {
      "text/plain": [
       "Text(0.5, 1, 'Given vs Predicted Delivery fee values branch TP')"
      ]
     },
     "execution_count": 183,
     "metadata": {},
     "output_type": "execute_result"
    },
    {
     "data": {
      "text/plain": [
       "<Figure size 1152x432 with 0 Axes>"
      ]
     },
     "metadata": {},
     "output_type": "display_data"
    },
    {
     "data": {
      "image/png": "[encoded data removed]",
      "text/plain": [
       "<Figure size 484.875x360 with 1 Axes>"
      ]
     },
     "metadata": {
      "needs_background": "light"
     },
     "output_type": "display_data"
    }
   ],
   "source": [
    "plt.figure(figsize=(16, 6))\n",
    "ax = sns.lmplot(x = 'x_value' , y = 'value', hue = 'variable',fit_reg=False, data=tp_melt)\n",
    "plt.ylabel('delivery fee')\n",
    "plt.xlabel('index value')\n",
    "plt.title('Given vs Predicted Delivery fee values branch TP')"
   ]
  },
  {
   "cell_type": "markdown",
   "metadata": {},
   "source": [
    "Similarly for branch 'TP' also, we can see there are some outliers."
   ]
  },
  {
   "cell_type": "code",
   "execution_count": 184,
   "metadata": {},
   "outputs": [],
   "source": [
    "ns_melt = pd.melt(outliers_branch_ns[['x_value','delivery_fee','predicted_del_fee']], id_vars=['x_value'])"
   ]
  },
  {
   "cell_type": "code",
   "execution_count": 185,
   "metadata": {},
   "outputs": [
    {
     "data": {
      "text/plain": [
       "Text(0.5, 1, 'Given vs Predicted Delivery fee values branch NS')"
      ]
     },
     "execution_count": 185,
     "metadata": {},
     "output_type": "execute_result"
    },
    {
     "data": {
      "text/plain": [
       "<Figure size 3600x1080 with 0 Axes>"
      ]
     },
     "metadata": {},
     "output_type": "display_data"
    },
    {
     "data": {
      "image/png": "[encoded data removed]",
      "text/plain": [
       "<Figure size 484.875x360 with 1 Axes>"
      ]
     },
     "metadata": {
      "needs_background": "light"
     },
     "output_type": "display_data"
    }
   ],
   "source": [
    "plt.figure(figsize=(50, 15))\n",
    "ax = sns.lmplot(x = 'x_value' , y = 'value', hue = 'variable',fit_reg=False, data=ns_melt)\n",
    "plt.ylabel('delivery fee')\n",
    "plt.xlabel('index value')\n",
    "plt.title('Given vs Predicted Delivery fee values branch NS')"
   ]
  },
  {
   "cell_type": "code",
   "execution_count": 186,
   "metadata": {},
   "outputs": [],
   "source": [
    "#Finding the residuals for the predicted and actial values for the given outlier data which has been split to \n",
    "#different datframes above.\n",
    "outliers_branch_bk['residuals'] = outliers_branch_bk['delivery_fee'] - outliers_branch_bk['predicted_del_fee']\n",
    "outliers_branch_tp['residuals'] = outliers_branch_tp['delivery_fee'] - outliers_branch_tp['predicted_del_fee']\n",
    "outliers_branch_ns['residuals'] = outliers_branch_ns['delivery_fee'] - outliers_branch_ns['predicted_del_fee']"
   ]
  },
  {
   "cell_type": "code",
   "execution_count": 187,
   "metadata": {},
   "outputs": [
    {
     "name": "stdout",
     "output_type": "stream",
     "text": [
      "The number of outliers in the branch bk are 10\n"
     ]
    },
    {
     "data": {
      "text/html": [
       "<div>\n",
       "<style scoped>\n",
       "    .dataframe tbody tr th:only-of-type {\n",
       "        vertical-align: middle;\n",
       "    }\n",
       "\n",
       "    .dataframe tbody tr th {\n",
       "        vertical-align: top;\n",
       "    }\n",
       "\n",
       "    .dataframe thead th {\n",
       "        text-align: right;\n",
       "    }\n",
       "</style>\n",
       "<table border=\"1\" class=\"dataframe\">\n",
       "  <thead>\n",
       "    <tr style=\"text-align: right;\">\n",
       "      <th></th>\n",
       "      <th>order_id</th>\n",
       "      <th>date</th>\n",
       "      <th>time</th>\n",
       "      <th>order_type</th>\n",
       "      <th>branch_code</th>\n",
       "      <th>order_items</th>\n",
       "      <th>order_price</th>\n",
       "      <th>customer_lat</th>\n",
       "      <th>customer_lon</th>\n",
       "      <th>customerHasloyalty?</th>\n",
       "      <th>distance_to_customer_KM</th>\n",
       "      <th>delivery_fee</th>\n",
       "      <th>type_of_day</th>\n",
       "      <th>time_of_day</th>\n",
       "      <th>predicted_del_fee</th>\n",
       "      <th>x_value</th>\n",
       "      <th>residuals</th>\n",
       "    </tr>\n",
       "  </thead>\n",
       "  <tbody>\n",
       "    <tr>\n",
       "      <td>18</td>\n",
       "      <td>ORDK10351</td>\n",
       "      <td>2018-08-02</td>\n",
       "      <td>15:05:54</td>\n",
       "      <td>Lunch</td>\n",
       "      <td>BK</td>\n",
       "      <td>[(Chicken, 5), (Fries, 5), (Salad, 3), (Steak,...</td>\n",
       "      <td>541.6</td>\n",
       "      <td>-37.800849</td>\n",
       "      <td>144.980357</td>\n",
       "      <td>0</td>\n",
       "      <td>6.708</td>\n",
       "      <td>19.864435</td>\n",
       "      <td>0</td>\n",
       "      <td>1</td>\n",
       "      <td>12.457376</td>\n",
       "      <td>18</td>\n",
       "      <td>7.407059</td>\n",
       "    </tr>\n",
       "    <tr>\n",
       "      <td>29</td>\n",
       "      <td>ORDA04107</td>\n",
       "      <td>2018-03-13</td>\n",
       "      <td>10:21:58</td>\n",
       "      <td>Breakfast</td>\n",
       "      <td>BK</td>\n",
       "      <td>[(Eggs, 8), (Pancake, 10)]</td>\n",
       "      <td>418.5</td>\n",
       "      <td>-37.823877</td>\n",
       "      <td>144.981668</td>\n",
       "      <td>0</td>\n",
       "      <td>6.947</td>\n",
       "      <td>17.098198</td>\n",
       "      <td>0</td>\n",
       "      <td>0</td>\n",
       "      <td>11.320027</td>\n",
       "      <td>29</td>\n",
       "      <td>5.778171</td>\n",
       "    </tr>\n",
       "    <tr>\n",
       "      <td>73</td>\n",
       "      <td>ORDX02600</td>\n",
       "      <td>2018-01-10</td>\n",
       "      <td>08:10:08</td>\n",
       "      <td>Breakfast</td>\n",
       "      <td>BK</td>\n",
       "      <td>[(Coffee, 7), (Pancake, 8), (Cereal, 10), (Egg...</td>\n",
       "      <td>654.5</td>\n",
       "      <td>-37.813954</td>\n",
       "      <td>144.963645</td>\n",
       "      <td>1</td>\n",
       "      <td>7.720</td>\n",
       "      <td>2.958493</td>\n",
       "      <td>0</td>\n",
       "      <td>0</td>\n",
       "      <td>5.984509</td>\n",
       "      <td>73</td>\n",
       "      <td>-3.026016</td>\n",
       "    </tr>\n",
       "    <tr>\n",
       "      <td>91</td>\n",
       "      <td>ORDA09307</td>\n",
       "      <td>2018-09-30</td>\n",
       "      <td>16:57:27</td>\n",
       "      <td>Dinner</td>\n",
       "      <td>BK</td>\n",
       "      <td>[(Fish&amp;Chips, 3), (Shrimp, 2), (Pasta, 3), (Sa...</td>\n",
       "      <td>541.5</td>\n",
       "      <td>-37.824438</td>\n",
       "      <td>144.990431</td>\n",
       "      <td>0</td>\n",
       "      <td>6.662</td>\n",
       "      <td>7.972620</td>\n",
       "      <td>1</td>\n",
       "      <td>2</td>\n",
       "      <td>16.306248</td>\n",
       "      <td>91</td>\n",
       "      <td>-8.333629</td>\n",
       "    </tr>\n",
       "    <tr>\n",
       "      <td>105</td>\n",
       "      <td>ORDA04399</td>\n",
       "      <td>2018-10-18</td>\n",
       "      <td>17:38:01</td>\n",
       "      <td>Dinner</td>\n",
       "      <td>BK</td>\n",
       "      <td>[(Salmon, 4), (Pasta, 5), (Shrimp, 3), (Fish&amp;C...</td>\n",
       "      <td>533.5</td>\n",
       "      <td>-37.818721</td>\n",
       "      <td>144.967189</td>\n",
       "      <td>0</td>\n",
       "      <td>7.623</td>\n",
       "      <td>7.189867</td>\n",
       "      <td>0</td>\n",
       "      <td>2</td>\n",
       "      <td>14.563594</td>\n",
       "      <td>105</td>\n",
       "      <td>-7.373728</td>\n",
       "    </tr>\n",
       "    <tr>\n",
       "      <td>126</td>\n",
       "      <td>ORDX05795</td>\n",
       "      <td>2018-02-05</td>\n",
       "      <td>09:00:50</td>\n",
       "      <td>Breakfast</td>\n",
       "      <td>BK</td>\n",
       "      <td>[(Eggs, 7), (Cereal, 3), (Coffee, 9), (Pancake...</td>\n",
       "      <td>478.5</td>\n",
       "      <td>-37.820615</td>\n",
       "      <td>144.983734</td>\n",
       "      <td>0</td>\n",
       "      <td>6.488</td>\n",
       "      <td>5.530509</td>\n",
       "      <td>0</td>\n",
       "      <td>0</td>\n",
       "      <td>10.934662</td>\n",
       "      <td>126</td>\n",
       "      <td>-5.404153</td>\n",
       "    </tr>\n",
       "    <tr>\n",
       "      <td>134</td>\n",
       "      <td>ORDX01809</td>\n",
       "      <td>2018-02-26</td>\n",
       "      <td>09:51:32</td>\n",
       "      <td>Breakfast</td>\n",
       "      <td>BK</td>\n",
       "      <td>[(Cereal, 3), (Eggs, 3), (Coffee, 1), (Pancake...</td>\n",
       "      <td>233.5</td>\n",
       "      <td>-37.813030</td>\n",
       "      <td>144.995793</td>\n",
       "      <td>0</td>\n",
       "      <td>4.800</td>\n",
       "      <td>4.797914</td>\n",
       "      <td>0</td>\n",
       "      <td>0</td>\n",
       "      <td>9.517461</td>\n",
       "      <td>134</td>\n",
       "      <td>-4.719547</td>\n",
       "    </tr>\n",
       "    <tr>\n",
       "      <td>163</td>\n",
       "      <td>ORDX08996</td>\n",
       "      <td>2018-09-27</td>\n",
       "      <td>16:57:27</td>\n",
       "      <td>Dinner</td>\n",
       "      <td>BK</td>\n",
       "      <td>[(Pasta, 5), (Fish&amp;Chips, 9), (Salmon, 5)]</td>\n",
       "      <td>657.5</td>\n",
       "      <td>-37.802536</td>\n",
       "      <td>145.015988</td>\n",
       "      <td>0</td>\n",
       "      <td>5.782</td>\n",
       "      <td>6.128014</td>\n",
       "      <td>0</td>\n",
       "      <td>2</td>\n",
       "      <td>13.017938</td>\n",
       "      <td>163</td>\n",
       "      <td>-6.889923</td>\n",
       "    </tr>\n",
       "    <tr>\n",
       "      <td>282</td>\n",
       "      <td>ORDA08308</td>\n",
       "      <td>2018-05-29</td>\n",
       "      <td>12:54:05</td>\n",
       "      <td>Lunch</td>\n",
       "      <td>BK</td>\n",
       "      <td>[(Steak, 1), (Burger, 10), (Fries, 10)]</td>\n",
       "      <td>475.0</td>\n",
       "      <td>-37.816851</td>\n",
       "      <td>144.988154</td>\n",
       "      <td>0</td>\n",
       "      <td>5.797</td>\n",
       "      <td>18.019414</td>\n",
       "      <td>0</td>\n",
       "      <td>1</td>\n",
       "      <td>11.692524</td>\n",
       "      <td>282</td>\n",
       "      <td>6.326891</td>\n",
       "    </tr>\n",
       "    <tr>\n",
       "      <td>371</td>\n",
       "      <td>ORDX04323</td>\n",
       "      <td>2018-09-29</td>\n",
       "      <td>16:57:27</td>\n",
       "      <td>Dinner</td>\n",
       "      <td>BK</td>\n",
       "      <td>[(Salmon, 10), (Shrimp, 3), (Fish&amp;Chips, 7), (...</td>\n",
       "      <td>899.5</td>\n",
       "      <td>-37.801404</td>\n",
       "      <td>144.948358</td>\n",
       "      <td>0</td>\n",
       "      <td>9.021</td>\n",
       "      <td>28.045075</td>\n",
       "      <td>1</td>\n",
       "      <td>2</td>\n",
       "      <td>18.286804</td>\n",
       "      <td>371</td>\n",
       "      <td>9.758271</td>\n",
       "    </tr>\n",
       "  </tbody>\n",
       "</table>\n",
       "</div>"
      ],
      "text/plain": [
       "      order_id       date      time order_type branch_code  \\\n",
       "18   ORDK10351 2018-08-02  15:05:54      Lunch          BK   \n",
       "29   ORDA04107 2018-03-13  10:21:58  Breakfast          BK   \n",
       "73   ORDX02600 2018-01-10  08:10:08  Breakfast          BK   \n",
       "91   ORDA09307 2018-09-30  16:57:27     Dinner          BK   \n",
       "105  ORDA04399 2018-10-18  17:38:01     Dinner          BK   \n",
       "126  ORDX05795 2018-02-05  09:00:50  Breakfast          BK   \n",
       "134  ORDX01809 2018-02-26  09:51:32  Breakfast          BK   \n",
       "163  ORDX08996 2018-09-27  16:57:27     Dinner          BK   \n",
       "282  ORDA08308 2018-05-29  12:54:05      Lunch          BK   \n",
       "371  ORDX04323 2018-09-29  16:57:27     Dinner          BK   \n",
       "\n",
       "                                           order_items  order_price  \\\n",
       "18   [(Chicken, 5), (Fries, 5), (Salad, 3), (Steak,...        541.6   \n",
       "29                          [(Eggs, 8), (Pancake, 10)]        418.5   \n",
       "73   [(Coffee, 7), (Pancake, 8), (Cereal, 10), (Egg...        654.5   \n",
       "91   [(Fish&Chips, 3), (Shrimp, 2), (Pasta, 3), (Sa...        541.5   \n",
       "105  [(Salmon, 4), (Pasta, 5), (Shrimp, 3), (Fish&C...        533.5   \n",
       "126  [(Eggs, 7), (Cereal, 3), (Coffee, 9), (Pancake...        478.5   \n",
       "134  [(Cereal, 3), (Eggs, 3), (Coffee, 1), (Pancake...        233.5   \n",
       "163         [(Pasta, 5), (Fish&Chips, 9), (Salmon, 5)]        657.5   \n",
       "282            [(Steak, 1), (Burger, 10), (Fries, 10)]        475.0   \n",
       "371  [(Salmon, 10), (Shrimp, 3), (Fish&Chips, 7), (...        899.5   \n",
       "\n",
       "     customer_lat  customer_lon  customerHasloyalty?  distance_to_customer_KM  \\\n",
       "18     -37.800849    144.980357                    0                    6.708   \n",
       "29     -37.823877    144.981668                    0                    6.947   \n",
       "73     -37.813954    144.963645                    1                    7.720   \n",
       "91     -37.824438    144.990431                    0                    6.662   \n",
       "105    -37.818721    144.967189                    0                    7.623   \n",
       "126    -37.820615    144.983734                    0                    6.488   \n",
       "134    -37.813030    144.995793                    0                    4.800   \n",
       "163    -37.802536    145.015988                    0                    5.782   \n",
       "282    -37.816851    144.988154                    0                    5.797   \n",
       "371    -37.801404    144.948358                    0                    9.021   \n",
       "\n",
       "     delivery_fee  type_of_day  time_of_day  predicted_del_fee  x_value  \\\n",
       "18      19.864435            0            1          12.457376       18   \n",
       "29      17.098198            0            0          11.320027       29   \n",
       "73       2.958493            0            0           5.984509       73   \n",
       "91       7.972620            1            2          16.306248       91   \n",
       "105      7.189867            0            2          14.563594      105   \n",
       "126      5.530509            0            0          10.934662      126   \n",
       "134      4.797914            0            0           9.517461      134   \n",
       "163      6.128014            0            2          13.017938      163   \n",
       "282     18.019414            0            1          11.692524      282   \n",
       "371     28.045075            1            2          18.286804      371   \n",
       "\n",
       "     residuals  \n",
       "18    7.407059  \n",
       "29    5.778171  \n",
       "73   -3.026016  \n",
       "91   -8.333629  \n",
       "105  -7.373728  \n",
       "126  -5.404153  \n",
       "134  -4.719547  \n",
       "163  -6.889923  \n",
       "282   6.326891  \n",
       "371   9.758271  "
      ]
     },
     "execution_count": 187,
     "metadata": {},
     "output_type": "execute_result"
    }
   ],
   "source": [
    "detected_out_bk = outliers_branch_bk[~((outliers_branch_bk['residuals']>lower_bk)&\n",
    "                     (outliers_branch_bk['residuals']<upper_bk))]\n",
    "\n",
    "\n",
    "#Getting all the index values of the outliers in the bk branch.\n",
    "bk_index = list(detected_out_bk.index.values.astype(int))\n",
    "\n",
    "print(f'The number of outliers in the branch bk are {len(detected_out_bk)}')\n",
    "\n",
    "detected_out_bk"
   ]
  },
  {
   "cell_type": "code",
   "execution_count": 188,
   "metadata": {},
   "outputs": [
    {
     "name": "stdout",
     "output_type": "stream",
     "text": [
      "The number of outliers in the branch tp are 9\n"
     ]
    },
    {
     "data": {
      "text/html": [
       "<div>\n",
       "<style scoped>\n",
       "    .dataframe tbody tr th:only-of-type {\n",
       "        vertical-align: middle;\n",
       "    }\n",
       "\n",
       "    .dataframe tbody tr th {\n",
       "        vertical-align: top;\n",
       "    }\n",
       "\n",
       "    .dataframe thead th {\n",
       "        text-align: right;\n",
       "    }\n",
       "</style>\n",
       "<table border=\"1\" class=\"dataframe\">\n",
       "  <thead>\n",
       "    <tr style=\"text-align: right;\">\n",
       "      <th></th>\n",
       "      <th>order_id</th>\n",
       "      <th>date</th>\n",
       "      <th>time</th>\n",
       "      <th>order_type</th>\n",
       "      <th>branch_code</th>\n",
       "      <th>order_items</th>\n",
       "      <th>order_price</th>\n",
       "      <th>customer_lat</th>\n",
       "      <th>customer_lon</th>\n",
       "      <th>customerHasloyalty?</th>\n",
       "      <th>distance_to_customer_KM</th>\n",
       "      <th>delivery_fee</th>\n",
       "      <th>type_of_day</th>\n",
       "      <th>time_of_day</th>\n",
       "      <th>predicted_del_fee</th>\n",
       "      <th>x_value</th>\n",
       "      <th>residuals</th>\n",
       "    </tr>\n",
       "  </thead>\n",
       "  <tbody>\n",
       "    <tr>\n",
       "      <td>82</td>\n",
       "      <td>ORDB01992</td>\n",
       "      <td>2018-07-13</td>\n",
       "      <td>14:25:21</td>\n",
       "      <td>Lunch</td>\n",
       "      <td>TP</td>\n",
       "      <td>[(Steak, 10), (Burger, 9), (Fries, 1)]</td>\n",
       "      <td>741.00</td>\n",
       "      <td>-37.818459</td>\n",
       "      <td>145.007686</td>\n",
       "      <td>0</td>\n",
       "      <td>11.480</td>\n",
       "      <td>7.279089</td>\n",
       "      <td>0</td>\n",
       "      <td>1</td>\n",
       "      <td>14.027758</td>\n",
       "      <td>82</td>\n",
       "      <td>-6.748669</td>\n",
       "    </tr>\n",
       "    <tr>\n",
       "      <td>86</td>\n",
       "      <td>ORDY08944</td>\n",
       "      <td>2018-06-13</td>\n",
       "      <td>13:24:30</td>\n",
       "      <td>Lunch</td>\n",
       "      <td>TP</td>\n",
       "      <td>[(Chicken, 1), (Fries, 2), (Burger, 7), (Steak...</td>\n",
       "      <td>498.00</td>\n",
       "      <td>-37.811393</td>\n",
       "      <td>144.953334</td>\n",
       "      <td>0</td>\n",
       "      <td>8.957</td>\n",
       "      <td>18.633139</td>\n",
       "      <td>0</td>\n",
       "      <td>1</td>\n",
       "      <td>12.145600</td>\n",
       "      <td>86</td>\n",
       "      <td>6.487539</td>\n",
       "    </tr>\n",
       "    <tr>\n",
       "      <td>136</td>\n",
       "      <td>ORDB01066</td>\n",
       "      <td>2018-04-14</td>\n",
       "      <td>11:22:49</td>\n",
       "      <td>Breakfast</td>\n",
       "      <td>TP</td>\n",
       "      <td>[(Coffee, 8), (Pancake, 5), (Eggs, 7), (Cereal...</td>\n",
       "      <td>503.25</td>\n",
       "      <td>-37.825172</td>\n",
       "      <td>144.970144</td>\n",
       "      <td>0</td>\n",
       "      <td>8.222</td>\n",
       "      <td>6.368985</td>\n",
       "      <td>1</td>\n",
       "      <td>0</td>\n",
       "      <td>11.916487</td>\n",
       "      <td>136</td>\n",
       "      <td>-5.547502</td>\n",
       "    </tr>\n",
       "    <tr>\n",
       "      <td>162</td>\n",
       "      <td>ORDY06148</td>\n",
       "      <td>2018-06-26</td>\n",
       "      <td>13:44:47</td>\n",
       "      <td>Lunch</td>\n",
       "      <td>TP</td>\n",
       "      <td>[(Burger, 9), (Salad, 1), (Chicken, 5), (Steak...</td>\n",
       "      <td>546.20</td>\n",
       "      <td>-37.822105</td>\n",
       "      <td>144.956734</td>\n",
       "      <td>0</td>\n",
       "      <td>8.061</td>\n",
       "      <td>5.415970</td>\n",
       "      <td>0</td>\n",
       "      <td>1</td>\n",
       "      <td>11.477184</td>\n",
       "      <td>162</td>\n",
       "      <td>-6.061214</td>\n",
       "    </tr>\n",
       "    <tr>\n",
       "      <td>170</td>\n",
       "      <td>ORDY10311</td>\n",
       "      <td>2018-04-12</td>\n",
       "      <td>11:12:40</td>\n",
       "      <td>Breakfast</td>\n",
       "      <td>TP</td>\n",
       "      <td>[(Coffee, 7), (Eggs, 9), (Cereal, 10)]</td>\n",
       "      <td>460.50</td>\n",
       "      <td>-37.813903</td>\n",
       "      <td>144.961731</td>\n",
       "      <td>0</td>\n",
       "      <td>8.279</td>\n",
       "      <td>17.077268</td>\n",
       "      <td>0</td>\n",
       "      <td>0</td>\n",
       "      <td>10.387171</td>\n",
       "      <td>170</td>\n",
       "      <td>6.690097</td>\n",
       "    </tr>\n",
       "    <tr>\n",
       "      <td>186</td>\n",
       "      <td>ORDJ04533</td>\n",
       "      <td>2018-07-10</td>\n",
       "      <td>14:15:12</td>\n",
       "      <td>Lunch</td>\n",
       "      <td>TP</td>\n",
       "      <td>[(Burger, 7), (Fries, 2)]</td>\n",
       "      <td>241.00</td>\n",
       "      <td>-37.824721</td>\n",
       "      <td>144.982706</td>\n",
       "      <td>0</td>\n",
       "      <td>8.852</td>\n",
       "      <td>6.067355</td>\n",
       "      <td>0</td>\n",
       "      <td>1</td>\n",
       "      <td>12.067270</td>\n",
       "      <td>186</td>\n",
       "      <td>-5.999916</td>\n",
       "    </tr>\n",
       "    <tr>\n",
       "      <td>268</td>\n",
       "      <td>ORDJ09405</td>\n",
       "      <td>2018-05-07</td>\n",
       "      <td>12:03:22</td>\n",
       "      <td>Lunch</td>\n",
       "      <td>TP</td>\n",
       "      <td>[(Steak, 4), (Chicken, 5), (Salad, 10), (Burge...</td>\n",
       "      <td>667.00</td>\n",
       "      <td>-37.813410</td>\n",
       "      <td>144.962113</td>\n",
       "      <td>0</td>\n",
       "      <td>8.187</td>\n",
       "      <td>17.753392</td>\n",
       "      <td>0</td>\n",
       "      <td>1</td>\n",
       "      <td>11.571180</td>\n",
       "      <td>268</td>\n",
       "      <td>6.182212</td>\n",
       "    </tr>\n",
       "    <tr>\n",
       "      <td>296</td>\n",
       "      <td>ORDB09789</td>\n",
       "      <td>2018-02-08</td>\n",
       "      <td>09:10:59</td>\n",
       "      <td>Breakfast</td>\n",
       "      <td>TP</td>\n",
       "      <td>[(Cereal, 8), (Coffee, 6)]</td>\n",
       "      <td>213.00</td>\n",
       "      <td>-37.821566</td>\n",
       "      <td>144.980524</td>\n",
       "      <td>0</td>\n",
       "      <td>8.702</td>\n",
       "      <td>5.582724</td>\n",
       "      <td>0</td>\n",
       "      <td>0</td>\n",
       "      <td>10.702729</td>\n",
       "      <td>296</td>\n",
       "      <td>-5.120005</td>\n",
       "    </tr>\n",
       "    <tr>\n",
       "      <td>458</td>\n",
       "      <td>ORDY04877</td>\n",
       "      <td>2018-10-26</td>\n",
       "      <td>17:48:10</td>\n",
       "      <td>Dinner</td>\n",
       "      <td>TP</td>\n",
       "      <td>[(Shrimp, 4), (Pasta, 10), (Fish&amp;Chips, 2)]</td>\n",
       "      <td>561.00</td>\n",
       "      <td>-37.806849</td>\n",
       "      <td>144.997909</td>\n",
       "      <td>0</td>\n",
       "      <td>11.302</td>\n",
       "      <td>22.279332</td>\n",
       "      <td>0</td>\n",
       "      <td>2</td>\n",
       "      <td>15.147611</td>\n",
       "      <td>458</td>\n",
       "      <td>7.131722</td>\n",
       "    </tr>\n",
       "  </tbody>\n",
       "</table>\n",
       "</div>"
      ],
      "text/plain": [
       "      order_id       date      time order_type branch_code  \\\n",
       "82   ORDB01992 2018-07-13  14:25:21      Lunch          TP   \n",
       "86   ORDY08944 2018-06-13  13:24:30      Lunch          TP   \n",
       "136  ORDB01066 2018-04-14  11:22:49  Breakfast          TP   \n",
       "162  ORDY06148 2018-06-26  13:44:47      Lunch          TP   \n",
       "170  ORDY10311 2018-04-12  11:12:40  Breakfast          TP   \n",
       "186  ORDJ04533 2018-07-10  14:15:12      Lunch          TP   \n",
       "268  ORDJ09405 2018-05-07  12:03:22      Lunch          TP   \n",
       "296  ORDB09789 2018-02-08  09:10:59  Breakfast          TP   \n",
       "458  ORDY04877 2018-10-26  17:48:10     Dinner          TP   \n",
       "\n",
       "                                           order_items  order_price  \\\n",
       "82              [(Steak, 10), (Burger, 9), (Fries, 1)]       741.00   \n",
       "86   [(Chicken, 1), (Fries, 2), (Burger, 7), (Steak...       498.00   \n",
       "136  [(Coffee, 8), (Pancake, 5), (Eggs, 7), (Cereal...       503.25   \n",
       "162  [(Burger, 9), (Salad, 1), (Chicken, 5), (Steak...       546.20   \n",
       "170             [(Coffee, 7), (Eggs, 9), (Cereal, 10)]       460.50   \n",
       "186                          [(Burger, 7), (Fries, 2)]       241.00   \n",
       "268  [(Steak, 4), (Chicken, 5), (Salad, 10), (Burge...       667.00   \n",
       "296                         [(Cereal, 8), (Coffee, 6)]       213.00   \n",
       "458        [(Shrimp, 4), (Pasta, 10), (Fish&Chips, 2)]       561.00   \n",
       "\n",
       "     customer_lat  customer_lon  customerHasloyalty?  distance_to_customer_KM  \\\n",
       "82     -37.818459    145.007686                    0                   11.480   \n",
       "86     -37.811393    144.953334                    0                    8.957   \n",
       "136    -37.825172    144.970144                    0                    8.222   \n",
       "162    -37.822105    144.956734                    0                    8.061   \n",
       "170    -37.813903    144.961731                    0                    8.279   \n",
       "186    -37.824721    144.982706                    0                    8.852   \n",
       "268    -37.813410    144.962113                    0                    8.187   \n",
       "296    -37.821566    144.980524                    0                    8.702   \n",
       "458    -37.806849    144.997909                    0                   11.302   \n",
       "\n",
       "     delivery_fee  type_of_day  time_of_day  predicted_del_fee  x_value  \\\n",
       "82       7.279089            0            1          14.027758       82   \n",
       "86      18.633139            0            1          12.145600       86   \n",
       "136      6.368985            1            0          11.916487      136   \n",
       "162      5.415970            0            1          11.477184      162   \n",
       "170     17.077268            0            0          10.387171      170   \n",
       "186      6.067355            0            1          12.067270      186   \n",
       "268     17.753392            0            1          11.571180      268   \n",
       "296      5.582724            0            0          10.702729      296   \n",
       "458     22.279332            0            2          15.147611      458   \n",
       "\n",
       "     residuals  \n",
       "82   -6.748669  \n",
       "86    6.487539  \n",
       "136  -5.547502  \n",
       "162  -6.061214  \n",
       "170   6.690097  \n",
       "186  -5.999916  \n",
       "268   6.182212  \n",
       "296  -5.120005  \n",
       "458   7.131722  "
      ]
     },
     "execution_count": 188,
     "metadata": {},
     "output_type": "execute_result"
    }
   ],
   "source": [
    "detected_out_tp = outliers_branch_tp[~((outliers_branch_tp['residuals']>lower_tp)&\n",
    "                     (outliers_branch_tp['residuals']<upper_tp))]\n",
    "\n",
    "#Getting all the index values of the outliers in the tp branch.\n",
    "tp_index = list(detected_out_tp.index.values.astype(int))\n",
    "\n",
    "print(f'The number of outliers in the branch tp are {len(detected_out_tp)}')\n",
    "\n",
    "detected_out_tp"
   ]
  },
  {
   "cell_type": "code",
   "execution_count": 189,
   "metadata": {},
   "outputs": [
    {
     "name": "stdout",
     "output_type": "stream",
     "text": [
      "The number of outliers in the branch ns are 11\n"
     ]
    },
    {
     "data": {
      "text/html": [
       "<div>\n",
       "<style scoped>\n",
       "    .dataframe tbody tr th:only-of-type {\n",
       "        vertical-align: middle;\n",
       "    }\n",
       "\n",
       "    .dataframe tbody tr th {\n",
       "        vertical-align: top;\n",
       "    }\n",
       "\n",
       "    .dataframe thead th {\n",
       "        text-align: right;\n",
       "    }\n",
       "</style>\n",
       "<table border=\"1\" class=\"dataframe\">\n",
       "  <thead>\n",
       "    <tr style=\"text-align: right;\">\n",
       "      <th></th>\n",
       "      <th>order_id</th>\n",
       "      <th>date</th>\n",
       "      <th>time</th>\n",
       "      <th>order_type</th>\n",
       "      <th>branch_code</th>\n",
       "      <th>order_items</th>\n",
       "      <th>order_price</th>\n",
       "      <th>customer_lat</th>\n",
       "      <th>customer_lon</th>\n",
       "      <th>customerHasloyalty?</th>\n",
       "      <th>distance_to_customer_KM</th>\n",
       "      <th>delivery_fee</th>\n",
       "      <th>type_of_day</th>\n",
       "      <th>time_of_day</th>\n",
       "      <th>predicted_del_fee</th>\n",
       "      <th>x_value</th>\n",
       "      <th>residuals</th>\n",
       "    </tr>\n",
       "  </thead>\n",
       "  <tbody>\n",
       "    <tr>\n",
       "      <td>28</td>\n",
       "      <td>ORDI10038</td>\n",
       "      <td>2018-01-03</td>\n",
       "      <td>08:00:00</td>\n",
       "      <td>Breakfast</td>\n",
       "      <td>NS</td>\n",
       "      <td>[(Eggs, 5), (Pancake, 9)]</td>\n",
       "      <td>328.25</td>\n",
       "      <td>-37.799820</td>\n",
       "      <td>145.014797</td>\n",
       "      <td>1</td>\n",
       "      <td>10.636</td>\n",
       "      <td>3.786059</td>\n",
       "      <td>0</td>\n",
       "      <td>0</td>\n",
       "      <td>7.097078</td>\n",
       "      <td>28</td>\n",
       "      <td>-3.311019</td>\n",
       "    </tr>\n",
       "    <tr>\n",
       "      <td>95</td>\n",
       "      <td>ORDZ03789</td>\n",
       "      <td>2018-10-28</td>\n",
       "      <td>17:58:18</td>\n",
       "      <td>Dinner</td>\n",
       "      <td>NS</td>\n",
       "      <td>[(Fish&amp;Chips, 2), (Shrimp, 2), (Pasta, 1)]</td>\n",
       "      <td>205.50</td>\n",
       "      <td>-37.821319</td>\n",
       "      <td>144.990853</td>\n",
       "      <td>0</td>\n",
       "      <td>9.600</td>\n",
       "      <td>26.212200</td>\n",
       "      <td>1</td>\n",
       "      <td>2</td>\n",
       "      <td>17.366278</td>\n",
       "      <td>95</td>\n",
       "      <td>8.845921</td>\n",
       "    </tr>\n",
       "    <tr>\n",
       "      <td>204</td>\n",
       "      <td>ORDC01538</td>\n",
       "      <td>2018-01-30</td>\n",
       "      <td>08:50:42</td>\n",
       "      <td>Breakfast</td>\n",
       "      <td>NS</td>\n",
       "      <td>[(Pancake, 1), (Coffee, 9), (Eggs, 9)]</td>\n",
       "      <td>289.75</td>\n",
       "      <td>-37.798811</td>\n",
       "      <td>144.989180</td>\n",
       "      <td>0</td>\n",
       "      <td>8.054</td>\n",
       "      <td>19.626864</td>\n",
       "      <td>0</td>\n",
       "      <td>0</td>\n",
       "      <td>12.321082</td>\n",
       "      <td>204</td>\n",
       "      <td>7.305782</td>\n",
       "    </tr>\n",
       "    <tr>\n",
       "      <td>220</td>\n",
       "      <td>ORDI01266</td>\n",
       "      <td>2018-09-03</td>\n",
       "      <td>16:06:45</td>\n",
       "      <td>Dinner</td>\n",
       "      <td>NS</td>\n",
       "      <td>[(Salmon, 3), (Pasta, 3)]</td>\n",
       "      <td>205.50</td>\n",
       "      <td>-37.819135</td>\n",
       "      <td>145.010110</td>\n",
       "      <td>0</td>\n",
       "      <td>11.068</td>\n",
       "      <td>25.681283</td>\n",
       "      <td>0</td>\n",
       "      <td>2</td>\n",
       "      <td>16.619555</td>\n",
       "      <td>220</td>\n",
       "      <td>9.061728</td>\n",
       "    </tr>\n",
       "    <tr>\n",
       "      <td>279</td>\n",
       "      <td>ORDC08048</td>\n",
       "      <td>2018-03-17</td>\n",
       "      <td>10:21:58</td>\n",
       "      <td>Breakfast</td>\n",
       "      <td>NS</td>\n",
       "      <td>[(Coffee, 4), (Pancake, 10), (Cereal, 8)]</td>\n",
       "      <td>440.50</td>\n",
       "      <td>-37.820352</td>\n",
       "      <td>144.982628</td>\n",
       "      <td>0</td>\n",
       "      <td>9.084</td>\n",
       "      <td>8.135430</td>\n",
       "      <td>1</td>\n",
       "      <td>0</td>\n",
       "      <td>14.879943</td>\n",
       "      <td>279</td>\n",
       "      <td>-6.744512</td>\n",
       "    </tr>\n",
       "    <tr>\n",
       "      <td>307</td>\n",
       "      <td>ORDC00383</td>\n",
       "      <td>2018-01-13</td>\n",
       "      <td>08:20:16</td>\n",
       "      <td>Breakfast</td>\n",
       "      <td>NS</td>\n",
       "      <td>[(Pancake, 10), (Coffee, 10), (Cereal, 2), (Eg...</td>\n",
       "      <td>447.50</td>\n",
       "      <td>-37.819273</td>\n",
       "      <td>144.988521</td>\n",
       "      <td>1</td>\n",
       "      <td>9.244</td>\n",
       "      <td>4.038561</td>\n",
       "      <td>1</td>\n",
       "      <td>0</td>\n",
       "      <td>7.498006</td>\n",
       "      <td>307</td>\n",
       "      <td>-3.459445</td>\n",
       "    </tr>\n",
       "    <tr>\n",
       "      <td>391</td>\n",
       "      <td>ORDI10339</td>\n",
       "      <td>2018-12-24</td>\n",
       "      <td>19:49:51</td>\n",
       "      <td>Dinner</td>\n",
       "      <td>NS</td>\n",
       "      <td>[(Pasta, 6), (Salmon, 3)]</td>\n",
       "      <td>288.00</td>\n",
       "      <td>-37.813670</td>\n",
       "      <td>144.974200</td>\n",
       "      <td>0</td>\n",
       "      <td>7.719</td>\n",
       "      <td>20.038793</td>\n",
       "      <td>0</td>\n",
       "      <td>2</td>\n",
       "      <td>14.190072</td>\n",
       "      <td>391</td>\n",
       "      <td>5.848721</td>\n",
       "    </tr>\n",
       "    <tr>\n",
       "      <td>432</td>\n",
       "      <td>ORDZ09052</td>\n",
       "      <td>2018-01-19</td>\n",
       "      <td>08:30:25</td>\n",
       "      <td>Breakfast</td>\n",
       "      <td>NS</td>\n",
       "      <td>[(Coffee, 6), (Eggs, 10), (Cereal, 9)]</td>\n",
       "      <td>454.00</td>\n",
       "      <td>-37.822660</td>\n",
       "      <td>144.955517</td>\n",
       "      <td>0</td>\n",
       "      <td>9.531</td>\n",
       "      <td>22.515346</td>\n",
       "      <td>0</td>\n",
       "      <td>0</td>\n",
       "      <td>13.392550</td>\n",
       "      <td>432</td>\n",
       "      <td>9.122796</td>\n",
       "    </tr>\n",
       "    <tr>\n",
       "      <td>456</td>\n",
       "      <td>ORDZ03060</td>\n",
       "      <td>2018-06-04</td>\n",
       "      <td>13:04:13</td>\n",
       "      <td>Lunch</td>\n",
       "      <td>NS</td>\n",
       "      <td>[(Fries, 6), (Steak, 8), (Burger, 7)]</td>\n",
       "      <td>649.00</td>\n",
       "      <td>-37.807394</td>\n",
       "      <td>144.998682</td>\n",
       "      <td>0</td>\n",
       "      <td>9.084</td>\n",
       "      <td>21.836652</td>\n",
       "      <td>0</td>\n",
       "      <td>1</td>\n",
       "      <td>14.124286</td>\n",
       "      <td>456</td>\n",
       "      <td>7.712367</td>\n",
       "    </tr>\n",
       "    <tr>\n",
       "      <td>488</td>\n",
       "      <td>ORDZ05817</td>\n",
       "      <td>2018-09-25</td>\n",
       "      <td>16:47:19</td>\n",
       "      <td>Dinner</td>\n",
       "      <td>NS</td>\n",
       "      <td>[(Shrimp, 10), (Pasta, 2), (Salmon, 4)]</td>\n",
       "      <td>759.00</td>\n",
       "      <td>-37.823145</td>\n",
       "      <td>144.978191</td>\n",
       "      <td>0</td>\n",
       "      <td>8.877</td>\n",
       "      <td>7.590410</td>\n",
       "      <td>0</td>\n",
       "      <td>2</td>\n",
       "      <td>15.030126</td>\n",
       "      <td>488</td>\n",
       "      <td>-7.439717</td>\n",
       "    </tr>\n",
       "    <tr>\n",
       "      <td>489</td>\n",
       "      <td>ORDI00050</td>\n",
       "      <td>2018-10-22</td>\n",
       "      <td>17:48:10</td>\n",
       "      <td>Dinner</td>\n",
       "      <td>NS</td>\n",
       "      <td>[(Pasta, 7), (Salmon, 10)]</td>\n",
       "      <td>602.50</td>\n",
       "      <td>-37.812888</td>\n",
       "      <td>144.937481</td>\n",
       "      <td>0</td>\n",
       "      <td>9.899</td>\n",
       "      <td>24.133574</td>\n",
       "      <td>0</td>\n",
       "      <td>2</td>\n",
       "      <td>15.771521</td>\n",
       "      <td>489</td>\n",
       "      <td>8.362053</td>\n",
       "    </tr>\n",
       "  </tbody>\n",
       "</table>\n",
       "</div>"
      ],
      "text/plain": [
       "      order_id       date      time order_type branch_code  \\\n",
       "28   ORDI10038 2018-01-03  08:00:00  Breakfast          NS   \n",
       "95   ORDZ03789 2018-10-28  17:58:18     Dinner          NS   \n",
       "204  ORDC01538 2018-01-30  08:50:42  Breakfast          NS   \n",
       "220  ORDI01266 2018-09-03  16:06:45     Dinner          NS   \n",
       "279  ORDC08048 2018-03-17  10:21:58  Breakfast          NS   \n",
       "307  ORDC00383 2018-01-13  08:20:16  Breakfast          NS   \n",
       "391  ORDI10339 2018-12-24  19:49:51     Dinner          NS   \n",
       "432  ORDZ09052 2018-01-19  08:30:25  Breakfast          NS   \n",
       "456  ORDZ03060 2018-06-04  13:04:13      Lunch          NS   \n",
       "488  ORDZ05817 2018-09-25  16:47:19     Dinner          NS   \n",
       "489  ORDI00050 2018-10-22  17:48:10     Dinner          NS   \n",
       "\n",
       "                                           order_items  order_price  \\\n",
       "28                           [(Eggs, 5), (Pancake, 9)]       328.25   \n",
       "95          [(Fish&Chips, 2), (Shrimp, 2), (Pasta, 1)]       205.50   \n",
       "204             [(Pancake, 1), (Coffee, 9), (Eggs, 9)]       289.75   \n",
       "220                          [(Salmon, 3), (Pasta, 3)]       205.50   \n",
       "279          [(Coffee, 4), (Pancake, 10), (Cereal, 8)]       440.50   \n",
       "307  [(Pancake, 10), (Coffee, 10), (Cereal, 2), (Eg...       447.50   \n",
       "391                          [(Pasta, 6), (Salmon, 3)]       288.00   \n",
       "432             [(Coffee, 6), (Eggs, 10), (Cereal, 9)]       454.00   \n",
       "456              [(Fries, 6), (Steak, 8), (Burger, 7)]       649.00   \n",
       "488            [(Shrimp, 10), (Pasta, 2), (Salmon, 4)]       759.00   \n",
       "489                         [(Pasta, 7), (Salmon, 10)]       602.50   \n",
       "\n",
       "     customer_lat  customer_lon  customerHasloyalty?  distance_to_customer_KM  \\\n",
       "28     -37.799820    145.014797                    1                   10.636   \n",
       "95     -37.821319    144.990853                    0                    9.600   \n",
       "204    -37.798811    144.989180                    0                    8.054   \n",
       "220    -37.819135    145.010110                    0                   11.068   \n",
       "279    -37.820352    144.982628                    0                    9.084   \n",
       "307    -37.819273    144.988521                    1                    9.244   \n",
       "391    -37.813670    144.974200                    0                    7.719   \n",
       "432    -37.822660    144.955517                    0                    9.531   \n",
       "456    -37.807394    144.998682                    0                    9.084   \n",
       "488    -37.823145    144.978191                    0                    8.877   \n",
       "489    -37.812888    144.937481                    0                    9.899   \n",
       "\n",
       "     delivery_fee  type_of_day  time_of_day  predicted_del_fee  x_value  \\\n",
       "28       3.786059            0            0           7.097078       28   \n",
       "95      26.212200            1            2          17.366278       95   \n",
       "204     19.626864            0            0          12.321082      204   \n",
       "220     25.681283            0            2          16.619555      220   \n",
       "279      8.135430            1            0          14.879943      279   \n",
       "307      4.038561            1            0           7.498006      307   \n",
       "391     20.038793            0            2          14.190072      391   \n",
       "432     22.515346            0            0          13.392550      432   \n",
       "456     21.836652            0            1          14.124286      456   \n",
       "488      7.590410            0            2          15.030126      488   \n",
       "489     24.133574            0            2          15.771521      489   \n",
       "\n",
       "     residuals  \n",
       "28   -3.311019  \n",
       "95    8.845921  \n",
       "204   7.305782  \n",
       "220   9.061728  \n",
       "279  -6.744512  \n",
       "307  -3.459445  \n",
       "391   5.848721  \n",
       "432   9.122796  \n",
       "456   7.712367  \n",
       "488  -7.439717  \n",
       "489   8.362053  "
      ]
     },
     "execution_count": 189,
     "metadata": {},
     "output_type": "execute_result"
    }
   ],
   "source": [
    "detected_out_ns = outliers_branch_ns[~((outliers_branch_ns['residuals']>lower_ns)&\n",
    "                     (outliers_branch_ns['residuals']<upper_ns))]\n",
    "\n",
    "#Getting all the index values of the outliers in the ns branch.\n",
    "ns_index = list(detected_out_ns.index.values.astype(int))\n",
    "\n",
    "\n",
    "print(f'The number of outliers in the branch ns are {len(detected_out_ns)}')\n",
    "\n",
    "detected_out_ns"
   ]
  },
  {
   "cell_type": "markdown",
   "metadata": {},
   "source": [
    "Checking all the above cells in detecting the we have identified 9 in each of the branches which results in a total of 27 outliers and hence dropping these rows to produced output outliers file."
   ]
  },
  {
   "cell_type": "code",
   "execution_count": 190,
   "metadata": {},
   "outputs": [],
   "source": [
    "drop_index = bk_index + tp_index + ns_index\n",
    "\n",
    "#dropping the outlier rows gathered from the above analysis.\n",
    "outlier_data_df = outlier_data_df.drop(drop_index).reset_index().drop(['index'],axis=1)\n"
   ]
  },
  {
   "cell_type": "markdown",
   "metadata": {},
   "source": [
    "Hence we have removed all the outliers from the outliers data file."
   ]
  },
  {
   "cell_type": "code",
   "execution_count": 191,
   "metadata": {},
   "outputs": [
    {
     "data": {
      "text/plain": [
       "Index(['order_id', 'date', 'time', 'order_type', 'branch_code', 'order_items',\n",
       "       'order_price', 'customer_lat', 'customer_lon', 'customerHasloyalty?',\n",
       "       'distance_to_customer_KM', 'delivery_fee', 'type_of_day',\n",
       "       'time_of_day'],\n",
       "      dtype='object')"
      ]
     },
     "execution_count": 191,
     "metadata": {},
     "output_type": "execute_result"
    }
   ],
   "source": [
    "outlier_data_df.columns"
   ]
  },
  {
   "cell_type": "code",
   "execution_count": 192,
   "metadata": {},
   "outputs": [],
   "source": [
    "# dropping the irrelevant columns in outlier_data_df dataframe\n",
    "outlier_data_df = outlier_data_df.drop(['type_of_day','time_of_day'], axis= 1)"
   ]
  },
  {
   "cell_type": "code",
   "execution_count": 193,
   "metadata": {},
   "outputs": [
    {
     "data": {
      "text/plain": [
       "Index(['order_id', 'date', 'time', 'order_type', 'branch_code', 'order_items',\n",
       "       'order_price', 'customer_lat', 'customer_lon', 'customerHasloyalty?',\n",
       "       'distance_to_customer_KM', 'delivery_fee'],\n",
       "      dtype='object')"
      ]
     },
     "execution_count": 193,
     "metadata": {},
     "output_type": "execute_result"
    }
   ],
   "source": [
    "outlier_data_df.columns"
   ]
  },
  {
   "cell_type": "code",
   "execution_count": 194,
   "metadata": {},
   "outputs": [
    {
     "data": {
      "text/plain": [
       "Index(['order_id', 'date', 'time', 'order_type', 'branch_code', 'order_items',\n",
       "       'order_price', 'customer_lat', 'customer_lon', 'customerHasloyalty?',\n",
       "       'distance_to_customer_KM', 'delivery_fee', 'type_of_day', 'time_of_day',\n",
       "       'calculated_del_fee', 'ratio'],\n",
       "      dtype='object')"
      ]
     },
     "execution_count": 194,
     "metadata": {},
     "output_type": "execute_result"
    }
   ],
   "source": [
    "dirty_data_df.columns"
   ]
  },
  {
   "cell_type": "code",
   "execution_count": 199,
   "metadata": {},
   "outputs": [],
   "source": [
    "# dropping irrelevent columns in dirty_data_df dataframe\n",
    "dirty_data_df = dirty_data_df.drop(['type_of_day','time_of_day','calculated_del_fee','ratio'], axis= 1)"
   ]
  },
  {
   "cell_type": "code",
   "execution_count": 200,
   "metadata": {},
   "outputs": [
    {
     "data": {
      "text/plain": [
       "Index(['order_id', 'date', 'time', 'order_type', 'branch_code', 'order_items',\n",
       "       'order_price', 'customer_lat', 'customer_lon', 'customerHasloyalty?',\n",
       "       'distance_to_customer_KM', 'delivery_fee'],\n",
       "      dtype='object')"
      ]
     },
     "execution_count": 200,
     "metadata": {},
     "output_type": "execute_result"
    }
   ],
   "source": [
    "dirty_data_df.columns"
   ]
  },
  {
   "cell_type": "markdown",
   "metadata": {},
   "source": [
    "Generating all three csv files."
   ]
  },
  {
   "cell_type": "code",
   "execution_count": 201,
   "metadata": {},
   "outputs": [],
   "source": [
    "dirty_data_df.to_csv(r'group053_dirty_data_solution.csv',index=False)\n",
    "missing_data_df.to_csv(r'group053_missing_data_solution.csv',index=False)\n",
    "outlier_data_df.to_csv(r'group053_outlier_data_solution.csv',index=False)"
   ]
  },
  {
   "cell_type": "markdown",
   "metadata": {},
   "source": [
    "## Summary\n",
    "The main outcomes of Data Cleansing Assessement are as follows:\n",
    "- **Dirty Data Cleaning** finding syntacic errors and semantic errors in the file and cleaning them using pandas module methods.\n",
    "- **networkx package** usage of networkx package to find the shortest distance between branch and customer location in the dirty and missing data files.\n",
    "- **numpy.linalg** usage python package to solve a linera system of equations ( to find the order price column in the dirty data file).\n",
    "- **Missing Data file** missing values had been imputed in the columns branch_code, distance_to_customer_KM and delivery fee(using linear regressio model delivery column values are imputed).\n",
    "- **Outliers Data file** outliers had been identified in the column delivery fee and removed using 3sigma rule based on the models built."
   ]
  },
  {
   "cell_type": "markdown",
   "metadata": {},
   "source": [
    "## References\n",
    "- The `pandas` Project. (2016a). *pandas 0.19.2 documentation: pandas.DataFrame.to_csv*. Retrieved from http://pandas.pydata.org/pandas-docs/stable/generated/pandas.DataFrame.to_csv.html#pandas.DataFrame.to_csv\n",
    "- The `pandas` Project. (2016c). *pandas 0.19.2 documentation: pandas.Series.map*. Retrieved from http://pandas.pydata.org/pandas-docs/stable/generated/pandas.Series.map.html\n",
    "- The `pandas` module. *Renaming column names*. [Response to]. Retrieved from https://stackoverflow.com/questions/11346283/renaming-columns-in-pandas\n",
    "- The `networkx` package. *to use djikstra algorithm*. [Response to]. Retrieved from https://networkx.github.io/documentation/stable/tutorial.html\n",
    "- The `matplotlib` module. *to visualise the data*. [Response to]. Retrieved from https://matplotlib.org/3.1.1/api/_as_gen/matplotlib.pyplot.scatter.html\n",
    "- The `seaborn` module. *to visualise the data*. [Response to]. Retrieved from https://seaborn.pydata.org/\n",
    "- The `sklearn` module. *used to build models*. [Response to]. Retrieved from https://towardsdatascience.com/simple-and-multiple-linear-regression-in-python-c928425168f9."
   ]
  }
 ],
 "metadata": {
  "kernelspec": {
   "display_name": "Python 3",
   "language": "python",
   "name": "python3"
  },
  "language_info": {
   "codemirror_mode": {
    "name": "ipython",
    "version": 3
   },
   "file_extension": ".py",
   "mimetype": "text/x-python",
   "name": "python",
   "nbconvert_exporter": "python",
   "pygments_lexer": "ipython3",
   "version": "3.6.5"
  }
 },
 "nbformat": 4,
 "nbformat_minor": 2
}
